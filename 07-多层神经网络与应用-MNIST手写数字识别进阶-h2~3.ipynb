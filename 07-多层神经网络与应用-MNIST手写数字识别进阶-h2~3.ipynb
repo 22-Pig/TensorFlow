{
 "cells": [
  {
   "cell_type": "markdown",
   "metadata": {},
   "source": [
    "## 载入数据"
   ]
  },
  {
   "cell_type": "code",
   "execution_count": 1,
   "metadata": {},
   "outputs": [
    {
     "name": "stdout",
     "output_type": "stream",
     "text": [
      "WARNING:tensorflow:From <ipython-input-1-83238491c531>:7: read_data_sets (from tensorflow.contrib.learn.python.learn.datasets.mnist) is deprecated and will be removed in a future version.\n",
      "Instructions for updating:\n",
      "Please use alternatives such as official/mnist/dataset.py from tensorflow/models.\n",
      "WARNING:tensorflow:From d:\\ProgramData\\anaconda3\\envs\\tf1\\lib\\site-packages\\tensorflow_core\\contrib\\learn\\python\\learn\\datasets\\mnist.py:260: maybe_download (from tensorflow.contrib.learn.python.learn.datasets.base) is deprecated and will be removed in a future version.\n",
      "Instructions for updating:\n",
      "Please write your own downloading logic.\n",
      "WARNING:tensorflow:From d:\\ProgramData\\anaconda3\\envs\\tf1\\lib\\site-packages\\tensorflow_core\\contrib\\learn\\python\\learn\\datasets\\mnist.py:262: extract_images (from tensorflow.contrib.learn.python.learn.datasets.mnist) is deprecated and will be removed in a future version.\n",
      "Instructions for updating:\n",
      "Please use tf.data to implement this functionality.\n",
      "Extracting /data/MNIST_data/train-images-idx3-ubyte.gz\n",
      "WARNING:tensorflow:From d:\\ProgramData\\anaconda3\\envs\\tf1\\lib\\site-packages\\tensorflow_core\\contrib\\learn\\python\\learn\\datasets\\mnist.py:267: extract_labels (from tensorflow.contrib.learn.python.learn.datasets.mnist) is deprecated and will be removed in a future version.\n",
      "Instructions for updating:\n",
      "Please use tf.data to implement this functionality.\n",
      "Extracting /data/MNIST_data/train-labels-idx1-ubyte.gz\n",
      "WARNING:tensorflow:From d:\\ProgramData\\anaconda3\\envs\\tf1\\lib\\site-packages\\tensorflow_core\\contrib\\learn\\python\\learn\\datasets\\mnist.py:110: dense_to_one_hot (from tensorflow.contrib.learn.python.learn.datasets.mnist) is deprecated and will be removed in a future version.\n",
      "Instructions for updating:\n",
      "Please use tf.one_hot on tensors.\n",
      "Extracting /data/MNIST_data/t10k-images-idx3-ubyte.gz\n",
      "Extracting /data/MNIST_data/t10k-labels-idx1-ubyte.gz\n",
      "WARNING:tensorflow:From d:\\ProgramData\\anaconda3\\envs\\tf1\\lib\\site-packages\\tensorflow_core\\contrib\\learn\\python\\learn\\datasets\\mnist.py:290: DataSet.__init__ (from tensorflow.contrib.learn.python.learn.datasets.mnist) is deprecated and will be removed in a future version.\n",
      "Instructions for updating:\n",
      "Please use alternatives such as official/mnist/dataset.py from tensorflow/models.\n"
     ]
    }
   ],
   "source": [
    "import tensorflow as tf\n",
    "\n",
    "# 导入Tensorflow提供的读取MNIST的模块\n",
    "import tensorflow_core.examples.tutorials.mnist.input_data as input_data\n",
    "\n",
    "# 读取MNIST数据\n",
    "mnist = input_data.read_data_sets(\"/data/MNIST_data/\", one_hot=True)"
   ]
  },
  {
   "cell_type": "markdown",
   "metadata": {},
   "source": [
    "两层神经网络模型.py"
   ]
  },
  {
   "cell_type": "code",
   "execution_count": 2,
   "metadata": {},
   "outputs": [],
   "source": [
    "# 构建输入层\n",
    "x = tf.placeholder(tf.float32, [None, 784], name=\"X\")\n",
    "y = tf.placeholder(tf.float32, [None, 10], name=\"Y\")\n",
    "\n",
    "H1_NN = 256  # 第1隐藏层神经元为 256 个\n",
    "H2_NN = 64  # 第2隐藏层神经元为 64 个\n",
    "\n",
    "# 输入层 - 第1隐藏层参数和偏置项\n",
    "W1 = tf.Variable(tf.truncated_normal([784, H1_NN], stddev=0.1))\n",
    "b1 = tf.Variable(tf.zeros([H1_NN]))\n",
    "\n",
    "# 第1隐藏层 - 第2隐藏层参数和偏置项\n",
    "W2 = tf.Variable(tf.truncated_normal([H1_NN, H2_NN], stddev=0.1))\n",
    "b2 = tf.Variable(tf.zeros([H2_NN]))\n",
    "\n",
    "# 第2隐藏层 - 输出层参数和偏置项\n",
    "W3 = tf.Variable(tf.truncated_normal([H2_NN, 10], stddev=0.1))\n",
    "b3 = tf.Variable(tf.zeros([10]))\n",
    "\n",
    "# 计算第1隐藏层结果\n",
    "Y1 = tf.nn.relu(tf.matmul(x, W1) + b1)\n",
    "\n",
    "# 计算第2隐藏层结果\n",
    "Y2 = tf.nn.relu(tf.matmul(Y1, W2) + b2)\n",
    "\n",
    "# 计算输出结果\n",
    "forward = tf.matmul(Y2, W3) + b3\n",
    "pred = tf.nn.softmax(forward)"
   ]
  },
  {
   "cell_type": "markdown",
   "metadata": {},
   "source": [
    "三层神经网络模型.py"
   ]
  },
  {
   "cell_type": "code",
   "execution_count": null,
   "metadata": {},
   "outputs": [],
   "source": [
    "H1_NN = 256  # 第1隐藏层神经元为 256 个\n",
    "H2_NN = 64  # 第2隐藏层神经元为 64 个\n",
    "H3_NN = 32  # 第3隐藏层神经元为 32 个\n",
    "\n",
    "# 输入层 - 第1隐藏层参数和偏置项\n",
    "W1 = tf.Variable(tf.truncated_normal([784, H1_NN], stddev=0.1))\n",
    "b1 = tf.Variable(tf.zeros([H1_NN]))\n",
    "\n",
    "# 第1隐藏层 - 第2隐藏层参数和偏置项\n",
    "W2 = tf.Variable(tf.truncated_normal([H1_NN, H2_NN], stddev=0.1))\n",
    "b2 = tf.Variable(tf.zeros([H2_NN]))\n",
    "\n",
    "# 第2隐藏层 - 第3隐藏层参数和偏置项\n",
    "W3 = tf.Variable(tf.truncated_normal([H2_NN, H3_NN], stddev=0.1))\n",
    "b3 = tf.Variable(tf.zeros([H3_NN]))\n",
    "\n",
    "# 第3隐藏层 - 输出层参数和偏置项\n",
    "W4 = tf.Variable(tf.truncated_normal([H3_NN, 10], stddev=0.1))\n",
    "b4 = tf.Variable(tf.zeros([10]))\n",
    "\n",
    "# 计算第1隐藏层结果\n",
    "Y1 = tf.nn.relu(tf.matmul(x, W1) + b1)\n",
    "\n",
    "# 计算第2隐藏层结果\n",
    "Y2 = tf.nn.relu(tf.matmul(Y1, W2) + b2)\n",
    "\n",
    "# 计算第3隐藏层结果\n",
    "Y3 = tf.nn.relu(tf.matmul(Y2, W3) + b3)\n",
    "\n",
    "# 计算输出结果\n",
    "forward = tf.matmul(Y3, W4) + b4\n",
    "pred = tf.nn.softmax(forward)"
   ]
  },
  {
   "cell_type": "code",
   "execution_count": 3,
   "metadata": {},
   "outputs": [
    {
     "name": "stdout",
     "output_type": "stream",
     "text": [
      "WARNING:tensorflow:From <ipython-input-3-f2b9bb0ab5fc>:3: softmax_cross_entropy_with_logits (from tensorflow.python.ops.nn_ops) is deprecated and will be removed in a future version.\n",
      "Instructions for updating:\n",
      "\n",
      "Future major versions of TensorFlow will allow gradients to flow\n",
      "into the labels input on backprop by default.\n",
      "\n",
      "See `tf.nn.softmax_cross_entropy_with_logits_v2`.\n",
      "\n"
     ]
    }
   ],
   "source": [
    "# 定义损失函数\n",
    "loss_function = tf.reduce_mean(\n",
    "    tf.nn.softmax_cross_entropy_with_logits(logits=forward, labels=y)\n",
    ")\n",
    "\n",
    "# 设置训练参数\n",
    "train_epochs = 40\n",
    "batch_size = 50\n",
    "total_batch = int(mnist.train.num_examples / batch_size)\n",
    "display_step = 1\n",
    "learning_rate = 0.01\n",
    "\n",
    "# 选择优化器\n",
    "optimizer = tf.train.AdamOptimizer(learning_rate).minimize(loss_function)\n",
    "\n",
    "# 定义准确率\n",
    "correct_prediction = tf.equal(tf.argmax(y, 1), tf.argmax(pred, 1))\n",
    "accuracy = tf.reduce_mean(tf.cast(correct_prediction, tf.float32))"
   ]
  },
  {
   "cell_type": "code",
   "execution_count": 4,
   "metadata": {},
   "outputs": [
    {
     "name": "stdout",
     "output_type": "stream",
     "text": [
      "Train Epoch: 01 Loss= 0.165241867  Accuracy= 0.9538\n",
      "Train Epoch: 02 Loss= 0.141132221  Accuracy= 0.9614\n",
      "Train Epoch: 03 Loss= 0.166934744  Accuracy= 0.9584\n",
      "Train Epoch: 04 Loss= 0.148788795  Accuracy= 0.9674\n",
      "Train Epoch: 05 Loss= 0.163146868  Accuracy= 0.9622\n",
      "Train Epoch: 06 Loss= 0.131412342  Accuracy= 0.9706\n",
      "Train Epoch: 07 Loss= 0.151361391  Accuracy= 0.9654\n",
      "Train Epoch: 08 Loss= 0.163838014  Accuracy= 0.9672\n",
      "Train Epoch: 09 Loss= 0.156114399  Accuracy= 0.9704\n",
      "Train Epoch: 10 Loss= 0.133745804  Accuracy= 0.9732\n",
      "Train Epoch: 11 Loss= 0.132908404  Accuracy= 0.9766\n",
      "Train Epoch: 12 Loss= 0.153196469  Accuracy= 0.9668\n",
      "Train Epoch: 13 Loss= 0.169630438  Accuracy= 0.9724\n",
      "Train Epoch: 14 Loss= 0.167924464  Accuracy= 0.9726\n",
      "Train Epoch: 15 Loss= 0.174851909  Accuracy= 0.9734\n",
      "Train Epoch: 16 Loss= 0.214079782  Accuracy= 0.9680\n",
      "Train Epoch: 17 Loss= 0.165388301  Accuracy= 0.9720\n",
      "Train Epoch: 18 Loss= 0.187854990  Accuracy= 0.9692\n",
      "Train Epoch: 19 Loss= 0.223520562  Accuracy= 0.9724\n",
      "Train Epoch: 20 Loss= 0.213548735  Accuracy= 0.9712\n",
      "Train Epoch: 21 Loss= 0.185218170  Accuracy= 0.9742\n",
      "Train Epoch: 22 Loss= 0.207898095  Accuracy= 0.9674\n",
      "Train Epoch: 23 Loss= 0.230036452  Accuracy= 0.9708\n",
      "Train Epoch: 24 Loss= 0.192908287  Accuracy= 0.9752\n",
      "Train Epoch: 25 Loss= 0.217723340  Accuracy= 0.9760\n",
      "Train Epoch: 26 Loss= 0.218470529  Accuracy= 0.9714\n",
      "Train Epoch: 27 Loss= 0.255907953  Accuracy= 0.9632\n",
      "Train Epoch: 28 Loss= 0.284177601  Accuracy= 0.9726\n",
      "Train Epoch: 29 Loss= 0.259149432  Accuracy= 0.9732\n",
      "Train Epoch: 30 Loss= 0.334696680  Accuracy= 0.9752\n",
      "Train Epoch: 31 Loss= 0.240869358  Accuracy= 0.9726\n",
      "Train Epoch: 32 Loss= 0.289698958  Accuracy= 0.9748\n",
      "Train Epoch: 33 Loss= 0.279715210  Accuracy= 0.9720\n",
      "Train Epoch: 34 Loss= 0.289059371  Accuracy= 0.9708\n",
      "Train Epoch: 35 Loss= 0.335791707  Accuracy= 0.9754\n",
      "Train Epoch: 36 Loss= 0.259518951  Accuracy= 0.9726\n",
      "Train Epoch: 37 Loss= 0.396854252  Accuracy= 0.9712\n",
      "Train Epoch: 38 Loss= 0.314924330  Accuracy= 0.9746\n",
      "Train Epoch: 39 Loss= 0.285343885  Accuracy= 0.9728\n",
      "Train Epoch: 40 Loss= 0.339498788  Accuracy= 0.9764\n",
      "Train Finished takes: 43.27\n"
     ]
    }
   ],
   "source": [
    "# 训练\n",
    "# 记录训练开始时间\n",
    "from time import time\n",
    "\n",
    "startTime = time()\n",
    "\n",
    "sess = tf.Session()\n",
    "sess.run(tf.global_variables_initializer())\n",
    "\n",
    "for epoch in range(train_epochs):\n",
    "    for batch in range(total_batch):\n",
    "        xs, ys = mnist.train.next_batch(batch_size)  # 读取批次数据\n",
    "        sess.run(optimizer, feed_dict={x: xs, y: ys})  # 执行批次训练\n",
    "\n",
    "    # total_batch个批次训练完成后，使用验证数据计算误差与准确率\n",
    "    loss, acc = sess.run(\n",
    "        [loss_function, accuracy],\n",
    "        feed_dict={x: mnist.validation.images, y: mnist.validation.labels},\n",
    "    )\n",
    "\n",
    "    if (epoch + 1) % display_step == 0:\n",
    "        print(\n",
    "            \"Train Epoch:\",\n",
    "            \"%02d\" % (epoch + 1),\n",
    "            \"Loss=\",\n",
    "            \"{:.9f}\".format(loss),\n",
    "            \" Accuracy=\",\n",
    "            \"{:.4f}\".format(acc),\n",
    "        )\n",
    "\n",
    "# 显示运行总时间\n",
    "duration = time() - startTime\n",
    "print(\"Train Finished takes:\", \"{:.2f}\".format(duration))"
   ]
  },
  {
   "cell_type": "markdown",
   "metadata": {},
   "source": [
    "## 评估模型"
   ]
  },
  {
   "cell_type": "code",
   "execution_count": 5,
   "metadata": {},
   "outputs": [
    {
     "name": "stdout",
     "output_type": "stream",
     "text": [
      "Test Accuracy: 0.9742\n"
     ]
    }
   ],
   "source": [
    "accu_test = sess.run(accuracy, feed_dict={x: mnist.test.images, y: mnist.test.labels})\n",
    "\n",
    "print(\"Test Accuracy:\", accu_test)"
   ]
  },
  {
   "cell_type": "markdown",
   "metadata": {},
   "source": [
    "## 应用模型\n"
   ]
  },
  {
   "cell_type": "code",
   "execution_count": 6,
   "metadata": {},
   "outputs": [
    {
     "data": {
      "text/plain": [
       "array([7, 2, 1, 0, 4, 1, 4, 9, 5, 9], dtype=int64)"
      ]
     },
     "execution_count": 6,
     "metadata": {},
     "output_type": "execute_result"
    }
   ],
   "source": [
    "# 由于pred预测结果是one-hot编码格式，所以需要转换为0~9数字\n",
    "\n",
    "prediction_result = sess.run(tf.argmax(pred, 1), feed_dict={x: mnist.test.images})\n",
    "\n",
    "# 查看预测结果中的前10项\n",
    "prediction_result[0:10]"
   ]
  },
  {
   "cell_type": "code",
   "execution_count": 7,
   "metadata": {},
   "outputs": [
    {
     "data": {
      "image/png": "[encoded data removed]",
      "text/plain": [
       "<Figure size 720x864 with 10 Axes>"
      ]
     },
     "metadata": {},
     "output_type": "display_data"
    }
   ],
   "source": [
    "import matplotlib.pyplot as plt\n",
    "import numpy as np\n",
    "\n",
    "\n",
    "def plot_images_labels_prediction(\n",
    "    images,  # 图像列表\n",
    "    labels,  # 标签列表\n",
    "    prediction,  # 预测值列表\n",
    "    index,  # 从第index个开始显示\n",
    "    num=10,\n",
    "):  # 缺省一次显示 10 幅\n",
    "    fig = plt.gcf()  # 获取当前图表，Get Current Figure\n",
    "    fig.set_size_inches(10, 12)  # 1英寸等于 2.54 cm\n",
    "    if num > 25:\n",
    "        num = 25  # 最多显示25个子图\n",
    "    for i in range(0, num):\n",
    "        ax = plt.subplot(5, 5, i + 1)  # 获取当前要处理的子图\n",
    "\n",
    "        ax.imshow(\n",
    "            np.reshape(images[index], (28, 28)),  # 显示第index个图像\n",
    "            cmap=\"binary\",\n",
    "        )\n",
    "\n",
    "        title = \"label=\" + str(np.argmax(labels[index]))  # 构建该图上要显示的title信息\n",
    "        if len(prediction) > 0:\n",
    "            title += \",predict=\" + str(prediction[index])\n",
    "\n",
    "        ax.set_title(title, fontsize=10)  # 显示图上的title信息\n",
    "        ax.set_xticks([])  # 不显示坐标轴\n",
    "        ax.set_yticks([])\n",
    "        index += 1\n",
    "    plt.show()\n",
    "\n",
    "\n",
    "plot_images_labels_prediction(\n",
    "    mnist.test.images, mnist.test.labels, prediction_result, 0, 10\n",
    ")"
   ]
  },
  {
   "cell_type": "code",
   "execution_count": 8,
   "metadata": {},
   "outputs": [
    {
     "name": "stdout",
     "output_type": "stream",
     "text": [
      "[ True  True  True ...  True  True  True]\n"
     ]
    }
   ],
   "source": [
    "compare_lists = prediction_result == np.argmax(mnist.test.labels, 1)\n",
    "print(compare_lists)"
   ]
  },
  {
   "cell_type": "code",
   "execution_count": 9,
   "metadata": {},
   "outputs": [
    {
     "name": "stdout",
     "output_type": "stream",
     "text": [
      "[115, 125, 247, 259, 304, 321, 340, 417, 445, 447, 495, 530, 582, 583, 610, 613, 619, 659, 684, 691, 720, 726, 844, 882, 900, 947, 951, 956, 965, 1014, 1039, 1044, 1050, 1107, 1112, 1156, 1192, 1226, 1232, 1242, 1247, 1260, 1311, 1319, 1328, 1364, 1385, 1393, 1466, 1492, 1494, 1500, 1522, 1527, 1530, 1549, 1553, 1570, 1621, 1681, 1717, 1748, 1800, 1878, 1901, 1941, 1969, 1973, 2004, 2024, 2047, 2070, 2093, 2098, 2109, 2118, 2125, 2129, 2130, 2135, 2182, 2189, 2266, 2272, 2369, 2387, 2395, 2406, 2426, 2454, 2455, 2488, 2597, 2607, 2648, 2654, 2720, 2721, 2877, 2896, 2915, 2927, 2939, 2953, 2970, 2995, 3001, 3030, 3060, 3073, 3185, 3218, 3225, 3289, 3330, 3422, 3475, 3503, 3520, 3549, 3558, 3559, 3597, 3629, 3674, 3681, 3702, 3776, 3780, 3796, 3808, 3811, 3853, 3869, 3941, 3943, 3951, 3976, 3988, 4000, 4007, 4027, 4063, 4065, 4078, 4093, 4140, 4156, 4163, 4176, 4199, 4201, 4205, 4224, 4248, 4289, 4301, 4306, 4405, 4425, 4497, 4504, 4536, 4615, 4635, 4671, 4690, 4807, 4808, 4823, 4846, 4860, 4880, 4956, 4966, 4990, 5288, 5331, 5457, 5600, 5642, 5654, 5676, 5734, 5749, 5842, 5887, 5888, 5936, 5937, 5955, 5973, 6056, 6101, 6166, 6505, 6555, 6557, 6560, 6568, 6571, 6572, 6574, 6576, 6597, 6632, 6641, 6740, 6744, 6755, 6783, 6817, 7216, 7338, 7434, 7473, 7928, 8020, 8094, 8277, 8325, 8339, 8408, 8453, 8519, 8522, 8527, 9009, 9015, 9071, 9253, 9280, 9316, 9422, 9530, 9540, 9587, 9634, 9664, 9679, 9698, 9700, 9716, 9729, 9745, 9764, 9768, 9770, 9777, 9779, 9792, 9811, 9839, 9850, 9858, 9879, 9888, 9904] 258\n"
     ]
    }
   ],
   "source": [
    "err_lists = [i for i in range(len(compare_lists)) if compare_lists[i] == False]\n",
    "print(err_lists, len(err_lists))"
   ]
  },
  {
   "cell_type": "code",
   "execution_count": 10,
   "metadata": {},
   "outputs": [],
   "source": [
    "# 定义一个输出错误分类的函数\n",
    "import numpy as np\n",
    "\n",
    "\n",
    "def print_predict_errs(\n",
    "    labels,  # 标签列表\n",
    "    prediction,\n",
    "):  # 预测值列表\n",
    "    count = 0\n",
    "    compare_lists = prediction == np.argmax(labels, 1)\n",
    "    err_lists = [i for i in range(len(compare_lists)) if compare_lists[i] == False]\n",
    "    for x in err_lists:\n",
    "        print(\n",
    "            \"index=\" + str(x) + \" 标签值=\",\n",
    "            np.argmax(labels[x]),\n",
    "            \"预测值=\",\n",
    "            prediction[x],\n",
    "        )\n",
    "        count = count + 1\n",
    "    print(\"总计:\" + str(count))"
   ]
  },
  {
   "cell_type": "code",
   "execution_count": 11,
   "metadata": {},
   "outputs": [
    {
     "name": "stdout",
     "output_type": "stream",
     "text": [
      "index=115 标签值= 4 预测值= 9\n",
      "index=125 标签值= 9 预测值= 4\n",
      "index=247 标签值= 4 预测值= 3\n",
      "index=259 标签值= 6 预测值= 0\n",
      "index=304 标签值= 4 预测值= 6\n",
      "index=321 标签值= 2 预测值= 7\n",
      "index=340 标签值= 5 预测值= 3\n",
      "index=417 标签值= 9 预测值= 4\n",
      "index=445 标签值= 6 预测值= 0\n",
      "index=447 标签值= 4 预测值= 3\n",
      "index=495 标签值= 8 预测值= 0\n",
      "index=530 标签值= 9 预测值= 4\n",
      "index=582 标签值= 8 预测值= 2\n",
      "index=583 标签值= 2 预测值= 8\n",
      "index=610 标签值= 4 预测值= 3\n",
      "index=613 标签值= 2 预测值= 3\n",
      "index=619 标签值= 1 预测值= 8\n",
      "index=659 标签值= 2 预测值= 3\n",
      "index=684 标签值= 7 预测值= 3\n",
      "index=691 标签值= 8 预测值= 4\n",
      "index=720 标签值= 5 预测值= 8\n",
      "index=726 标签值= 7 预测值= 3\n",
      "index=844 标签值= 8 预测值= 5\n",
      "index=882 标签值= 9 预测值= 4\n",
      "index=900 标签值= 1 预测值= 3\n",
      "index=947 标签值= 8 预测值= 9\n",
      "index=951 标签值= 5 预测值= 9\n",
      "index=956 标签值= 1 预测值= 2\n",
      "index=965 标签值= 6 预测值= 3\n",
      "index=1014 标签值= 6 预测值= 8\n",
      "index=1039 标签值= 7 预测值= 2\n",
      "index=1044 标签值= 6 预测值= 3\n",
      "index=1050 标签值= 2 预测值= 3\n",
      "index=1107 标签值= 9 预测值= 3\n",
      "index=1112 标签值= 4 预测值= 6\n",
      "index=1156 标签值= 7 预测值= 8\n",
      "index=1192 标签值= 9 预测值= 4\n",
      "index=1226 标签值= 7 预测值= 2\n",
      "index=1232 标签值= 9 预测值= 4\n",
      "index=1242 标签值= 4 预测值= 9\n",
      "index=1247 标签值= 9 预测值= 3\n",
      "index=1260 标签值= 7 预测值= 3\n",
      "index=1311 标签值= 9 预测值= 3\n",
      "index=1319 标签值= 8 预测值= 3\n",
      "index=1328 标签值= 7 预测值= 9\n",
      "index=1364 标签值= 8 预测值= 2\n",
      "index=1385 标签值= 9 预测值= 4\n",
      "index=1393 标签值= 5 预测值= 3\n",
      "index=1466 标签值= 5 预测值= 3\n",
      "index=1492 标签值= 9 预测值= 5\n",
      "index=1494 标签值= 7 预测值= 9\n",
      "index=1500 标签值= 7 预测值= 3\n",
      "index=1522 标签值= 7 预测值= 9\n",
      "index=1527 标签值= 1 预测值= 3\n",
      "index=1530 标签值= 8 预测值= 7\n",
      "index=1549 标签值= 4 预测值= 6\n",
      "index=1553 标签值= 9 预测值= 5\n",
      "index=1570 标签值= 0 预测值= 3\n",
      "index=1621 标签值= 0 预测值= 6\n",
      "index=1681 标签值= 3 预测值= 7\n",
      "index=1717 标签值= 8 预测值= 0\n",
      "index=1748 标签值= 0 预测值= 3\n",
      "index=1800 标签值= 6 预测值= 4\n",
      "index=1878 标签值= 8 预测值= 3\n",
      "index=1901 标签值= 9 预测值= 4\n",
      "index=1941 标签值= 7 预测值= 3\n",
      "index=1969 标签值= 6 预测值= 0\n",
      "index=1973 标签值= 8 预测值= 3\n",
      "index=2004 标签值= 8 预测值= 3\n",
      "index=2024 标签值= 7 预测值= 9\n",
      "index=2047 标签值= 6 预测值= 5\n",
      "index=2070 标签值= 7 预测值= 9\n",
      "index=2093 标签值= 8 预测值= 1\n",
      "index=2098 标签值= 2 预测值= 0\n",
      "index=2109 标签值= 3 预测值= 8\n",
      "index=2118 标签值= 6 预测值= 0\n",
      "index=2125 标签值= 5 预测值= 9\n",
      "index=2129 标签值= 9 预测值= 3\n",
      "index=2130 标签值= 4 预测值= 9\n",
      "index=2135 标签值= 6 预测值= 1\n",
      "index=2182 标签值= 1 预测值= 3\n",
      "index=2189 标签值= 9 预测值= 4\n",
      "index=2266 标签值= 1 预测值= 3\n",
      "index=2272 标签值= 8 预测值= 0\n",
      "index=2369 标签值= 5 预测值= 3\n",
      "index=2387 标签值= 9 预测值= 4\n",
      "index=2395 标签值= 8 预测值= 3\n",
      "index=2406 标签值= 9 预测值= 3\n",
      "index=2426 标签值= 9 预测值= 4\n",
      "index=2454 标签值= 6 预测值= 8\n",
      "index=2455 标签值= 0 预测值= 3\n",
      "index=2488 标签值= 2 预测值= 8\n",
      "index=2597 标签值= 5 预测值= 3\n",
      "index=2607 标签值= 7 预测值= 3\n",
      "index=2648 标签值= 9 预测值= 0\n",
      "index=2654 标签值= 6 预测值= 1\n",
      "index=2720 标签值= 9 预测值= 4\n",
      "index=2721 标签值= 6 预测值= 5\n",
      "index=2877 标签值= 4 预测值= 7\n",
      "index=2896 标签值= 8 预测值= 0\n",
      "index=2915 标签值= 7 预测值= 3\n",
      "index=2927 标签值= 3 预测值= 2\n",
      "index=2939 标签值= 9 预测值= 5\n",
      "index=2953 标签值= 3 预测值= 5\n",
      "index=2970 标签值= 5 预测值= 3\n",
      "index=2995 标签值= 6 预测值= 8\n",
      "index=3001 标签值= 9 预测值= 8\n",
      "index=3030 标签值= 6 预测值= 8\n",
      "index=3060 标签值= 9 预测值= 5\n",
      "index=3073 标签值= 1 预测值= 2\n",
      "index=3185 标签值= 0 预测值= 6\n",
      "index=3218 标签值= 6 预测值= 5\n",
      "index=3225 标签值= 7 预测值= 3\n",
      "index=3289 标签值= 8 预测值= 9\n",
      "index=3330 标签值= 2 预测值= 3\n",
      "index=3422 标签值= 6 预测值= 0\n",
      "index=3475 标签值= 3 预测值= 7\n",
      "index=3503 标签值= 9 预测值= 1\n",
      "index=3520 标签值= 6 预测值= 4\n",
      "index=3549 标签值= 3 预测值= 2\n",
      "index=3558 标签值= 5 预测值= 0\n",
      "index=3559 标签值= 8 预测值= 5\n",
      "index=3597 标签值= 9 预测值= 3\n",
      "index=3629 标签值= 8 预测值= 3\n",
      "index=3674 标签值= 8 预测值= 3\n",
      "index=3681 标签值= 2 预测值= 8\n",
      "index=3702 标签值= 5 预测值= 3\n",
      "index=3776 标签值= 5 预测值= 8\n",
      "index=3780 标签值= 4 预测值= 6\n",
      "index=3796 标签值= 2 预测值= 3\n",
      "index=3808 标签值= 7 预测值= 3\n",
      "index=3811 标签值= 2 预测值= 3\n",
      "index=3853 标签值= 6 预测值= 3\n",
      "index=3869 标签值= 9 预测值= 4\n",
      "index=3941 标签值= 4 预测值= 6\n",
      "index=3943 标签值= 3 预测值= 5\n",
      "index=3951 标签值= 8 预测值= 3\n",
      "index=3976 标签值= 7 预测值= 8\n",
      "index=3988 标签值= 8 预测值= 3\n",
      "index=4000 标签值= 9 预测值= 4\n",
      "index=4007 标签值= 7 预测值= 9\n",
      "index=4027 标签值= 7 预测值= 3\n",
      "index=4063 标签值= 6 预测值= 5\n",
      "index=4065 标签值= 0 预测值= 2\n",
      "index=4078 标签值= 9 预测值= 3\n",
      "index=4093 标签值= 9 预测值= 4\n",
      "index=4140 标签值= 8 预测值= 2\n",
      "index=4156 标签值= 2 预测值= 3\n",
      "index=4163 标签值= 9 预测值= 7\n",
      "index=4176 标签值= 2 预测值= 3\n",
      "index=4199 标签值= 7 预测值= 3\n",
      "index=4201 标签值= 1 预测值= 3\n",
      "index=4205 标签值= 2 预测值= 8\n",
      "index=4224 标签值= 9 预测值= 7\n",
      "index=4248 标签值= 2 预测值= 3\n",
      "index=4289 标签值= 2 预测值= 7\n",
      "index=4301 标签值= 9 预测值= 3\n",
      "index=4306 标签值= 3 预测值= 7\n",
      "index=4405 标签值= 9 预测值= 4\n",
      "index=4425 标签值= 9 预测值= 4\n",
      "index=4497 标签值= 8 预测值= 7\n",
      "index=4504 标签值= 2 预测值= 3\n",
      "index=4536 标签值= 6 预测值= 5\n",
      "index=4615 标签值= 2 预测值= 4\n",
      "index=4635 标签值= 3 预测值= 5\n",
      "index=4671 标签值= 8 预测值= 3\n",
      "index=4690 标签值= 7 预测值= 2\n",
      "index=4807 标签值= 8 预测值= 3\n",
      "index=4808 标签值= 3 预测值= 5\n",
      "index=4823 标签值= 9 预测值= 4\n",
      "index=4846 标签值= 9 预测值= 4\n",
      "index=4860 标签值= 4 预测值= 9\n",
      "index=4880 标签值= 0 预测值= 8\n",
      "index=4956 标签值= 8 预测值= 4\n",
      "index=4966 标签值= 7 预测值= 3\n",
      "index=4990 标签值= 3 预测值= 2\n",
      "index=5288 标签值= 8 预测值= 3\n",
      "index=5331 标签值= 1 预测值= 6\n",
      "index=5457 标签值= 1 预测值= 8\n",
      "index=5600 标签值= 7 预测值= 3\n",
      "index=5642 标签值= 1 预测值= 5\n",
      "index=5654 标签值= 7 预测值= 3\n",
      "index=5676 标签值= 4 预测值= 7\n",
      "index=5734 标签值= 3 预测值= 2\n",
      "index=5749 标签值= 8 预测值= 3\n",
      "index=5842 标签值= 4 预测值= 7\n",
      "index=5887 标签值= 7 预测值= 3\n",
      "index=5888 标签值= 4 预测值= 3\n",
      "index=5936 标签值= 4 预测值= 9\n",
      "index=5937 标签值= 5 预测值= 3\n",
      "index=5955 标签值= 3 预测值= 8\n",
      "index=5973 标签值= 3 预测值= 8\n",
      "index=6056 标签值= 8 预测值= 3\n",
      "index=6101 标签值= 1 预测值= 8\n",
      "index=6166 标签值= 9 预测值= 3\n",
      "index=6505 标签值= 9 预测值= 3\n",
      "index=6555 标签值= 8 预测值= 9\n",
      "index=6557 标签值= 0 预测值= 2\n",
      "index=6560 标签值= 9 预测值= 5\n",
      "index=6568 标签值= 9 预测值= 3\n",
      "index=6571 标签值= 9 预测值= 3\n",
      "index=6572 标签值= 1 预测值= 3\n",
      "index=6574 标签值= 2 预测值= 6\n",
      "index=6576 标签值= 7 预测值= 3\n",
      "index=6597 标签值= 0 预测值= 7\n",
      "index=6632 标签值= 9 预测值= 5\n",
      "index=6641 标签值= 8 预测值= 5\n",
      "index=6740 标签值= 9 预测值= 3\n",
      "index=6744 标签值= 2 预测值= 8\n",
      "index=6755 标签值= 8 预测值= 3\n",
      "index=6783 标签值= 1 预测值= 3\n",
      "index=6817 标签值= 9 预测值= 4\n",
      "index=7216 标签值= 0 预测值= 8\n",
      "index=7338 标签值= 4 预测值= 8\n",
      "index=7434 标签值= 4 预测值= 3\n",
      "index=7473 标签值= 4 预测值= 3\n",
      "index=7928 标签值= 1 预测值= 3\n",
      "index=8020 标签值= 1 预测值= 8\n",
      "index=8094 标签值= 2 预测值= 8\n",
      "index=8277 标签值= 3 预测值= 9\n",
      "index=8325 标签值= 0 预测值= 6\n",
      "index=8339 标签值= 8 预测值= 3\n",
      "index=8408 标签值= 8 预测值= 5\n",
      "index=8453 标签值= 5 预测值= 3\n",
      "index=8519 标签值= 7 预测值= 3\n",
      "index=8522 标签值= 8 预测值= 5\n",
      "index=8527 标签值= 4 预测值= 9\n",
      "index=9009 标签值= 7 预测值= 2\n",
      "index=9015 标签值= 7 预测值= 2\n",
      "index=9071 标签值= 1 预测值= 8\n",
      "index=9253 标签值= 4 预测值= 3\n",
      "index=9280 标签值= 8 预测值= 5\n",
      "index=9316 标签值= 8 预测值= 5\n",
      "index=9422 标签值= 5 预测值= 3\n",
      "index=9530 标签值= 9 预测值= 7\n",
      "index=9540 标签值= 1 预测值= 8\n",
      "index=9587 标签值= 9 预测值= 4\n",
      "index=9634 标签值= 0 预测值= 3\n",
      "index=9664 标签值= 2 预测值= 7\n",
      "index=9679 标签值= 6 预测值= 3\n",
      "index=9698 标签值= 6 预测值= 3\n",
      "index=9700 标签值= 2 预测值= 8\n",
      "index=9716 标签值= 2 预测值= 3\n",
      "index=9729 标签值= 5 预测值= 6\n",
      "index=9745 标签值= 4 预测值= 2\n",
      "index=9764 标签值= 4 预测值= 3\n",
      "index=9768 标签值= 2 预测值= 8\n",
      "index=9770 标签值= 5 预测值= 0\n",
      "index=9777 标签值= 5 预测值= 3\n",
      "index=9779 标签值= 2 预测值= 8\n",
      "index=9792 标签值= 4 预测值= 1\n",
      "index=9811 标签值= 2 预测值= 3\n",
      "index=9839 标签值= 2 预测值= 7\n",
      "index=9850 标签值= 0 预测值= 3\n",
      "index=9858 标签值= 6 预测值= 8\n",
      "index=9879 标签值= 0 预测值= 2\n",
      "index=9888 标签值= 6 预测值= 8\n",
      "index=9904 标签值= 2 预测值= 3\n",
      "总计:258\n"
     ]
    }
   ],
   "source": [
    "print_predict_errs(labels=mnist.test.labels, prediction=prediction_result)"
   ]
  },
  {
   "cell_type": "code",
   "execution_count": 12,
   "metadata": {},
   "outputs": [
    {
     "data": {
      "image/png": "[encoded data removed]",
      "text/plain": [
       "<Figure size 720x864 with 10 Axes>"
      ]
     },
     "metadata": {},
     "output_type": "display_data"
    }
   ],
   "source": [
    "plot_images_labels_prediction(\n",
    "    mnist.test.images, mnist.test.labels, prediction_result, 460, 10\n",
    ")"
   ]
  },
  {
   "cell_type": "markdown",
   "metadata": {},
   "source": [
    "# 重构建模过程"
   ]
  },
  {
   "cell_type": "code",
   "execution_count": 1,
   "metadata": {},
   "outputs": [
    {
     "name": "stdout",
     "output_type": "stream",
     "text": [
      "WARNING:tensorflow:From <ipython-input-1-0dd45bd8591c>:5: read_data_sets (from tensorflow.contrib.learn.python.learn.datasets.mnist) is deprecated and will be removed in a future version.\n",
      "Instructions for updating:\n",
      "Please use alternatives such as official/mnist/dataset.py from tensorflow/models.\n",
      "WARNING:tensorflow:From d:\\ProgramData\\anaconda3\\envs\\tf1\\lib\\site-packages\\tensorflow_core\\contrib\\learn\\python\\learn\\datasets\\mnist.py:260: maybe_download (from tensorflow.contrib.learn.python.learn.datasets.base) is deprecated and will be removed in a future version.\n",
      "Instructions for updating:\n",
      "Please write your own downloading logic.\n",
      "WARNING:tensorflow:From d:\\ProgramData\\anaconda3\\envs\\tf1\\lib\\site-packages\\tensorflow_core\\contrib\\learn\\python\\learn\\datasets\\mnist.py:262: extract_images (from tensorflow.contrib.learn.python.learn.datasets.mnist) is deprecated and will be removed in a future version.\n",
      "Instructions for updating:\n",
      "Please use tf.data to implement this functionality.\n",
      "Extracting /data/MNIST_data/train-images-idx3-ubyte.gz\n",
      "WARNING:tensorflow:From d:\\ProgramData\\anaconda3\\envs\\tf1\\lib\\site-packages\\tensorflow_core\\contrib\\learn\\python\\learn\\datasets\\mnist.py:267: extract_labels (from tensorflow.contrib.learn.python.learn.datasets.mnist) is deprecated and will be removed in a future version.\n",
      "Instructions for updating:\n",
      "Please use tf.data to implement this functionality.\n",
      "Extracting /data/MNIST_data/train-labels-idx1-ubyte.gz\n",
      "WARNING:tensorflow:From d:\\ProgramData\\anaconda3\\envs\\tf1\\lib\\site-packages\\tensorflow_core\\contrib\\learn\\python\\learn\\datasets\\mnist.py:110: dense_to_one_hot (from tensorflow.contrib.learn.python.learn.datasets.mnist) is deprecated and will be removed in a future version.\n",
      "Instructions for updating:\n",
      "Please use tf.one_hot on tensors.\n",
      "Extracting /data/MNIST_data/t10k-images-idx3-ubyte.gz\n",
      "Extracting /data/MNIST_data/t10k-labels-idx1-ubyte.gz\n",
      "WARNING:tensorflow:From d:\\ProgramData\\anaconda3\\envs\\tf1\\lib\\site-packages\\tensorflow_core\\contrib\\learn\\python\\learn\\datasets\\mnist.py:290: DataSet.__init__ (from tensorflow.contrib.learn.python.learn.datasets.mnist) is deprecated and will be removed in a future version.\n",
      "Instructions for updating:\n",
      "Please use alternatives such as official/mnist/dataset.py from tensorflow/models.\n"
     ]
    }
   ],
   "source": [
    "import tensorflow as tf\n",
    "import tensorflow_core.examples.tutorials.mnist.input_data as input_data\n",
    "\n",
    "# 下载MNIST数据集到指定目录下\n",
    "mnist = input_data.read_data_sets(\"/data/MNIST_data/\", one_hot=True)\n"
   ]
  },
  {
   "cell_type": "markdown",
   "metadata": {},
   "source": [
    "## 创建模型"
   ]
  },
  {
   "cell_type": "code",
   "execution_count": 2,
   "metadata": {},
   "outputs": [],
   "source": [
    "# 定义全连接层函数\n",
    "\n",
    "\n",
    "def fcn_layer(\n",
    "    inputs,  # 输入数据\n",
    "    input_dim,  # 输入神经元数量\n",
    "    output_dim,  # 输出神经元数量\n",
    "    activation=None,\n",
    "):  # 激活函数\n",
    "    W = tf.Variable(tf.truncated_normal([input_dim, output_dim], stddev=0.1))\n",
    "    # 以截断正态分布的随机数初始化W\n",
    "    b = tf.Variable(tf.zeros([output_dim]))\n",
    "    # 以0初始化b\n",
    "    XWb = tf.matmul(inputs, W) + b  # 建立表达式：inputs * W + b\n",
    "\n",
    "    if activation is None:  # 默认不使用激活函数\n",
    "        outputs = XWb\n",
    "    else:\n",
    "        outputs = activation(XWb)\n",
    "    return outputs\n"
   ]
  },
  {
   "cell_type": "code",
   "execution_count": 3,
   "metadata": {},
   "outputs": [],
   "source": [
    "# 构建输入层\n",
    "x = tf.placeholder(tf.float32, [None, 784], name=\"X\")\n"
   ]
  },
  {
   "cell_type": "code",
   "execution_count": 4,
   "metadata": {},
   "outputs": [],
   "source": [
    "# 构建隐藏层\n",
    "# 隐藏层包含256个神经元\n",
    "h1 = fcn_layer(inputs=x, input_dim=784, output_dim=256, activation=tf.nn.relu)\n"
   ]
  },
  {
   "cell_type": "code",
   "execution_count": 5,
   "metadata": {},
   "outputs": [],
   "source": [
    "# 构建输出层\n",
    "forward = fcn_layer(inputs=h1, input_dim=256, output_dim=10, activation=None)\n",
    "\n",
    "pred = tf.nn.softmax(forward)\n"
   ]
  },
  {
   "cell_type": "markdown",
   "metadata": {},
   "source": [
    "## 训练模型"
   ]
  },
  {
   "cell_type": "code",
   "execution_count": 6,
   "metadata": {},
   "outputs": [],
   "source": [
    "# 定义标签数据占位符\n",
    "y = tf.placeholder(tf.float32, [None, 10], name=\"Y\")\n"
   ]
  },
  {
   "cell_type": "code",
   "execution_count": 7,
   "metadata": {},
   "outputs": [
    {
     "name": "stdout",
     "output_type": "stream",
     "text": [
      "WARNING:tensorflow:From <ipython-input-7-e5f029367cb4>:2: softmax_cross_entropy_with_logits (from tensorflow.python.ops.nn_ops) is deprecated and will be removed in a future version.\n",
      "Instructions for updating:\n",
      "\n",
      "Future major versions of TensorFlow will allow gradients to flow\n",
      "into the labels input on backprop by default.\n",
      "\n",
      "See `tf.nn.softmax_cross_entropy_with_logits_v2`.\n",
      "\n"
     ]
    },
    {
     "data": {
      "text/plain": [
       "<tf.Tensor 'softmax_cross_entropy_with_logits_sg/Reshape_2:0' shape=(?,) dtype=float32>"
      ]
     },
     "execution_count": 7,
     "metadata": {},
     "output_type": "execute_result"
    }
   ],
   "source": [
    "# softmax_cross_entropy_with_logits函数原型：\n",
    "tf.nn.softmax_cross_entropy_with_logits(labels=y, logits=pred, name=None)\n"
   ]
  },
  {
   "cell_type": "code",
   "execution_count": 8,
   "metadata": {},
   "outputs": [],
   "source": [
    "# 定义损失函数\n",
    "\n",
    "# loss_function = tf.reduce_mean(-tf.reduce_sum(y*tf.log(pred),\n",
    "# reduction_indices=1)) #原方法：定义交叉熵损失函数\n",
    "# 改进：使用softmax_cross_entropy_with_logits方法定义交叉熵损失函数\n",
    "# 把softmax和cross entropy放到一个函数里计算，提高运算速度\n",
    "loss_function = tf.reduce_mean(\n",
    "    tf.nn.softmax_cross_entropy_with_logits(logits=forward, labels=y)\n",
    ")\n"
   ]
  },
  {
   "cell_type": "code",
   "execution_count": 9,
   "metadata": {},
   "outputs": [],
   "source": [
    "# 设置训练参数\n",
    "train_epochs = 40  # 训练轮数\n",
    "batch_size = 50  # 单次训练样本数（批次大小）\n",
    "total_batch = int(mnist.train.num_examples / batch_size)  # 一轮训练有多少批次\n",
    "display_step = 1  # 显示粒度\n",
    "learning_rate = 0.01  # 学习率\n"
   ]
  },
  {
   "cell_type": "code",
   "execution_count": 10,
   "metadata": {},
   "outputs": [],
   "source": [
    "# 选择优化器\n",
    "optimizer = tf.train.AdamOptimizer(learning_rate).minimize(loss_function)\n"
   ]
  },
  {
   "cell_type": "code",
   "execution_count": 11,
   "metadata": {},
   "outputs": [],
   "source": [
    "# 定义准确率\n",
    "\n",
    "# 检查预测类别tf.argmax(pred,1)与实际类别tf.argmax(y,1)的匹配情况，相等为1，不等为0,实际要转浮点数\n",
    "correct_prediction = tf.equal(tf.argmax(y, 1), tf.arg_max(pred, 1))\n",
    "# 准确率，将布尔值转为浮点数，并计算平均值\n",
    "accuracy = tf.reduce_mean(tf.cast(correct_prediction, tf.float32))\n"
   ]
  },
  {
   "cell_type": "code",
   "execution_count": 12,
   "metadata": {},
   "outputs": [
    {
     "name": "stdout",
     "output_type": "stream",
     "text": [
      "Train Epoch: 01 Loss= 0.143263668 Accuracy= 0.9614\n",
      "Train Epoch: 02 Loss= 0.135967791 Accuracy= 0.9628\n",
      "Train Epoch: 03 Loss= 0.156116292 Accuracy= 0.9626\n",
      "Train Epoch: 04 Loss= 0.139332220 Accuracy= 0.9666\n",
      "Train Epoch: 05 Loss= 0.165824383 Accuracy= 0.9644\n",
      "Train Epoch: 06 Loss= 0.149098799 Accuracy= 0.9680\n",
      "Train Epoch: 07 Loss= 0.172617704 Accuracy= 0.9688\n",
      "Train Epoch: 08 Loss= 0.210293233 Accuracy= 0.9648\n",
      "Train Epoch: 09 Loss= 0.170642138 Accuracy= 0.9694\n",
      "Train Epoch: 10 Loss= 0.184442803 Accuracy= 0.9722\n",
      "Train Epoch: 11 Loss= 0.251760066 Accuracy= 0.9692\n",
      "Train Epoch: 12 Loss= 0.215622514 Accuracy= 0.9720\n",
      "Train Epoch: 13 Loss= 0.264622927 Accuracy= 0.9670\n",
      "Train Epoch: 14 Loss= 0.235210642 Accuracy= 0.9722\n",
      "Train Epoch: 15 Loss= 0.329120219 Accuracy= 0.9696\n",
      "Train Epoch: 16 Loss= 0.270466149 Accuracy= 0.9736\n",
      "Train Epoch: 17 Loss= 0.347412258 Accuracy= 0.9672\n",
      "Train Epoch: 18 Loss= 0.289220363 Accuracy= 0.9710\n",
      "Train Epoch: 19 Loss= 0.363925427 Accuracy= 0.9710\n",
      "Train Epoch: 20 Loss= 0.403995454 Accuracy= 0.9656\n",
      "Train Epoch: 21 Loss= 0.395476699 Accuracy= 0.9702\n",
      "Train Epoch: 22 Loss= 0.359678477 Accuracy= 0.9740\n",
      "Train Epoch: 23 Loss= 0.466120899 Accuracy= 0.9672\n",
      "Train Epoch: 24 Loss= 0.388582945 Accuracy= 0.9734\n",
      "Train Epoch: 25 Loss= 0.466318220 Accuracy= 0.9690\n",
      "Train Epoch: 26 Loss= 0.455785632 Accuracy= 0.9720\n",
      "Train Epoch: 27 Loss= 0.479852259 Accuracy= 0.9712\n",
      "Train Epoch: 28 Loss= 0.440343559 Accuracy= 0.9700\n",
      "Train Epoch: 29 Loss= 0.492421031 Accuracy= 0.9738\n",
      "Train Epoch: 30 Loss= 0.495356947 Accuracy= 0.9712\n",
      "Train Epoch: 31 Loss= 0.537831426 Accuracy= 0.9722\n",
      "Train Epoch: 32 Loss= 0.513054967 Accuracy= 0.9724\n",
      "Train Epoch: 33 Loss= 0.495440513 Accuracy= 0.9714\n",
      "Train Epoch: 34 Loss= 0.518781185 Accuracy= 0.9754\n",
      "Train Epoch: 35 Loss= 0.603272319 Accuracy= 0.9728\n",
      "Train Epoch: 36 Loss= 0.663696647 Accuracy= 0.9714\n",
      "Train Epoch: 37 Loss= 0.524808109 Accuracy= 0.9770\n",
      "Train Epoch: 38 Loss= 0.571775854 Accuracy= 0.9730\n",
      "Train Epoch: 39 Loss= 0.588982642 Accuracy= 0.9762\n",
      "Train Epoch: 40 Loss= 0.656210542 Accuracy= 0.9742\n",
      "Train Finished!\n",
      "Train Finished takes: 37.70\n"
     ]
    }
   ],
   "source": [
    "# 训练模型\n",
    "\n",
    "# 记录训练开始时间\n",
    "from time import time\n",
    "\n",
    "startTime = time()\n",
    "\n",
    "sess = tf.Session()\n",
    "sess.run(tf.global_variables_initializer())\n",
    "\n",
    "\n",
    "# 开始训练\n",
    "for epoch in range(train_epochs):\n",
    "    for batch in range(total_batch):\n",
    "        xs, ys = mnist.train.next_batch(batch_size)  # 读取批次数据\n",
    "        sess.run(optimizer, feed_dict={x: xs, y: ys})  # 执行批次训练\n",
    "\n",
    "    # total_batch个批次训练完成后，用验证数据计算误差与准确率，验证集没有分批\n",
    "    loss, acc = sess.run(\n",
    "        [loss_function, accuracy],\n",
    "        feed_dict={x: mnist.validation.images, y: mnist.validation.labels},\n",
    "    )\n",
    "\n",
    "    # 打印训练过程中的详细信息\n",
    "    if (epoch + 1) % display_step == 0:\n",
    "        print(\n",
    "            \"Train Epoch:\",\n",
    "            \"%02d\" % (epoch + 1),\n",
    "            \"Loss=\",\n",
    "            \"{:.9f}\".format(loss),\n",
    "            \"Accuracy=\",\n",
    "            \"{:.4f}\".format(acc),\n",
    "        )\n",
    "print(\"Train Finished!\")\n",
    "\n",
    "# 显示运行总时间\n",
    "duration = time() - startTime\n",
    "print(\"Train Finished takes:\", \"{:.2f}\".format(duration))\n"
   ]
  },
  {
   "cell_type": "markdown",
   "metadata": {},
   "source": [
    "## 评估模型"
   ]
  },
  {
   "cell_type": "code",
   "execution_count": 14,
   "metadata": {},
   "outputs": [
    {
     "name": "stdout",
     "output_type": "stream",
     "text": [
      "Test Accuracy： 0.9715\n"
     ]
    }
   ],
   "source": [
    "# 测试集\n",
    "accu_test = sess.run(accuracy, feed_dict={x: mnist.test.images, y: mnist.test.labels})\n",
    "print(\"Test Accuracy：\", accu_test)\n",
    "# Test Accuracy： 0.9743\n"
   ]
  },
  {
   "cell_type": "markdown",
   "metadata": {},
   "source": [
    "## 保存模型"
   ]
  },
  {
   "cell_type": "code",
   "execution_count": 12,
   "metadata": {},
   "outputs": [],
   "source": [
    "# 初始化参数和文件目录\n",
    "\n",
    "# 存储模型的粒度\n",
    "save_step = 5\n",
    "# 创建保存模型文件的目录\n",
    "import os\n",
    "\n",
    "ckpt_dir = \"./ckpt_dir/mnist/\"\n",
    "if not os.path.exists(ckpt_dir):\n",
    "    os.makedirs(ckpt_dir)"
   ]
  },
  {
   "cell_type": "code",
   "execution_count": 13,
   "metadata": {},
   "outputs": [
    {
     "name": "stdout",
     "output_type": "stream",
     "text": [
      "Train Epoch: 01 Loss= 0.204821482 Accuracy= 0.9404\n",
      "Train Epoch: 02 Loss= 0.144500375 Accuracy= 0.9608\n",
      "Train Epoch: 03 Loss= 0.158654347 Accuracy= 0.9626\n",
      "Train Epoch: 04 Loss= 0.192225710 Accuracy= 0.9582\n",
      "Train Epoch: 05 Loss= 0.190212429 Accuracy= 0.9650\n",
      "mnist_h256_model_000005.ckpt saved\n",
      "Train Epoch: 06 Loss= 0.194587678 Accuracy= 0.9650\n",
      "Train Epoch: 07 Loss= 0.240074143 Accuracy= 0.9634\n",
      "Train Epoch: 08 Loss= 0.202177301 Accuracy= 0.9672\n",
      "Train Epoch: 09 Loss= 0.220998585 Accuracy= 0.9652\n",
      "Train Epoch: 10 Loss= 0.183096409 Accuracy= 0.9712\n",
      "mnist_h256_model_000010.ckpt saved\n",
      "Train Epoch: 11 Loss= 0.251323968 Accuracy= 0.9676\n",
      "Train Epoch: 12 Loss= 0.317449450 Accuracy= 0.9674\n",
      "Train Epoch: 13 Loss= 0.271372437 Accuracy= 0.9710\n",
      "Train Epoch: 14 Loss= 0.277574539 Accuracy= 0.9742\n",
      "Train Epoch: 15 Loss= 0.315537691 Accuracy= 0.9704\n",
      "mnist_h256_model_000015.ckpt saved\n",
      "Train Epoch: 16 Loss= 0.290484786 Accuracy= 0.9702\n",
      "Train Epoch: 17 Loss= 0.280013144 Accuracy= 0.9694\n",
      "Train Epoch: 18 Loss= 0.326583415 Accuracy= 0.9710\n",
      "Train Epoch: 19 Loss= 0.298873693 Accuracy= 0.9700\n",
      "Train Epoch: 20 Loss= 0.362145603 Accuracy= 0.9682\n",
      "mnist_h256_model_000020.ckpt saved\n",
      "Train Epoch: 21 Loss= 0.396791369 Accuracy= 0.9674\n",
      "Train Epoch: 22 Loss= 0.400924891 Accuracy= 0.9692\n",
      "Train Epoch: 23 Loss= 0.398887753 Accuracy= 0.9704\n",
      "Train Epoch: 24 Loss= 0.429754436 Accuracy= 0.9720\n",
      "Train Epoch: 25 Loss= 0.463566005 Accuracy= 0.9690\n",
      "mnist_h256_model_000025.ckpt saved\n",
      "Train Epoch: 26 Loss= 0.521719456 Accuracy= 0.9692\n",
      "Train Epoch: 27 Loss= 0.435394377 Accuracy= 0.9736\n",
      "Train Epoch: 28 Loss= 0.516487181 Accuracy= 0.9720\n",
      "Train Epoch: 29 Loss= 0.481223434 Accuracy= 0.9738\n",
      "Train Epoch: 30 Loss= 0.436310947 Accuracy= 0.9730\n",
      "WARNING:tensorflow:From d:\\ProgramData\\anaconda3\\envs\\tf1\\lib\\site-packages\\tensorflow_core\\python\\training\\saver.py:963: remove_checkpoint (from tensorflow.python.training.checkpoint_management) is deprecated and will be removed in a future version.\n",
      "Instructions for updating:\n",
      "Use standard file APIs to delete files with this prefix.\n",
      "mnist_h256_model_000030.ckpt saved\n",
      "Train Epoch: 31 Loss= 0.571636796 Accuracy= 0.9696\n",
      "Train Epoch: 32 Loss= 0.530514181 Accuracy= 0.9738\n",
      "Train Epoch: 33 Loss= 0.589834511 Accuracy= 0.9706\n",
      "Train Epoch: 34 Loss= 0.544121563 Accuracy= 0.9728\n",
      "Train Epoch: 35 Loss= 0.625325978 Accuracy= 0.9720\n",
      "mnist_h256_model_000035.ckpt saved\n",
      "Train Epoch: 36 Loss= 0.608776450 Accuracy= 0.9698\n",
      "Train Epoch: 37 Loss= 0.660528243 Accuracy= 0.9736\n",
      "Train Epoch: 38 Loss= 0.558737278 Accuracy= 0.9726\n",
      "Train Epoch: 39 Loss= 0.610004246 Accuracy= 0.9736\n",
      "Train Epoch: 40 Loss= 0.612380147 Accuracy= 0.9724\n",
      "mnist_h256_model_000040.ckpt saved\n",
      "Model saved!\n",
      "Train Finished takes: 40.84\n"
     ]
    }
   ],
   "source": [
    "# 训练时存储模型\n",
    "\n",
    "# 声明完所有变量后，调用tf.train.Saver\n",
    "saver = tf.train.Saver()\n",
    "\n",
    "# 记录训练开始时间\n",
    "from time import time\n",
    "\n",
    "startTime = time()\n",
    "\n",
    "sess = tf.Session()\n",
    "sess.run(tf.global_variables_initializer())\n",
    "\n",
    "\n",
    "# 开始训练\n",
    "for epoch in range(train_epochs):\n",
    "    for batch in range(total_batch):\n",
    "        xs, ys = mnist.train.next_batch(batch_size)  # 读取批次数据\n",
    "        sess.run(optimizer, feed_dict={x: xs, y: ys})  # 执行批次训练\n",
    "\n",
    "    # total_batch个批次训练完成后，用验证数据计算误差与准确率，验证集没有分批\n",
    "    loss, acc = sess.run(\n",
    "        [loss_function, accuracy],\n",
    "        feed_dict={x: mnist.validation.images, y: mnist.validation.labels},\n",
    "    )\n",
    "\n",
    "    # 打印训练过程中的详细信息\n",
    "    if (epoch + 1) % display_step == 0:\n",
    "        print(\n",
    "            \"Train Epoch:\",\n",
    "            \"%02d\" % (epoch + 1),\n",
    "            \"Loss=\",\n",
    "            \"{:.9f}\".format(loss),\n",
    "            \"Accuracy=\",\n",
    "            \"{:.4f}\".format(acc),\n",
    "        )\n",
    "    if (epoch + 1) % save_step == 0:\n",
    "        saver.save(\n",
    "            sess,\n",
    "            os.path.join(ckpt_dir, \"mnist_h256_model_{:06d}.ckpt\".format(epoch + 1)),\n",
    "        )  # 存储模型\n",
    "        print(\"mnist_h256_model_{:06d}.ckpt saved\".format(epoch + 1))\n",
    "\n",
    "saver.save(sess, os.path.join(ckpt_dir, \"mnist_h256_model.ckpt\"))\n",
    "print(\"Model saved!\")\n",
    "# print(\"Train Finished!\")\n",
    "\n",
    "# 显示运行总时间\n",
    "duration = time() - startTime\n",
    "print(\"Train Finished takes:\", \"{:.2f}\".format(duration))\n"
   ]
  },
  {
   "cell_type": "markdown",
   "metadata": {},
   "source": [
    "## 还原模型"
   ]
  },
  {
   "cell_type": "code",
   "execution_count": 15,
   "metadata": {},
   "outputs": [],
   "source": [
    "# 设置模型文件的存放目录\n",
    "\n",
    "# 必须指定为模型文件的存放目录，缺省最多保留最近5份\n",
    "ckpt_dir = \"./ckpt_dir/mnist/\"\n"
   ]
  },
  {
   "cell_type": "code",
   "execution_count": 16,
   "metadata": {},
   "outputs": [
    {
     "name": "stdout",
     "output_type": "stream",
     "text": [
      "INFO:tensorflow:Restoring parameters from ./ckpt_dir/mnist/mnist_h256_model.ckpt\n",
      "Restore model from ./ckpt_dir/mnist/mnist_h256_model.ckpt\n"
     ]
    }
   ],
   "source": [
    "# 读取模型\n",
    "\n",
    "saver = tf.train.Saver()\n",
    "sess = tf.Session()\n",
    "init = tf.global_variables_initializer()\n",
    "sess.run(init)\n",
    "\n",
    "ckpt = tf.train.get_checkpoint_state(ckpt_dir)\n",
    "\n",
    "if ckpt and ckpt.model_checkpoint_path:\n",
    "    saver.restore(sess, ckpt.model_checkpoint_path)  # 从已保存模型中读取参数\n",
    "    print(\"Restore model from \" + ckpt.model_checkpoint_path)\n"
   ]
  },
  {
   "cell_type": "code",
   "execution_count": 17,
   "metadata": {},
   "outputs": [
    {
     "name": "stdout",
     "output_type": "stream",
     "text": [
      "Accuracy: 0.9715\n"
     ]
    }
   ],
   "source": [
    "# 输出还原模型的准确率\n",
    "print(\n",
    "    \"Accuracy:\",\n",
    "    accuracy.eval(session=sess, feed_dict={x: mnist.test.images, y: mnist.test.labels}),\n",
    ")\n",
    "\n",
    "# Accuracy: 0.9744\n"
   ]
  },
  {
   "cell_type": "code",
   "execution_count": null,
   "metadata": {},
   "outputs": [],
   "source": []
  }
 ],
 "metadata": {
  "kernelspec": {
   "display_name": "tf1",
   "language": "python",
   "name": "python3"
  },
  "language_info": {
   "codemirror_mode": {
    "name": "ipython",
    "version": 3
   },
   "file_extension": ".py",
   "mimetype": "text/x-python",
   "name": "python",
   "nbconvert_exporter": "python",
   "pygments_lexer": "ipython3",
   "version": "3.6.13"
  }
 },
 "nbformat": 4,
 "nbformat_minor": 2
}
