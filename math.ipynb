{
 "cells": [
  {
   "cell_type": "markdown",
   "metadata": {},
   "source": [
    "# 数学对象"
   ]
  },
  {
   "cell_type": "code",
   "execution_count": 10,
   "metadata": {},
   "outputs": [
    {
     "name": "stdout",
     "output_type": "stream",
     "text": [
      "18\n"
     ]
    }
   ],
   "source": [
    "# 标量只是一个单一的数字\n",
    "scalar_value = 18\n",
    "print(scalar_value)\n"
   ]
  },
  {
   "cell_type": "code",
   "execution_count": 11,
   "metadata": {},
   "outputs": [
    {
     "ename": "AttributeError",
     "evalue": "'int' object has no attribute 'shape'",
     "output_type": "error",
     "traceback": [
      "\u001b[1;31m---------------------------------------------------------------------------\u001b[0m",
      "\u001b[1;31mAttributeError\u001b[0m                            Traceback (most recent call last)",
      "Cell \u001b[1;32mIn[11], line 3\u001b[0m\n\u001b[0;32m      1\u001b[0m \u001b[38;5;66;03m# 标量只是一个单一的数字\u001b[39;00m\n\u001b[0;32m      2\u001b[0m scalar_value \u001b[38;5;241m=\u001b[39m \u001b[38;5;241m18\u001b[39m\n\u001b[1;32m----> 3\u001b[0m \u001b[38;5;28mprint\u001b[39m(scalar_value, \u001b[43mscalar_value\u001b[49m\u001b[38;5;241;43m.\u001b[39;49m\u001b[43mshape\u001b[49m)\n",
      "\u001b[1;31mAttributeError\u001b[0m: 'int' object has no attribute 'shape'"
     ]
    }
   ],
   "source": [
    "# 标量只是一个单一的数字\n",
    "scalar_value = 18\n",
    "print(scalar_value, scalar_value.shape)  # 对int类型的数不能通过shape得到型\n"
   ]
  },
  {
   "cell_type": "code",
   "execution_count": 12,
   "metadata": {},
   "outputs": [
    {
     "name": "stdout",
     "output_type": "stream",
     "text": [
      "18 \n",
      " ()\n"
     ]
    }
   ],
   "source": [
    "import numpy as np\n",
    "\n",
    "# 标量只是一个单一的数字\n",
    "scalar_value = 18\n",
    "scalar_np = np.array(scalar_value)  # 转换为np中的数组array\n",
    "print(scalar_np, \"\\n\", scalar_np.shape)  # scalar_np为()\n"
   ]
  },
  {
   "cell_type": "code",
   "execution_count": 13,
   "metadata": {},
   "outputs": [
    {
     "name": "stdout",
     "output_type": "stream",
     "text": [
      "[1 2 3] \n",
      " (3,)\n"
     ]
    }
   ],
   "source": [
    "# 向量是一个有序的数字数组\n",
    "vector_value = [1, 2, 3]  # 这是一个列表\n",
    "vector_np = np.array(vector_value)  # 转换为np中的数组array\n",
    "print(\n",
    "    vector_np, \"\\n\", vector_np.shape\n",
    ")  # shape显示为一维数组，其实这既不能算行向量，也不能算列向量\n"
   ]
  },
  {
   "cell_type": "code",
   "execution_count": 14,
   "metadata": {},
   "outputs": [
    {
     "name": "stdout",
     "output_type": "stream",
     "text": [
      "matrix_list= [[1, 2, 3], [4, 5, 6]] \n",
      " matrix_np=\n",
      " [[1 2 3]\n",
      " [4 5 6]] \n",
      " matrix_np.shape= (2, 3)\n"
     ]
    }
   ],
   "source": [
    "# 矩阵是一个有序的二维数组，它有两个索引。第一个指向该行，第二个指向该列\n",
    "matrix_list = [[1, 2, 3], [4, 5, 6]]\n",
    "matrix_np = np.array(matrix_list)\n",
    "print(\n",
    "    \"matrix_list=\",\n",
    "    matrix_list,\n",
    "    \"\\n\",\n",
    "    \"matrix_np=\\n\",\n",
    "    matrix_np,\n",
    "    \"\\n\",\n",
    "    \"matrix_np.shape=\",\n",
    "    matrix_np.shape,\n",
    ")\n"
   ]
  },
  {
   "cell_type": "code",
   "execution_count": 15,
   "metadata": {},
   "outputs": [
    {
     "name": "stdout",
     "output_type": "stream",
     "text": [
      "[[1 2 3]] \n",
      " shape= (1, 3)\n"
     ]
    }
   ],
   "source": [
    "# 行向量的矩阵表示\n",
    "vector_row = np.array([[1, 2, 3]])\n",
    "print(vector_row, \"\\n\", \"shape=\", vector_row.shape)\n"
   ]
  },
  {
   "cell_type": "code",
   "execution_count": 16,
   "metadata": {},
   "outputs": [
    {
     "name": "stdout",
     "output_type": "stream",
     "text": [
      "[[4]\n",
      " [5]\n",
      " [6]] \n",
      " shape= (3, 1)\n"
     ]
    }
   ],
   "source": [
    "# 列向量的矩阵表示\n",
    "vector_column = np.array([[4], [5], [6]])\n",
    "print(vector_column, \"\\n\", \"shape=\", vector_column.shape)\n"
   ]
  },
  {
   "cell_type": "code",
   "execution_count": 17,
   "metadata": {},
   "outputs": [
    {
     "name": "stdout",
     "output_type": "stream",
     "text": [
      "[[1 2 3]\n",
      " [4 5 6]] \n",
      " shape= (2, 3)\n"
     ]
    }
   ],
   "source": [
    "# 矩阵与标量运算\n",
    "matrix_a = np.array([[1, 2, 3], [4, 5, 6]])\n",
    "print(matrix_a, \"\\n\", \"shape=\", matrix_a.shape)\n"
   ]
  },
  {
   "cell_type": "code",
   "execution_count": 18,
   "metadata": {},
   "outputs": [
    {
     "name": "stdout",
     "output_type": "stream",
     "text": [
      "[[ 2  4  6]\n",
      " [ 8 10 12]] \n",
      " shape= (2, 3)\n"
     ]
    }
   ],
   "source": [
    "# 矩阵*标量\n",
    "matrix_b = matrix_a * 2\n",
    "print(matrix_b, \"\\n\", \"shape=\", matrix_b.shape)\n"
   ]
  },
  {
   "cell_type": "code",
   "execution_count": 19,
   "metadata": {},
   "outputs": [
    {
     "name": "stdout",
     "output_type": "stream",
     "text": [
      "[[3 4 5]\n",
      " [6 7 8]] \n",
      " shape= (2, 3)\n"
     ]
    }
   ],
   "source": [
    "# 矩阵+标量\n",
    "matrix_c = matrix_a + 2\n",
    "print(matrix_c, \"\\n\", \"shape=\", matrix_c.shape)\n"
   ]
  },
  {
   "cell_type": "code",
   "execution_count": 20,
   "metadata": {},
   "outputs": [
    {
     "data": {
      "text/plain": [
       "array([[0, 0, 0],\n",
       "       [0, 0, 0]])"
      ]
     },
     "execution_count": 20,
     "metadata": {},
     "output_type": "execute_result"
    }
   ],
   "source": [
    "# 矩阵 + 矩阵\n",
    "\n",
    "matrix_a = np.array([[1, 2, 3], [4, 5, 6]])  # 2行3列\n",
    "matrix_b = np.array([[-1, -2, -3], [-4, -5, -6]])  # 2行3列\n",
    "\n",
    "matrix_a + matrix_b\n"
   ]
  },
  {
   "cell_type": "code",
   "execution_count": 21,
   "metadata": {},
   "outputs": [
    {
     "data": {
      "text/plain": [
       "array([[ -1,  -4,  -9],\n",
       "       [-16, -25, -36]])"
      ]
     },
     "execution_count": 21,
     "metadata": {},
     "output_type": "execute_result"
    }
   ],
   "source": [
    "# 矩阵 * 矩阵 (点积) ，对应位置数字相乘，两个矩阵行列数必须相等\n",
    "matrix_a = np.array([[1, 2, 3], [4, 5, 6]])  # 2行3列\n",
    "matrix_b = np.array([[-1, -2, -3], [-4, -5, -6]])  # 2行3列\n",
    "matrix_a * matrix_b  # 和 np.multiply 等价\n"
   ]
  },
  {
   "cell_type": "code",
   "execution_count": 22,
   "metadata": {},
   "outputs": [
    {
     "data": {
      "text/plain": [
       "array([[ -1,  -4,  -9],\n",
       "       [-16, -25, -36]])"
      ]
     },
     "execution_count": 22,
     "metadata": {},
     "output_type": "execute_result"
    }
   ],
   "source": [
    "# 矩阵 * 矩阵 (点积) ，对应位置数字相乘，两个矩阵行列数必须相等\n",
    "matrix_a = np.array([[1, 2, 3], [4, 5, 6]])  # 2行3列\n",
    "matrix_b = np.array([[-1, -2, -3], [-4, -5, -6]])  # 2行3列\n",
    "np.multiply(matrix_a, matrix_b)  # * 等价\n"
   ]
  },
  {
   "cell_type": "code",
   "execution_count": 25,
   "metadata": {},
   "outputs": [
    {
     "ename": "ValueError",
     "evalue": "operands could not be broadcast together with shapes (3,3) (2,3) ",
     "output_type": "error",
     "traceback": [
      "\u001b[1;31m---------------------------------------------------------------------------\u001b[0m",
      "\u001b[1;31mValueError\u001b[0m                                Traceback (most recent call last)",
      "Cell \u001b[1;32mIn[25], line 4\u001b[0m\n\u001b[0;32m      2\u001b[0m matrix_a \u001b[38;5;241m=\u001b[39m np\u001b[38;5;241m.\u001b[39marray([[\u001b[38;5;241m1\u001b[39m, \u001b[38;5;241m2\u001b[39m, \u001b[38;5;241m3\u001b[39m], [\u001b[38;5;241m4\u001b[39m, \u001b[38;5;241m5\u001b[39m, \u001b[38;5;241m6\u001b[39m], [\u001b[38;5;241m7\u001b[39m, \u001b[38;5;241m8\u001b[39m, \u001b[38;5;241m9\u001b[39m]])  \u001b[38;5;66;03m# 2行3列\u001b[39;00m\n\u001b[0;32m      3\u001b[0m matrix_b \u001b[38;5;241m=\u001b[39m np\u001b[38;5;241m.\u001b[39marray([[\u001b[38;5;241m-\u001b[39m\u001b[38;5;241m1\u001b[39m, \u001b[38;5;241m-\u001b[39m\u001b[38;5;241m2\u001b[39m, \u001b[38;5;241m-\u001b[39m\u001b[38;5;241m3\u001b[39m], [\u001b[38;5;241m-\u001b[39m\u001b[38;5;241m4\u001b[39m, \u001b[38;5;241m-\u001b[39m\u001b[38;5;241m5\u001b[39m, \u001b[38;5;241m-\u001b[39m\u001b[38;5;241m6\u001b[39m]])  \u001b[38;5;66;03m# 2行3列\u001b[39;00m\n\u001b[1;32m----> 4\u001b[0m \u001b[43mmatrix_a\u001b[49m\u001b[43m \u001b[49m\u001b[38;5;241;43m*\u001b[39;49m\u001b[43m \u001b[49m\u001b[43mmatrix_b\u001b[49m\n",
      "\u001b[1;31mValueError\u001b[0m: operands could not be broadcast together with shapes (3,3) (2,3) "
     ]
    }
   ],
   "source": [
    "# 矩阵 * 矩阵 (点积) ，对应位置数字相乘，两个矩阵行列数必须相等\n",
    "matrix_a = np.array([[1, 2, 3], [4, 5, 6], [7, 8, 9]])  # 2行3列\n",
    "matrix_b = np.array([[-1, -2, -3], [-4, -5, -6]])  # 2行3列\n",
    "matrix_a * matrix_b\n"
   ]
  },
  {
   "cell_type": "code",
   "execution_count": 27,
   "metadata": {},
   "outputs": [
    {
     "data": {
      "text/plain": [
       "array([[14, 16, 10, 10],\n",
       "       [32, 37, 28, 28]])"
      ]
     },
     "execution_count": 27,
     "metadata": {},
     "output_type": "execute_result"
    }
   ],
   "source": [
    "# 矩阵-矩阵乘法(叉乘)\n",
    "\n",
    "# 如果第一个矩阵列的数量与第二个矩阵行数相匹配，才能将矩阵相乘\n",
    "# 结果将是一个矩阵，它具有与第一个矩阵相同的行数和与第二个矩阵相同的列数\n",
    "\n",
    "matrix_a = np.array([[1, 2, 3], [4, 5, 6]])  # 2行3列\n",
    "matrix_b = np.array([[1, 2, 3, 4], [2, 1, 2, 0], [3, 4, 1, 2]])  # 3行4列\n",
    "\n",
    "np.matmul(matrix_a, matrix_b)  # 结果是2行4列\n"
   ]
  },
  {
   "cell_type": "code",
   "execution_count": 28,
   "metadata": {},
   "outputs": [
    {
     "ename": "ValueError",
     "evalue": "matmul: Input operand 1 has a mismatch in its core dimension 0, with gufunc signature (n?,k),(k,m?)->(n?,m?) (size 2 is different from 3)",
     "output_type": "error",
     "traceback": [
      "\u001b[1;31m---------------------------------------------------------------------------\u001b[0m",
      "\u001b[1;31mValueError\u001b[0m                                Traceback (most recent call last)",
      "Cell \u001b[1;32mIn[28], line 9\u001b[0m\n\u001b[0;32m      6\u001b[0m matrix_a \u001b[38;5;241m=\u001b[39m np\u001b[38;5;241m.\u001b[39marray([[\u001b[38;5;241m1\u001b[39m, \u001b[38;5;241m2\u001b[39m, \u001b[38;5;241m3\u001b[39m], [\u001b[38;5;241m4\u001b[39m, \u001b[38;5;241m5\u001b[39m, \u001b[38;5;241m6\u001b[39m]])  \u001b[38;5;66;03m# 2行3列\u001b[39;00m\n\u001b[0;32m      7\u001b[0m matrix_b \u001b[38;5;241m=\u001b[39m np\u001b[38;5;241m.\u001b[39marray([[\u001b[38;5;241m1\u001b[39m, \u001b[38;5;241m2\u001b[39m, \u001b[38;5;241m3\u001b[39m, \u001b[38;5;241m4\u001b[39m], [\u001b[38;5;241m3\u001b[39m, \u001b[38;5;241m4\u001b[39m, \u001b[38;5;241m1\u001b[39m, \u001b[38;5;241m2\u001b[39m]])  \u001b[38;5;66;03m# 2行4列\u001b[39;00m\n\u001b[1;32m----> 9\u001b[0m \u001b[43mnp\u001b[49m\u001b[38;5;241;43m.\u001b[39;49m\u001b[43mmatmul\u001b[49m\u001b[43m(\u001b[49m\u001b[43mmatrix_a\u001b[49m\u001b[43m,\u001b[49m\u001b[43m \u001b[49m\u001b[43mmatrix_b\u001b[49m\u001b[43m)\u001b[49m\n",
      "\u001b[1;31mValueError\u001b[0m: matmul: Input operand 1 has a mismatch in its core dimension 0, with gufunc signature (n?,k),(k,m?)->(n?,m?) (size 2 is different from 3)"
     ]
    }
   ],
   "source": [
    "# 矩阵-矩阵乘法(叉乘)\n",
    "\n",
    "# 如果第一个矩阵列的数量与第二个矩阵行数相匹配，才能将矩阵相乘\n",
    "# 结果将是一个矩阵，它具有与第一个矩阵相同的行数和与第二个矩阵相同的列数\n",
    "\n",
    "matrix_a = np.array([[1, 2, 3], [4, 5, 6]])  # 2行3列\n",
    "matrix_b = np.array([[1, 2, 3, 4], [3, 4, 1, 2]])  # 2行4列\n",
    "\n",
    "np.matmul(matrix_a, matrix_b)  # 报错\n"
   ]
  },
  {
   "cell_type": "code",
   "execution_count": 29,
   "metadata": {},
   "outputs": [
    {
     "data": {
      "text/plain": [
       "array([[14],\n",
       "       [32]])"
      ]
     },
     "execution_count": 29,
     "metadata": {},
     "output_type": "execute_result"
    }
   ],
   "source": [
    "# 矩阵向量乘法\n",
    "\n",
    "# 将矩阵与矢量相乘可以被认为是将矩阵的每一行与矢量的列相乘，矩阵的列数必须等于向量的行\n",
    "# 输出将是一个具有与矩阵相同行数的向量\n",
    "\n",
    "matrix_a = np.array([[1, 2, 3], [4, 5, 6]])  # 2行3列\n",
    "matrix_b = np.array([[1], [2], [3]])  # 3行1列\n",
    "\n",
    "np.matmul(matrix_a, matrix_b)  # 结果是2行1列\n"
   ]
  },
  {
   "cell_type": "code",
   "execution_count": 30,
   "metadata": {},
   "outputs": [
    {
     "data": {
      "text/plain": [
       "array([[7]])"
      ]
     },
     "execution_count": 30,
     "metadata": {},
     "output_type": "execute_result"
    }
   ],
   "source": [
    "matrix_a = np.array([[1, 2, 3]])  # 1行3列\n",
    "matrix_b = np.array([[2], [4], [-1]])  # 3行1列\n",
    "\n",
    "np.matmul(matrix_a, matrix_b)  # 结果是1行1列\n"
   ]
  },
  {
   "cell_type": "code",
   "execution_count": 31,
   "metadata": {},
   "outputs": [
    {
     "name": "stdout",
     "output_type": "stream",
     "text": [
      "[[1 2 3]\n",
      " [4 5 6]] shape= (2, 3) \n",
      " [[1 4]\n",
      " [2 5]\n",
      " [3 6]] Tshape= (3, 2)\n"
     ]
    }
   ],
   "source": [
    "matrix_a = np.array([[1, 2, 3], [4, 5, 6]])  # 2行3列\n",
    "print(matrix_a, \"shape=\", matrix_a.shape, \"\\n\", matrix_a.T, \"Tshape=\", matrix_a.T.shape)\n"
   ]
  },
  {
   "cell_type": "code",
   "execution_count": 33,
   "metadata": {},
   "outputs": [
    {
     "name": "stdout",
     "output_type": "stream",
     "text": [
      "[[1 2 3]] shape= (1, 3) \n",
      " [[1]\n",
      " [2]\n",
      " [3]] Tshape= (3, 1)\n"
     ]
    }
   ],
   "source": [
    "# 行列转置\n",
    "\n",
    "vector_row = np.array([[1, 2, 3]])\n",
    "\n",
    "print(\n",
    "    vector_row,\n",
    "    \"shape=\",\n",
    "    vector_row.shape,\n",
    "    \"\\n\",\n",
    "    vector_row.T,\n",
    "    \"Tshape=\",\n",
    "    vector_row.T.shape,\n",
    ")\n"
   ]
  },
  {
   "cell_type": "code",
   "execution_count": 34,
   "metadata": {},
   "outputs": [
    {
     "name": "stdout",
     "output_type": "stream",
     "text": [
      "[[1 2 3]] shape= (1, 3) \n",
      " [[1]\n",
      " [2]\n",
      " [3]] reshape= (3, 1)\n"
     ]
    }
   ],
   "source": [
    "# reshape\n",
    "\n",
    "vector_row = np.array([[1, 2, 3]])\n",
    "vector_column = vector_row.reshape(3, 1)\n",
    "\n",
    "\n",
    "print(\n",
    "    vector_row,\n",
    "    \"shape=\",\n",
    "    vector_row.shape,\n",
    "    \"\\n\",\n",
    "    vector_column,\n",
    "    \"reshape=\",\n",
    "    vector_column.shape,\n",
    ")\n"
   ]
  },
  {
   "cell_type": "code",
   "execution_count": null,
   "metadata": {},
   "outputs": [],
   "source": []
  }
 ],
 "metadata": {
  "kernelspec": {
   "display_name": "tf",
   "language": "python",
   "name": "tf"
  },
  "language_info": {
   "codemirror_mode": {
    "name": "ipython",
    "version": 3
   },
   "file_extension": ".py",
   "mimetype": "text/x-python",
   "name": "python",
   "nbconvert_exporter": "python",
   "pygments_lexer": "ipython3",
   "version": "3.9.18"
  }
 },
 "nbformat": 4,
 "nbformat_minor": 2
}
