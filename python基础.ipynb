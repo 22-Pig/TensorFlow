{
 "cells": [
  {
   "cell_type": "markdown",
   "id": "948652d7-d47a-412b-a2a8-7479c8b37444",
   "metadata": {},
   "source": [
    "# tf测试"
   ]
  },
  {
   "cell_type": "code",
   "execution_count": 22,
   "id": "350f28ec-6414-4f8e-8f0b-ce524f4da802",
   "metadata": {},
   "outputs": [
    {
     "data": {
      "text/plain": [
       "'2.5.0'"
      ]
     },
     "execution_count": 22,
     "metadata": {},
     "output_type": "execute_result"
    }
   ],
   "source": [
    "import tensorflow as tf\n",
    "\n",
    "tf.__version__"
   ]
  },
  {
   "cell_type": "markdown",
   "id": "edde7329-35b7-41ec-87e3-4835289487a5",
   "metadata": {},
   "source": [
    "# 输出语句print"
   ]
  },
  {
   "cell_type": "code",
   "execution_count": 23,
   "id": "9160ee35-19eb-4eca-9e0b-fce7c0da78f9",
   "metadata": {},
   "outputs": [
    {
     "name": "stdout",
     "output_type": "stream",
     "text": [
      "hello world!\n"
     ]
    }
   ],
   "source": [
    "print(\"hello world!\")"
   ]
  },
  {
   "cell_type": "code",
   "execution_count": 24,
   "id": "3179311c-b22e-4e43-b176-b9aedaf797d1",
   "metadata": {},
   "outputs": [
    {
     "name": "stdout",
     "output_type": "stream",
     "text": [
      "hello\n",
      "world!\n"
     ]
    }
   ],
   "source": [
    "print(\"hello\")\n",
    "print(\"world!\")"
   ]
  },
  {
   "cell_type": "code",
   "execution_count": 25,
   "id": "cc670193-acc6-4bb3-bd03-9bcbda9589b8",
   "metadata": {},
   "outputs": [
    {
     "name": "stdout",
     "output_type": "stream",
     "text": [
      "hello world!\n"
     ]
    }
   ],
   "source": [
    "print(\"hello\",end=' ')\n",
    "print(\"world!\")"
   ]
  },
  {
   "cell_type": "code",
   "execution_count": 26,
   "id": "91e11c1c-031a-4d3e-8ab4-afa87acaf193",
   "metadata": {},
   "outputs": [
    {
     "name": "stdout",
     "output_type": "stream",
     "text": [
      "hello world!\n"
     ]
    }
   ],
   "source": [
    "print(\"hello\",\"world!\")"
   ]
  },
  {
   "cell_type": "markdown",
   "id": "e8dbf3e6-1462-4c9c-ac0e-dcc1cccb2471",
   "metadata": {},
   "source": [
    "# 变量与数据类型"
   ]
  },
  {
   "cell_type": "code",
   "execution_count": 27,
   "id": "f6321275-18b9-466d-bc2b-2f6590e99053",
   "metadata": {
    "scrolled": true
   },
   "outputs": [
    {
     "name": "stdout",
     "output_type": "stream",
     "text": [
      "3 6.3 hello\n"
     ]
    }
   ],
   "source": [
    "int_a = 3\n",
    "float_b = 6.3\n",
    "str_c =\"hello\"\n",
    "print(int_a,float_b,str_c)"
   ]
  },
  {
   "cell_type": "code",
   "execution_count": 28,
   "id": "c297e06e-1095-4e73-b3c5-dcb1a4b4cc42",
   "metadata": {},
   "outputs": [
    {
     "name": "stdout",
     "output_type": "stream",
     "text": [
      "3 <class 'int'>\n"
     ]
    }
   ],
   "source": [
    "print(int_a, type(int_a))"
   ]
  },
  {
   "cell_type": "code",
   "execution_count": 29,
   "id": "19315146-0621-4e1f-8411-43c67db73e4e",
   "metadata": {},
   "outputs": [
    {
     "name": "stdout",
     "output_type": "stream",
     "text": [
      "6.3 <class 'float'>\n"
     ]
    }
   ],
   "source": [
    "print(float_b, type(float_b))"
   ]
  },
  {
   "cell_type": "code",
   "execution_count": 30,
   "id": "b162277a-cebf-4c45-8f91-0a940de881b9",
   "metadata": {},
   "outputs": [],
   "source": [
    "x_6 = 5"
   ]
  },
  {
   "cell_type": "code",
   "execution_count": 32,
   "id": "175a4734-b3c3-4150-8ca8-bec036222700",
   "metadata": {},
   "outputs": [
    {
     "ename": "SyntaxError",
     "evalue": "invalid decimal literal (4220122359.py, line 1)",
     "output_type": "error",
     "traceback": [
      "\u001b[1;36m  Cell \u001b[1;32mIn[32], line 1\u001b[1;36m\u001b[0m\n\u001b[1;33m    6_x = 6\u001b[0m\n\u001b[1;37m     ^\u001b[0m\n\u001b[1;31mSyntaxError\u001b[0m\u001b[1;31m:\u001b[0m invalid decimal literal\n"
     ]
    }
   ],
   "source": [
    "6_x = 6"
   ]
  },
  {
   "cell_type": "code",
   "execution_count": 33,
   "id": "9274a525-6d21-414d-9e1e-b17cb9a0a94f",
   "metadata": {},
   "outputs": [],
   "source": [
    "X_6 = 8"
   ]
  },
  {
   "cell_type": "code",
   "execution_count": 34,
   "id": "6b7a72e2-84e7-4a16-9952-e95f3958541a",
   "metadata": {},
   "outputs": [
    {
     "name": "stdout",
     "output_type": "stream",
     "text": [
      "5 8\n"
     ]
    }
   ],
   "source": [
    "print(x_6,X_6)"
   ]
  },
  {
   "cell_type": "markdown",
   "id": "1509d113-e3c9-4a0c-86d2-12881e04f78f",
   "metadata": {},
   "source": [
    "# 数值型变量"
   ]
  },
  {
   "cell_type": "code",
   "execution_count": 35,
   "id": "b4e74bdf-6e76-4c73-8527-35a1774d2fa6",
   "metadata": {},
   "outputs": [
    {
     "name": "stdout",
     "output_type": "stream",
     "text": [
      "2 8 16\n"
     ]
    }
   ],
   "source": [
    "var1 = 0b10; var2= 0o10; var3 = 0x10\n",
    "print(var1,var2,var3)"
   ]
  },
  {
   "cell_type": "code",
   "execution_count": 36,
   "id": "925e0c4e-e3ce-4c1b-81ae-b04a163d74bf",
   "metadata": {},
   "outputs": [
    {
     "name": "stdout",
     "output_type": "stream",
     "text": [
      "1234567891230189294871985172983123 <class 'int'>\n"
     ]
    }
   ],
   "source": [
    "var1 = 1234567891230189294871985172983123\n",
    "print(var1, type(var1))"
   ]
  },
  {
   "cell_type": "code",
   "execution_count": 37,
   "id": "be052f4d-b49b-4ad3-b878-f7f2b28f0f1e",
   "metadata": {},
   "outputs": [
    {
     "name": "stdout",
     "output_type": "stream",
     "text": [
      "1e-05 6700000000000000.0 6.7e+16 -1.8\n"
     ]
    }
   ],
   "source": [
    "var1 = 1e-5; var2 = 6.7e15; var3 =6.7e16; var4 =-1.8\n",
    "print(var1, var2, var3, var4)"
   ]
  },
  {
   "cell_type": "code",
   "execution_count": 38,
   "id": "acb8cfd3-d848-4305-80a7-9501a24ee4db",
   "metadata": {},
   "outputs": [
    {
     "name": "stdout",
     "output_type": "stream",
     "text": [
      "(3+5.3j) <class 'complex'> (340000+7.8j) <class 'complex'>\n"
     ]
    }
   ],
   "source": [
    "var1 = 3+5.3j; var2 = complex(3.4e5, 7.8)\n",
    "print(var1, type(var1), var2, type(var2))"
   ]
  },
  {
   "cell_type": "code",
   "execution_count": 39,
   "id": "5ada6b65-0896-4e02-aa7a-e9c743520d2e",
   "metadata": {},
   "outputs": [
    {
     "name": "stdout",
     "output_type": "stream",
     "text": [
      "True <class 'bool'>\n",
      "False <class 'bool'>\n"
     ]
    }
   ],
   "source": [
    "i_love_you = True\n",
    "you_love_me = False\n",
    "print(i_love_you, type(i_love_you))\n",
    "print (you_love_me,type (you_love_me))"
   ]
  },
  {
   "cell_type": "markdown",
   "id": "3436a0ad-0e5e-4490-9e81-ba0619261d3f",
   "metadata": {},
   "source": [
    "# 注释"
   ]
  },
  {
   "cell_type": "code",
   "execution_count": 40,
   "id": "09dc2cc3-d773-440d-ba91-45a9e3516409",
   "metadata": {},
   "outputs": [
    {
     "name": "stdout",
     "output_type": "stream",
     "text": [
      "这句可以被输出\n"
     ]
    }
   ],
   "source": [
    "print(\"这句可以被输出\")"
   ]
  },
  {
   "cell_type": "code",
   "execution_count": 41,
   "id": "73067a4a-a10b-4310-9e71-8a5809d8eceb",
   "metadata": {},
   "outputs": [],
   "source": [
    "# print(\"这句可以被输出\")"
   ]
  },
  {
   "cell_type": "code",
   "execution_count": 61,
   "id": "0b635ae2-c204-4f5c-ad67-1648ef62887c",
   "metadata": {},
   "outputs": [
    {
     "name": "stdout",
     "output_type": "stream",
     "text": [
      "这句能打印出来\n",
      "这句可以打印出来了\n"
     ]
    }
   ],
   "source": [
    "print(\"这句能打印出来\")\n",
    "\n",
    "\"\"\" print(\"这句不能打印出来\")\n",
    "print(\"这句也不能打印出来\")\n",
    " \"\"\"\n",
    "\n",
    "print(\"这句可以打印出来了\")"
   ]
  },
  {
   "cell_type": "markdown",
   "id": "ebea692a-bf10-489b-871b-91ccd24f1aa3",
   "metadata": {},
   "source": [
    "# 算术运算"
   ]
  },
  {
   "cell_type": "code",
   "execution_count": 43,
   "id": "3040b2b2-463f-4edd-b401-f2d75ae7ca42",
   "metadata": {},
   "outputs": [
    {
     "data": {
      "text/plain": [
       "13"
      ]
     },
     "execution_count": 43,
     "metadata": {},
     "output_type": "execute_result"
    }
   ],
   "source": [
    "10 + 3"
   ]
  },
  {
   "cell_type": "code",
   "execution_count": 44,
   "id": "a2bb87a2-10e9-466b-95e1-a33746643957",
   "metadata": {},
   "outputs": [
    {
     "name": "stdout",
     "output_type": "stream",
     "text": [
      "13.0 <class 'float'>\n"
     ]
    }
   ],
   "source": [
    "a = 10 + 3.0\n",
    "print(a, type(a))"
   ]
  },
  {
   "cell_type": "code",
   "execution_count": 45,
   "id": "48f27dd0-97b7-482a-b21b-3bd62c2b491a",
   "metadata": {},
   "outputs": [
    {
     "data": {
      "text/plain": [
       "30"
      ]
     },
     "execution_count": 45,
     "metadata": {},
     "output_type": "execute_result"
    }
   ],
   "source": [
    "10 * 3"
   ]
  },
  {
   "cell_type": "code",
   "execution_count": 46,
   "id": "6766456d-6890-4e3f-994c-8c7b077d42a7",
   "metadata": {},
   "outputs": [
    {
     "data": {
      "text/plain": [
       "3.3333333333333335"
      ]
     },
     "execution_count": 46,
     "metadata": {},
     "output_type": "execute_result"
    }
   ],
   "source": [
    "10 / 3"
   ]
  },
  {
   "cell_type": "code",
   "execution_count": 47,
   "id": "8d924b38-98b5-4fbe-b5dd-2f7d01dc2e06",
   "metadata": {},
   "outputs": [
    {
     "data": {
      "text/plain": [
       "3"
      ]
     },
     "execution_count": 47,
     "metadata": {},
     "output_type": "execute_result"
    }
   ],
   "source": [
    "10 // 3"
   ]
  },
  {
   "cell_type": "code",
   "execution_count": 48,
   "id": "044a6ed9-93c8-466a-b25d-8c11a9650875",
   "metadata": {},
   "outputs": [
    {
     "data": {
      "text/plain": [
       "3.0"
      ]
     },
     "execution_count": 48,
     "metadata": {},
     "output_type": "execute_result"
    }
   ],
   "source": [
    "10 // 3.0"
   ]
  },
  {
   "cell_type": "code",
   "execution_count": 49,
   "id": "ec664ab6-fcea-429b-970c-c6219cd8bab8",
   "metadata": {},
   "outputs": [
    {
     "data": {
      "text/plain": [
       "3.0"
      ]
     },
     "execution_count": 49,
     "metadata": {},
     "output_type": "execute_result"
    }
   ],
   "source": [
    "10.3 // 3"
   ]
  },
  {
   "cell_type": "code",
   "execution_count": 50,
   "id": "cd319f0c-2e58-4aba-9a85-2a557a17bc28",
   "metadata": {},
   "outputs": [
    {
     "data": {
      "text/plain": [
       "1"
      ]
     },
     "execution_count": 50,
     "metadata": {},
     "output_type": "execute_result"
    }
   ],
   "source": [
    "10 % 3"
   ]
  },
  {
   "cell_type": "markdown",
   "id": "69bbca29-cecc-40f5-961d-a0be96897ef7",
   "metadata": {},
   "source": [
    "## 结果符号和除数相同"
   ]
  },
  {
   "cell_type": "code",
   "execution_count": 51,
   "id": "5b7f4c7b-7d40-4d9a-aa7a-2ea5cfbbff40",
   "metadata": {},
   "outputs": [
    {
     "data": {
      "text/plain": [
       "2"
      ]
     },
     "execution_count": 51,
     "metadata": {},
     "output_type": "execute_result"
    }
   ],
   "source": [
    "-10 % 3"
   ]
  },
  {
   "cell_type": "code",
   "execution_count": 52,
   "id": "2521399c-4b82-412f-afed-742b2e0b6639",
   "metadata": {},
   "outputs": [
    {
     "data": {
      "text/plain": [
       "-2"
      ]
     },
     "execution_count": 52,
     "metadata": {},
     "output_type": "execute_result"
    }
   ],
   "source": [
    "10 % -3"
   ]
  },
  {
   "cell_type": "code",
   "execution_count": 53,
   "id": "d36b38c7-5a40-4d66-945c-90737caa490b",
   "metadata": {},
   "outputs": [
    {
     "data": {
      "text/plain": [
       "1000"
      ]
     },
     "execution_count": 53,
     "metadata": {},
     "output_type": "execute_result"
    }
   ],
   "source": [
    "10 ** 3"
   ]
  },
  {
   "cell_type": "code",
   "execution_count": 54,
   "id": "c7e26f01-4ba3-40c8-939a-0a5855d3a782",
   "metadata": {},
   "outputs": [
    {
     "data": {
      "text/plain": [
       "1000.0"
      ]
     },
     "execution_count": 54,
     "metadata": {},
     "output_type": "execute_result"
    }
   ],
   "source": [
    "10 ** 3.0"
   ]
  },
  {
   "cell_type": "markdown",
   "id": "d9d3a2d5-ff77-4926-8861-91414b0c7baf",
   "metadata": {},
   "source": [
    "# 关系运算"
   ]
  },
  {
   "cell_type": "code",
   "execution_count": 55,
   "id": "be2e7e3e-f7de-4db2-8ed2-a930d4bd33a1",
   "metadata": {},
   "outputs": [
    {
     "name": "stdout",
     "output_type": "stream",
     "text": [
      "False\n"
     ]
    }
   ],
   "source": [
    "x = 1; y =2;\n",
    "print(x == y)"
   ]
  },
  {
   "cell_type": "code",
   "execution_count": 56,
   "id": "5ec61830-5bfa-472f-8ff0-57ac8b005248",
   "metadata": {},
   "outputs": [
    {
     "data": {
      "text/plain": [
       "False"
      ]
     },
     "execution_count": 56,
     "metadata": {},
     "output_type": "execute_result"
    }
   ],
   "source": [
    "10 < 3"
   ]
  },
  {
   "cell_type": "code",
   "execution_count": 57,
   "id": "f05f9a47-38f2-4b85-b678-8b4169eac315",
   "metadata": {},
   "outputs": [
    {
     "data": {
      "text/plain": [
       "True"
      ]
     },
     "execution_count": 57,
     "metadata": {},
     "output_type": "execute_result"
    }
   ],
   "source": [
    "10 > 3"
   ]
  },
  {
   "cell_type": "code",
   "execution_count": 58,
   "id": "e512aa1a-7f7d-43ca-8953-56c219c933ce",
   "metadata": {},
   "outputs": [
    {
     "data": {
      "text/plain": [
       "False"
      ]
     },
     "execution_count": 58,
     "metadata": {},
     "output_type": "execute_result"
    }
   ],
   "source": [
    "10 <= 3"
   ]
  },
  {
   "cell_type": "code",
   "execution_count": 59,
   "id": "4b75526a-5239-4531-9ce5-47ce49bda881",
   "metadata": {},
   "outputs": [
    {
     "ename": "SyntaxError",
     "evalue": "invalid syntax (3876186677.py, line 1)",
     "output_type": "error",
     "traceback": [
      "\u001b[1;36m  Cell \u001b[1;32mIn[59], line 1\u001b[1;36m\u001b[0m\n\u001b[1;33m    10 <> 3\u001b[0m\n\u001b[1;37m       ^\u001b[0m\n\u001b[1;31mSyntaxError\u001b[0m\u001b[1;31m:\u001b[0m invalid syntax\n"
     ]
    }
   ],
   "source": [
    "10 <> 3"
   ]
  },
  {
   "cell_type": "code",
   "execution_count": 62,
   "id": "be56b0f6-aa35-4efd-98f0-876ab0e345c5",
   "metadata": {},
   "outputs": [
    {
     "data": {
      "text/plain": [
       "True"
      ]
     },
     "execution_count": 62,
     "metadata": {},
     "output_type": "execute_result"
    }
   ],
   "source": [
    "10 != 3"
   ]
  },
  {
   "cell_type": "code",
   "execution_count": 63,
   "id": "5aa488a6-c0b2-4657-b0d3-263ce7b7d3ea",
   "metadata": {},
   "outputs": [
    {
     "data": {
      "text/plain": [
       "True"
      ]
     },
     "execution_count": 63,
     "metadata": {},
     "output_type": "execute_result"
    }
   ],
   "source": [
    "3 == 3.0"
   ]
  },
  {
   "cell_type": "code",
   "execution_count": 64,
   "id": "a348a163-e86f-48f5-bbed-4b3ef5d816af",
   "metadata": {},
   "outputs": [
    {
     "data": {
      "text/plain": [
       "False"
      ]
     },
     "execution_count": 64,
     "metadata": {},
     "output_type": "execute_result"
    }
   ],
   "source": [
    "3 == \"3\""
   ]
  },
  {
   "cell_type": "code",
   "execution_count": 65,
   "id": "1655feb7-e11a-4d24-8d52-a39a8464d30b",
   "metadata": {},
   "outputs": [
    {
     "data": {
      "text/plain": [
       "True"
      ]
     },
     "execution_count": 65,
     "metadata": {},
     "output_type": "execute_result"
    }
   ],
   "source": [
    "10 + 3 == 13"
   ]
  },
  {
   "cell_type": "code",
   "execution_count": 66,
   "id": "15f99336-4985-44b2-b53d-92b4399ba0b6",
   "metadata": {},
   "outputs": [
    {
     "data": {
      "text/plain": [
       "True"
      ]
     },
     "execution_count": 66,
     "metadata": {},
     "output_type": "execute_result"
    }
   ],
   "source": [
    "13 == 10 + 3"
   ]
  },
  {
   "cell_type": "markdown",
   "id": "4e1f35cc-01ec-4dfb-8ce9-c6c50d118bdb",
   "metadata": {},
   "source": [
    "# 赋值运算"
   ]
  },
  {
   "cell_type": "code",
   "execution_count": 67,
   "id": "97709e2f-218d-4b19-82cb-3dc0420ec529",
   "metadata": {},
   "outputs": [
    {
     "name": "stdout",
     "output_type": "stream",
     "text": [
      "13\n"
     ]
    }
   ],
   "source": [
    "var1 = 10 + 3\n",
    "print(var1)"
   ]
  },
  {
   "cell_type": "code",
   "execution_count": 68,
   "id": "84ed023f-83ee-4c76-9fa3-83b6a8737874",
   "metadata": {},
   "outputs": [
    {
     "name": "stdout",
     "output_type": "stream",
     "text": [
      "13\n"
     ]
    }
   ],
   "source": [
    "z = 10\n",
    "z +=3\n",
    "print(z)"
   ]
  },
  {
   "cell_type": "code",
   "execution_count": 69,
   "id": "83347c9c-16e5-44be-9a26-027d0bdec1b7",
   "metadata": {},
   "outputs": [
    {
     "name": "stdout",
     "output_type": "stream",
     "text": [
      "7\n"
     ]
    }
   ],
   "source": [
    "z =10\n",
    "z -= 3\n",
    "print(z)"
   ]
  },
  {
   "cell_type": "code",
   "execution_count": 70,
   "id": "b8da4ddf-a3af-4c7a-810c-b8938b2402fd",
   "metadata": {},
   "outputs": [
    {
     "name": "stdout",
     "output_type": "stream",
     "text": [
      "70\n"
     ]
    }
   ],
   "source": [
    "z = 10\n",
    "z *= 4+3\n",
    "print(z)\n",
    "# z = z *( 4+3 )"
   ]
  },
  {
   "cell_type": "code",
   "execution_count": 71,
   "id": "1d2aba88-e729-46e6-b4ac-91eeeb63f6ac",
   "metadata": {},
   "outputs": [
    {
     "ename": "SyntaxError",
     "evalue": "cannot assign to operator (189194633.py, line 1)",
     "output_type": "error",
     "traceback": [
      "\u001b[1;36m  Cell \u001b[1;32mIn[71], line 1\u001b[1;36m\u001b[0m\n\u001b[1;33m    z - 1 =9\u001b[0m\n\u001b[1;37m    ^\u001b[0m\n\u001b[1;31mSyntaxError\u001b[0m\u001b[1;31m:\u001b[0m cannot assign to operator\n"
     ]
    }
   ],
   "source": [
    "z - 1 = 9"
   ]
  },
  {
   "cell_type": "markdown",
   "id": "f856c549-7b32-4f29-93fc-6123a38e650f",
   "metadata": {},
   "source": [
    "# 字符串"
   ]
  },
  {
   "cell_type": "code",
   "execution_count": 73,
   "id": "e22d681b",
   "metadata": {},
   "outputs": [
    {
     "name": "stdout",
     "output_type": "stream",
     "text": [
      "i love python <class 'str'>\n",
      "我爱中华! <class 'str'>\n",
      "python3支持中文等符号 <class 'str'>\n"
     ]
    }
   ],
   "source": [
    "var1 = \"i love python\"\n",
    "var2 = \"我爱中华!\"\n",
    "中文变量名 = \"python3支持中文等符号\"\n",
    "print(var1, type(var1))\n",
    "print(var2, type(var2))\n",
    "print(中文变量名, type(中文变量名))\n"
   ]
  },
  {
   "cell_type": "code",
   "execution_count": 1,
   "id": "0d271f1f",
   "metadata": {},
   "outputs": [
    {
     "name": "stdout",
     "output_type": "stream",
     "text": [
      "he said 'hello'\n"
     ]
    }
   ],
   "source": [
    "print(\"he said 'hello'\")"
   ]
  },
  {
   "cell_type": "code",
   "execution_count": 1,
   "id": "1ee49b09-8cc6-4140-ac5b-310a0ee668fa",
   "metadata": {},
   "outputs": [
    {
     "name": "stdout",
     "output_type": "stream",
     "text": [
      "this is first line\n",
      "this is second line\n"
     ]
    }
   ],
   "source": [
    "print (\"this is first line\\nthis is second line\")"
   ]
  },
  {
   "cell_type": "code",
   "execution_count": 2,
   "id": "4c4616ee-3793-4b9a-8259-1e0d733dfd2f",
   "metadata": {},
   "outputs": [
    {
     "name": "stdout",
     "output_type": "stream",
     "text": [
      "this is first line\\nthis is second line\n"
     ]
    }
   ],
   "source": [
    "print (r\"this is first line\\nthis is second line\")"
   ]
  },
  {
   "cell_type": "code",
   "execution_count": 3,
   "id": "5c5d68f7-2427-4edd-abfb-e49ee4f8b921",
   "metadata": {},
   "outputs": [
    {
     "name": "stdout",
     "output_type": "stream",
     "text": [
      "first line\n",
      "             second line\n",
      "             third line\n"
     ]
    }
   ],
   "source": [
    "str1 = '''first line\n",
    "             second line\n",
    "             third line'''\n",
    "print(str1)"
   ]
  },
  {
   "cell_type": "code",
   "execution_count": 4,
   "id": "d4accd16-ceff-4726-976f-98f6d15049ba",
   "metadata": {},
   "outputs": [
    {
     "name": "stdout",
     "output_type": "stream",
     "text": [
      "first line\n",
      "second line\n",
      "third line\n"
     ]
    }
   ],
   "source": [
    "str1 = '''first line\n",
    "second line\n",
    "third line'''\n",
    "print(str1)"
   ]
  },
  {
   "cell_type": "code",
   "execution_count": 5,
   "id": "1ab9801a-7b1a-4be2-a0a4-a1b5de938df2",
   "metadata": {},
   "outputs": [
    {
     "data": {
      "text/plain": [
       "'hello world'"
      ]
     },
     "execution_count": 5,
     "metadata": {},
     "output_type": "execute_result"
    }
   ],
   "source": [
    "\"hello\" + \" world\""
   ]
  },
  {
   "cell_type": "code",
   "execution_count": 6,
   "id": "3835c7aa-61fb-44f7-b6dd-400e23850942",
   "metadata": {},
   "outputs": [
    {
     "ename": "TypeError",
     "evalue": "can only concatenate str (not \"int\") to str",
     "output_type": "error",
     "traceback": [
      "\u001b[1;31m---------------------------------------------------------------------------\u001b[0m",
      "\u001b[1;31mTypeError\u001b[0m                                 Traceback (most recent call last)",
      "Cell \u001b[1;32mIn[6], line 1\u001b[0m\n\u001b[1;32m----> 1\u001b[0m \u001b[38;5;124;43m\"\u001b[39;49m\u001b[38;5;124;43mbye\u001b[39;49m\u001b[38;5;124;43m\"\u001b[39;49m\u001b[38;5;241;43m+\u001b[39;49m\u001b[38;5;241;43m2\u001b[39;49m\n",
      "\u001b[1;31mTypeError\u001b[0m: can only concatenate str (not \"int\") to str"
     ]
    }
   ],
   "source": [
    "\"bye\"+2"
   ]
  },
  {
   "cell_type": "code",
   "execution_count": 7,
   "id": "993f4f4f-2a4d-46c6-974a-aa325d18e3b1",
   "metadata": {},
   "outputs": [
    {
     "data": {
      "text/plain": [
       "9"
      ]
     },
     "execution_count": 7,
     "metadata": {},
     "output_type": "execute_result"
    }
   ],
   "source": [
    "4+5"
   ]
  },
  {
   "cell_type": "code",
   "execution_count": 8,
   "id": "ed20450b-09de-4c08-8936-a39133a4dfa9",
   "metadata": {},
   "outputs": [
    {
     "data": {
      "text/plain": [
       "'45'"
      ]
     },
     "execution_count": 8,
     "metadata": {},
     "output_type": "execute_result"
    }
   ],
   "source": [
    "\"4\"+\"5\""
   ]
  },
  {
   "cell_type": "markdown",
   "id": "a02bef5b-692a-447a-baaa-1a395da51a03",
   "metadata": {},
   "source": [
    "# List 列表\n"
   ]
  },
  {
   "cell_type": "code",
   "execution_count": 9,
   "id": "b2e0563e-40d4-4d23-a64d-d13100125738",
   "metadata": {},
   "outputs": [
    {
     "name": "stdout",
     "output_type": "stream",
     "text": [
      "[1, 2, 3, 4, 5, 6]\n"
     ]
    }
   ],
   "source": [
    "list1 = [1,2,3,4,5,6]\n",
    "print(list1)"
   ]
  },
  {
   "cell_type": "code",
   "execution_count": 10,
   "id": "35a2f28f-d98f-43b6-8c52-07eb4d8b5261",
   "metadata": {},
   "outputs": [
    {
     "name": "stdout",
     "output_type": "stream",
     "text": [
      "[1, 2, 3, 4, 5, 6, 'hello python', [8, 9, 10, 11, 12]]\n"
     ]
    }
   ],
   "source": [
    "list2 = [1,2,3,4,5,6,\"hello python\",[8,9,10,11,12]]\n",
    "print(list2)"
   ]
  },
  {
   "cell_type": "code",
   "execution_count": 11,
   "id": "381413a7-1978-4e40-a7cd-a9298007d939",
   "metadata": {},
   "outputs": [
    {
     "data": {
      "text/plain": [
       "1"
      ]
     },
     "execution_count": 11,
     "metadata": {},
     "output_type": "execute_result"
    }
   ],
   "source": [
    "list1 = [1,2,3,4,5,6]\n",
    "list1[0]"
   ]
  },
  {
   "cell_type": "code",
   "execution_count": 12,
   "id": "b48defde-3b6d-4be5-8710-5d1e131d7b09",
   "metadata": {},
   "outputs": [
    {
     "data": {
      "text/plain": [
       "6"
      ]
     },
     "execution_count": 12,
     "metadata": {},
     "output_type": "execute_result"
    }
   ],
   "source": [
    "list1[-1]"
   ]
  },
  {
   "cell_type": "code",
   "execution_count": 13,
   "id": "58422c0e-1c59-4af7-ba2c-833a97129b9a",
   "metadata": {},
   "outputs": [
    {
     "data": {
      "text/plain": [
       "3"
      ]
     },
     "execution_count": 13,
     "metadata": {},
     "output_type": "execute_result"
    }
   ],
   "source": [
    "list1[2]"
   ]
  },
  {
   "cell_type": "code",
   "execution_count": 14,
   "id": "af5b7942-0e88-4f81-a2ef-e3ccfd60108b",
   "metadata": {},
   "outputs": [
    {
     "data": {
      "text/plain": [
       "4"
      ]
     },
     "execution_count": 14,
     "metadata": {},
     "output_type": "execute_result"
    }
   ],
   "source": [
    "list1[-3]"
   ]
  },
  {
   "cell_type": "code",
   "execution_count": 16,
   "id": "a2e8d929-14d8-4f7a-98ad-3cbe6c654734",
   "metadata": {},
   "outputs": [
    {
     "ename": "IndexError",
     "evalue": "list index out of range",
     "output_type": "error",
     "traceback": [
      "\u001b[1;31m---------------------------------------------------------------------------\u001b[0m",
      "\u001b[1;31mIndexError\u001b[0m                                Traceback (most recent call last)",
      "Cell \u001b[1;32mIn[16], line 1\u001b[0m\n\u001b[1;32m----> 1\u001b[0m \u001b[43mlist1\u001b[49m\u001b[43m[\u001b[49m\u001b[38;5;241;43m6\u001b[39;49m\u001b[43m]\u001b[49m\n",
      "\u001b[1;31mIndexError\u001b[0m: list index out of range"
     ]
    }
   ],
   "source": [
    "list1[6]"
   ]
  },
  {
   "cell_type": "code",
   "execution_count": 17,
   "id": "f29f710a-fe4e-4917-ae26-17fbd29c907a",
   "metadata": {},
   "outputs": [
    {
     "data": {
      "text/plain": [
       "[1, 2, 3]"
      ]
     },
     "execution_count": 17,
     "metadata": {},
     "output_type": "execute_result"
    }
   ],
   "source": [
    "list1[0:3]"
   ]
  },
  {
   "cell_type": "code",
   "execution_count": 18,
   "id": "02f2c638-c324-4df4-b214-5b313a1d2c88",
   "metadata": {},
   "outputs": [
    {
     "data": {
      "text/plain": [
       "[4, 5]"
      ]
     },
     "execution_count": 18,
     "metadata": {},
     "output_type": "execute_result"
    }
   ],
   "source": [
    "list1[-3:-1]"
   ]
  },
  {
   "cell_type": "code",
   "execution_count": 19,
   "id": "791d457b-9e14-47c9-a5a1-66aec0835071",
   "metadata": {},
   "outputs": [
    {
     "data": {
      "text/plain": [
       "[1, 3, 5]"
      ]
     },
     "execution_count": 19,
     "metadata": {},
     "output_type": "execute_result"
    }
   ],
   "source": [
    "list1[::2]"
   ]
  },
  {
   "cell_type": "code",
   "execution_count": 20,
   "id": "26b73515-3052-4b97-a5dc-d4b87e174fff",
   "metadata": {},
   "outputs": [
    {
     "data": {
      "text/plain": [
       "[6]"
      ]
     },
     "execution_count": 20,
     "metadata": {},
     "output_type": "execute_result"
    }
   ],
   "source": [
    "list1[-1::2]"
   ]
  },
  {
   "cell_type": "code",
   "execution_count": 21,
   "id": "13bbd881-b1b0-4962-b039-4b23c620d4cf",
   "metadata": {},
   "outputs": [
    {
     "data": {
      "text/plain": [
       "[2, 4, 6]"
      ]
     },
     "execution_count": 21,
     "metadata": {},
     "output_type": "execute_result"
    }
   ],
   "source": [
    "list1[1::2]"
   ]
  },
  {
   "cell_type": "code",
   "execution_count": 22,
   "id": "4b1f85e0-ec5f-4b40-8df2-ccf78ec81093",
   "metadata": {},
   "outputs": [
    {
     "data": {
      "text/plain": [
       "[6, 4, 2]"
      ]
     },
     "execution_count": 22,
     "metadata": {},
     "output_type": "execute_result"
    }
   ],
   "source": [
    "list1[-1::-2]"
   ]
  },
  {
   "cell_type": "code",
   "execution_count": 23,
   "id": "c10adadf-da4d-4c39-a54b-f9850dc48b0a",
   "metadata": {},
   "outputs": [
    {
     "data": {
      "text/plain": [
       "[4, 6]"
      ]
     },
     "execution_count": 23,
     "metadata": {},
     "output_type": "execute_result"
    }
   ],
   "source": [
    "list1[-3::2]"
   ]
  },
  {
   "cell_type": "code",
   "execution_count": 24,
   "id": "073a6e89-cef4-4070-bda8-1293f031476c",
   "metadata": {},
   "outputs": [
    {
     "name": "stdout",
     "output_type": "stream",
     "text": [
      "[9, 10, 11, 12]\n"
     ]
    }
   ],
   "source": [
    "list2 = [1,2,3,4,5,6,\"hello python\",[8,9,10,11,12]]\n",
    "print(list2[-1][1:])"
   ]
  },
  {
   "cell_type": "code",
   "execution_count": 25,
   "id": "a0d3b1d2-6443-4dfc-8c05-36261dbd1c39",
   "metadata": {},
   "outputs": [
    {
     "name": "stdout",
     "output_type": "stream",
     "text": [
      "llo\n"
     ]
    }
   ],
   "source": [
    "str1 = 'hello, hangzhou!'\n",
    "print(str1[2:5])"
   ]
  },
  {
   "cell_type": "code",
   "execution_count": 26,
   "id": "b2d4e4f7-db2d-4eed-9117-73c56c3a95cf",
   "metadata": {},
   "outputs": [
    {
     "name": "stdout",
     "output_type": "stream",
     "text": [
      "!\n"
     ]
    }
   ],
   "source": [
    "print(str1[-1])"
   ]
  },
  {
   "cell_type": "markdown",
   "id": "0d7d1f1f-8ca7-4920-8c6f-5773c8abf606",
   "metadata": {},
   "source": [
    "# Tuple 元组"
   ]
  },
  {
   "cell_type": "code",
   "execution_count": 27,
   "id": "b97cdfe2-c9b6-4cab-88c6-68f22f86cdbc",
   "metadata": {},
   "outputs": [
    {
     "name": "stdout",
     "output_type": "stream",
     "text": [
      "[1, 2, 3, 4, 5, 6, 'hello python', [8, 9, 10, 11, 12], (13, 14)]\n"
     ]
    }
   ],
   "source": [
    "tuple1 = [1,2,3,4,5,6,\"hello python\",[8,9,10,11,12],(13,14)]\n",
    "print(tuple1)"
   ]
  },
  {
   "cell_type": "code",
   "execution_count": 28,
   "id": "dc1d6c69-75d6-45d8-9192-5253b733d5ff",
   "metadata": {},
   "outputs": [
    {
     "name": "stdout",
     "output_type": "stream",
     "text": [
      "1\n",
      "(13, 14)\n",
      "['hello python', [8, 9, 10, 11, 12]]\n",
      "14\n"
     ]
    }
   ],
   "source": [
    "print(tuple1[0])\n",
    "print(tuple1[-1])\n",
    "print(tuple1[6:-1])\n",
    "print(tuple1[-1][-1])"
   ]
  },
  {
   "cell_type": "code",
   "execution_count": 29,
   "id": "30ae236f-d53e-46af-acb1-d69902f3084a",
   "metadata": {},
   "outputs": [
    {
     "ename": "TypeError",
     "evalue": "'type' object does not support item assignment",
     "output_type": "error",
     "traceback": [
      "\u001b[1;31m---------------------------------------------------------------------------\u001b[0m",
      "\u001b[1;31mTypeError\u001b[0m                                 Traceback (most recent call last)",
      "Cell \u001b[1;32mIn[29], line 1\u001b[0m\n\u001b[1;32m----> 1\u001b[0m \u001b[38;5;28mtuple\u001b[39m[\u001b[38;5;241m1\u001b[39m]\u001b[38;5;241m=\u001b[39m\u001b[38;5;241m7\u001b[39m\n",
      "\u001b[1;31mTypeError\u001b[0m: 'type' object does not support item assignment"
     ]
    }
   ],
   "source": [
    "tuple[1]=7"
   ]
  },
  {
   "cell_type": "markdown",
   "id": "b8be1610-947d-400d-a65a-626a9e306f4a",
   "metadata": {},
   "source": [
    "# Set 集合"
   ]
  },
  {
   "cell_type": "code",
   "execution_count": 31,
   "id": "3fde0ba7-9631-47fc-8797-dcb02596b35b",
   "metadata": {},
   "outputs": [
    {
     "data": {
      "text/plain": [
       "{1, 3, 5}"
      ]
     },
     "execution_count": 31,
     "metadata": {},
     "output_type": "execute_result"
    }
   ],
   "source": [
    "set1 = {1,3,5,5,3,1}\n",
    "set1"
   ]
  },
  {
   "cell_type": "code",
   "execution_count": 32,
   "id": "1ec4f119-ffcb-473f-92ba-d86d411fb36a",
   "metadata": {},
   "outputs": [
    {
     "data": {
      "text/plain": [
       "True"
      ]
     },
     "execution_count": 32,
     "metadata": {},
     "output_type": "execute_result"
    }
   ],
   "source": [
    "5 in set1"
   ]
  },
  {
   "cell_type": "code",
   "execution_count": 33,
   "id": "de410e0c-49d3-47b1-990c-7b522872e6eb",
   "metadata": {},
   "outputs": [
    {
     "data": {
      "text/plain": [
       "False"
      ]
     },
     "execution_count": 33,
     "metadata": {},
     "output_type": "execute_result"
    }
   ],
   "source": [
    "8 in set1"
   ]
  },
  {
   "cell_type": "code",
   "execution_count": 35,
   "id": "02116963-1bb4-447f-a44c-32272fd8cc36",
   "metadata": {},
   "outputs": [
    {
     "data": {
      "text/plain": [
       "{1, 2, 3, 4, 5}"
      ]
     },
     "execution_count": 35,
     "metadata": {},
     "output_type": "execute_result"
    }
   ],
   "source": [
    "set1 = {1,2,3}\n",
    "set2 = {2,4,5}\n",
    "set1 | set2"
   ]
  },
  {
   "cell_type": "code",
   "execution_count": 36,
   "id": "b3473882-a1ca-46cd-b9f5-73851607cdd7",
   "metadata": {},
   "outputs": [
    {
     "data": {
      "text/plain": [
       "{2}"
      ]
     },
     "execution_count": 36,
     "metadata": {},
     "output_type": "execute_result"
    }
   ],
   "source": [
    "set1 & set2"
   ]
  },
  {
   "cell_type": "code",
   "execution_count": 37,
   "id": "40989885-de0c-4d90-90e8-a2000c99c8d4",
   "metadata": {},
   "outputs": [
    {
     "data": {
      "text/plain": [
       "{1, 3}"
      ]
     },
     "execution_count": 37,
     "metadata": {},
     "output_type": "execute_result"
    }
   ],
   "source": [
    "set1 - set2"
   ]
  },
  {
   "cell_type": "code",
   "execution_count": 38,
   "id": "c463ff30-f83f-4bde-b11f-acb00e43fe28",
   "metadata": {},
   "outputs": [
    {
     "data": {
      "text/plain": [
       "{1, 3, 4, 5}"
      ]
     },
     "execution_count": 38,
     "metadata": {},
     "output_type": "execute_result"
    }
   ],
   "source": [
    "set1 ^ set2"
   ]
  },
  {
   "cell_type": "code",
   "execution_count": 39,
   "id": "8a63ef0c-54e1-4f32-a78d-f788f1a09142",
   "metadata": {},
   "outputs": [
    {
     "data": {
      "text/plain": [
       "{1, 3, 4, 5}"
      ]
     },
     "execution_count": 39,
     "metadata": {},
     "output_type": "execute_result"
    }
   ],
   "source": [
    "(set1 | set2)-(set1 & set2)"
   ]
  },
  {
   "cell_type": "markdown",
   "id": "581e476a-08d7-46ff-a049-e867dbe3484d",
   "metadata": {},
   "source": [
    "# Dictionary 字典"
   ]
  },
  {
   "cell_type": "code",
   "execution_count": 40,
   "id": "fd91b910-5740-451f-9b76-2b58295e2a41",
   "metadata": {},
   "outputs": [
    {
     "data": {
      "text/plain": [
       "176"
      ]
     },
     "execution_count": 40,
     "metadata": {},
     "output_type": "execute_result"
    }
   ],
   "source": [
    "dict1 = {\"name\":\"google\",\"height\":176,\"weight\":72}\n",
    "dict1[\"height\"]"
   ]
  },
  {
   "cell_type": "code",
   "execution_count": 41,
   "id": "50fba353-f273-4e26-b6ea-e20e663a1fa6",
   "metadata": {},
   "outputs": [
    {
     "data": {
      "text/plain": [
       "{'name': 'google', 'height': 176, 'weight': 73}"
      ]
     },
     "execution_count": 41,
     "metadata": {},
     "output_type": "execute_result"
    }
   ],
   "source": [
    "dict1[\"weight\"]=73\n",
    "dict1"
   ]
  },
  {
   "cell_type": "code",
   "execution_count": 42,
   "id": "6abdc95b-ccc3-4a87-b5e4-a61fb007fbc2",
   "metadata": {},
   "outputs": [
    {
     "data": {
      "text/plain": [
       "{'name': 'google', 'height': 176, 'weight': 73, 'sex': 'M'}"
      ]
     },
     "execution_count": 42,
     "metadata": {},
     "output_type": "execute_result"
    }
   ],
   "source": [
    "dict1[\"sex\"]=\"M\"\n",
    "dict1"
   ]
  },
  {
   "cell_type": "code",
   "execution_count": 43,
   "id": "e60d73d0-9c9d-426a-a8f3-4344f2d0ab6d",
   "metadata": {},
   "outputs": [
    {
     "data": {
      "text/plain": [
       "{}"
      ]
     },
     "execution_count": 43,
     "metadata": {},
     "output_type": "execute_result"
    }
   ],
   "source": [
    "dict2={}\n",
    "dict2"
   ]
  },
  {
   "cell_type": "code",
   "execution_count": 44,
   "id": "cca0c74a-35bb-4124-8338-c48e0f98ea66",
   "metadata": {},
   "outputs": [
    {
     "data": {
      "text/plain": [
       "{'name': 'giggle', 'height': 176}"
      ]
     },
     "execution_count": 44,
     "metadata": {},
     "output_type": "execute_result"
    }
   ],
   "source": [
    "dict2 = dict([('name', 'giggle'),('height',176)])\n",
    "dict2"
   ]
  },
  {
   "cell_type": "code",
   "execution_count": 45,
   "id": "a78e8b6d-2659-4a45-9f27-cb3001863b76",
   "metadata": {},
   "outputs": [
    {
     "data": {
      "text/plain": [
       "dict_keys(['name', 'height'])"
      ]
     },
     "execution_count": 45,
     "metadata": {},
     "output_type": "execute_result"
    }
   ],
   "source": [
    "dict2.keys()"
   ]
  },
  {
   "cell_type": "code",
   "execution_count": 46,
   "id": "46520fd2-51ca-4e59-8057-1257465eb987",
   "metadata": {},
   "outputs": [
    {
     "data": {
      "text/plain": [
       "{}"
      ]
     },
     "execution_count": 46,
     "metadata": {},
     "output_type": "execute_result"
    }
   ],
   "source": [
    "dict2.clear()\n",
    "dict2"
   ]
  },
  {
   "cell_type": "markdown",
   "id": "01e71777-854a-4aee-93b5-dc57b5519059",
   "metadata": {},
   "source": [
    "# print的格式化输出"
   ]
  },
  {
   "cell_type": "code",
   "execution_count": 48,
   "id": "744a168d-b9d7-4a0d-ad8c-6f9add03d7e1",
   "metadata": {},
   "outputs": [
    {
     "name": "stdout",
     "output_type": "stream",
     "text": [
      "i like orang and can eat 1.50 kg\n"
     ]
    }
   ],
   "source": [
    "print(\"i like %s and can eat %.2f kg\" % (\"orang\",1.5))"
   ]
  },
  {
   "cell_type": "code",
   "execution_count": 49,
   "id": "3d613972-3047-4492-8027-4983fa60d6cd",
   "metadata": {},
   "outputs": [
    {
     "name": "stdout",
     "output_type": "stream",
     "text": [
      "pi = 3.14159\n"
     ]
    }
   ],
   "source": [
    "pi = 3.1415926\n",
    "print(\"pi = %.*f\" % (5,pi))"
   ]
  },
  {
   "cell_type": "code",
   "execution_count": 51,
   "id": "bc6698d5-00da-4736-9676-c78ff03dd06b",
   "metadata": {},
   "outputs": [
    {
     "name": "stdout",
     "output_type": "stream",
     "text": [
      "pi = 3.1416\n"
     ]
    }
   ],
   "source": [
    "print(\"pi = %.4f\" % pi)"
   ]
  },
  {
   "cell_type": "code",
   "execution_count": 52,
   "id": "113b782d-912a-42f6-9720-5bc904fc0097",
   "metadata": {},
   "outputs": [
    {
     "name": "stdout",
     "output_type": "stream",
     "text": [
      "i like orange and can eat     1.50 kg.\n"
     ]
    }
   ],
   "source": [
    "print(\"i like %(frist_name)s and can eat %(weight)8.2f kg.\" % {\"frist_name\":\"orange\",\"weight\":1.5})"
   ]
  },
  {
   "cell_type": "markdown",
   "id": "b924fcf0-7d58-4884-a9d8-feee956ef949",
   "metadata": {},
   "source": [
    "# 类型转换"
   ]
  },
  {
   "cell_type": "code",
   "execution_count": 53,
   "id": "9769ee62-3b65-4a99-8199-a08219e53652",
   "metadata": {},
   "outputs": [
    {
     "name": "stdout",
     "output_type": "stream",
     "text": [
      "6 <class 'str'>\n",
      "6 <class 'int'>\n"
     ]
    }
   ],
   "source": [
    "x = \"6\"\n",
    "print(x,type(x))\n",
    "x = int(\"6\")\n",
    "print(x,type(x))"
   ]
  },
  {
   "cell_type": "code",
   "execution_count": 54,
   "id": "30875274-7104-437c-81ec-e77f7ae03de2",
   "metadata": {},
   "outputs": [
    {
     "data": {
      "text/plain": [
       "1.25"
      ]
     },
     "execution_count": 54,
     "metadata": {},
     "output_type": "execute_result"
    }
   ],
   "source": [
    "float(\"1.25\")"
   ]
  },
  {
   "cell_type": "code",
   "execution_count": 55,
   "id": "00e68d58-a5d5-4236-b3f4-77525ec98875",
   "metadata": {},
   "outputs": [
    {
     "data": {
      "text/plain": [
       "'4'"
      ]
     },
     "execution_count": 55,
     "metadata": {},
     "output_type": "execute_result"
    }
   ],
   "source": [
    "str(4)"
   ]
  },
  {
   "cell_type": "code",
   "execution_count": 56,
   "id": "a45c75a4-ed48-4a71-ac4b-59bbd0965ea7",
   "metadata": {},
   "outputs": [
    {
     "ename": "ValueError",
     "evalue": "invalid literal for int() with base 10: 'a'",
     "output_type": "error",
     "traceback": [
      "\u001b[1;31m---------------------------------------------------------------------------\u001b[0m",
      "\u001b[1;31mValueError\u001b[0m                                Traceback (most recent call last)",
      "Cell \u001b[1;32mIn[56], line 1\u001b[0m\n\u001b[1;32m----> 1\u001b[0m \u001b[38;5;28;43mint\u001b[39;49m\u001b[43m(\u001b[49m\u001b[38;5;124;43m\"\u001b[39;49m\u001b[38;5;124;43ma\u001b[39;49m\u001b[38;5;124;43m\"\u001b[39;49m\u001b[43m)\u001b[49m\n",
      "\u001b[1;31mValueError\u001b[0m: invalid literal for int() with base 10: 'a'"
     ]
    }
   ],
   "source": [
    "int(\"a\")"
   ]
  },
  {
   "cell_type": "code",
   "execution_count": 57,
   "id": "45d761fd-7053-4409-a5f0-e8f8fddee51a",
   "metadata": {},
   "outputs": [
    {
     "data": {
      "text/plain": [
       "97"
      ]
     },
     "execution_count": 57,
     "metadata": {},
     "output_type": "execute_result"
    }
   ],
   "source": [
    "ord(\"a\")"
   ]
  },
  {
   "cell_type": "code",
   "execution_count": 58,
   "id": "538d11bf-7ed1-45cb-8cc4-ee8b68698d3e",
   "metadata": {},
   "outputs": [
    {
     "data": {
      "text/plain": [
       "'A'"
      ]
     },
     "execution_count": 58,
     "metadata": {},
     "output_type": "execute_result"
    }
   ],
   "source": [
    "chr(65)"
   ]
  },
  {
   "cell_type": "code",
   "execution_count": 65,
   "id": "19cbcc02-4fb4-4a95-8920-98a0c014c1c3",
   "metadata": {},
   "outputs": [
    {
     "data": {
      "text/plain": [
       "49"
      ]
     },
     "execution_count": 65,
     "metadata": {},
     "output_type": "execute_result"
    }
   ],
   "source": [
    "# eval() 函数用来执行一个字符串表达式，并返回表达式的值。\n",
    "x = 8\n",
    "calc = \"5*x+9\"\n",
    "eval(calc)"
   ]
  },
  {
   "cell_type": "markdown",
   "id": "c95d3856-74e0-4ea4-9775-daae8bb44366",
   "metadata": {},
   "source": [
    "# Python的行\r\n"
   ]
  },
  {
   "cell_type": "code",
   "execution_count": 60,
   "id": "4d7965e3-cc20-4775-9215-15ebc6085261",
   "metadata": {},
   "outputs": [
    {
     "name": "stdout",
     "output_type": "stream",
     "text": [
      "6\n"
     ]
    }
   ],
   "source": [
    "thisIsaVeryLongVariableNameSoCantWriteInOneLineVariable1 = 1\n",
    "thisIsaVeryLongVariableNameSoCantWriteInOneLineVariable2 = 2\n",
    "thisIsaVeryLongVariableNameSoCantWriteInOneLineVariable3 = 3\n",
    "plusResult = thisIsaVeryLongVariableNameSoCantWriteInOneLineVariable1 + thisIsaVeryLongVariableNameSoCantWriteInOneLineVariable2 + thisIsaVeryLongVariableNameSoCantWriteInOneLineVariable3\n",
    "print(plusResult)"
   ]
  },
  {
   "cell_type": "code",
   "execution_count": 62,
   "id": "32310c65-9274-4762-a430-ae8072ec028a",
   "metadata": {},
   "outputs": [
    {
     "ename": "SyntaxError",
     "evalue": "invalid syntax (2495814825.py, line 1)",
     "output_type": "error",
     "traceback": [
      "\u001b[1;36m  Cell \u001b[1;32mIn[62], line 1\u001b[1;36m\u001b[0m\n\u001b[1;33m    plusResult = thisIsaVeryLongVariableNameSoCantWriteInOneLineVariable1 +\u001b[0m\n\u001b[1;37m                                                                           ^\u001b[0m\n\u001b[1;31mSyntaxError\u001b[0m\u001b[1;31m:\u001b[0m invalid syntax\n"
     ]
    }
   ],
   "source": [
    "plusResult = thisIsaVeryLongVariableNameSoCantWriteInOneLineVariable1 +\n",
    "thisIsaVeryLongVariableNameSoCantWriteInOneLineVariable2 +\n",
    "thisIsaVeryLongVariableNameSoCantWriteInOneLineVariable3\n",
    "\n",
    "print(plusResult)"
   ]
  },
  {
   "cell_type": "code",
   "execution_count": 64,
   "id": "a5681a36-ce7a-487e-8c0e-09e2144592d2",
   "metadata": {},
   "outputs": [
    {
     "name": "stdout",
     "output_type": "stream",
     "text": [
      "6\n"
     ]
    }
   ],
   "source": [
    "# 需要注意的是，反斜杠后面不能有任何字符，比如注释，否则会引发\"SyntaxError: unexpected character after line continuation character\"错误。\n",
    "plusResult = thisIsaVeryLongVariableNameSoCantWriteInOneLineVariable1 +\\\n",
    "thisIsaVeryLongVariableNameSoCantWriteInOneLineVariable2 +\\\n",
    "thisIsaVeryLongVariableNameSoCantWriteInOneLineVariable3\n",
    "\n",
    "print(plusResult)"
   ]
  },
  {
   "cell_type": "code",
   "execution_count": 68,
   "id": "2a6c2698-0861-47bb-8d2b-7e2973840986",
   "metadata": {},
   "outputs": [
    {
     "data": {
      "text/plain": [
       "('monday', 'tuesday', 'wednesday', 'thursday', 'friday', 'saturday', 'sunday')"
      ]
     },
     "execution_count": 68,
     "metadata": {},
     "output_type": "execute_result"
    }
   ],
   "source": [
    "days = ('monday', 'tuesday', 'wednesday', 'thursday', 'friday', 'saturday', 'sunday')\n",
    "days"
   ]
  },
  {
   "cell_type": "markdown",
   "id": "32fe13e9-1b0c-47c4-92eb-a1702795c5ff",
   "metadata": {},
   "source": [
    "# 条件语句\n"
   ]
  },
  {
   "cell_type": "code",
   "execution_count": 69,
   "id": "4fda1588-b379-4dbc-9aa6-3b01c712895b",
   "metadata": {},
   "outputs": [
    {
     "name": "stdout",
     "output_type": "stream",
     "text": [
      "请输入体重（kg）：\n"
     ]
    },
    {
     "name": "stdin",
     "output_type": "stream",
     "text": [
      " 70\n"
     ]
    }
   ],
   "source": [
    "print(\"请输入体重（kg）：\")\n",
    "weight = float(input())\n",
    "\n",
    "if weight>90:\n",
    "    print(\"该减肥啦！\")"
   ]
  },
  {
   "cell_type": "code",
   "execution_count": 70,
   "id": "f076212f-bc17-4fad-a3eb-24e56c7f1efa",
   "metadata": {},
   "outputs": [
    {
     "name": "stdout",
     "output_type": "stream",
     "text": [
      "请输入体重（kg）：\n"
     ]
    },
    {
     "name": "stdin",
     "output_type": "stream",
     "text": [
      " 100\n"
     ]
    },
    {
     "name": "stdout",
     "output_type": "stream",
     "text": [
      "该减肥啦！\n"
     ]
    }
   ],
   "source": [
    "print(\"请输入体重（kg）：\")\n",
    "weight = float(input())\n",
    "\n",
    "if weight>90:\n",
    "    print(\"该减肥啦！\")"
   ]
  },
  {
   "cell_type": "code",
   "execution_count": 73,
   "id": "4cdfd4ef-1a40-42da-a41b-3225ec1a8da1",
   "metadata": {},
   "outputs": [
    {
     "name": "stdout",
     "output_type": "stream",
     "text": [
      "请输入体重（kg）：\n"
     ]
    },
    {
     "name": "stdin",
     "output_type": "stream",
     "text": [
      " 80\n"
     ]
    },
    {
     "name": "stdout",
     "output_type": "stream",
     "text": [
      "体重合格\n"
     ]
    }
   ],
   "source": [
    "print(\"请输入体重（kg）：\")\n",
    "weight = float(input())\n",
    "\n",
    "if weight>90:\n",
    "    print(\"该减肥啦！\")\n",
    "else:\n",
    "    print(\"体重合格\")"
   ]
  },
  {
   "cell_type": "code",
   "execution_count": 74,
   "id": "e8943ae0-2e68-4382-9c82-d2fc7939bfe6",
   "metadata": {},
   "outputs": [
    {
     "name": "stdout",
     "output_type": "stream",
     "text": [
      "请输入体重（kg）：\n"
     ]
    },
    {
     "name": "stdin",
     "output_type": "stream",
     "text": [
      " 72\n"
     ]
    },
    {
     "name": "stdout",
     "output_type": "stream",
     "text": [
      "请输入身高（m）：\n"
     ]
    },
    {
     "name": "stdin",
     "output_type": "stream",
     "text": [
      " 1.76\n"
     ]
    },
    {
     "name": "stdout",
     "output_type": "stream",
     "text": [
      "BMI指数为23.24，正常\n"
     ]
    }
   ],
   "source": [
    "print(\"请输入体重（kg）：\")\n",
    "weight = float(input())\n",
    "print(\"请输入身高（m）：\")\n",
    "height = float(input())\n",
    "\n",
    "BMI = weight / height**2\n",
    "\n",
    "if BMI < 20:\n",
    "    print(\"BMI指数为%.2f，过轻\" %BMI)\n",
    "elif BMI > 25:\n",
    "    print(\"BMI指数为%.2f，过重\" %BMI)\n",
    "else:\n",
    "    print(\"BMI指数为%.2f，正常\" %BMI)"
   ]
  },
  {
   "cell_type": "markdown",
   "id": "83b5c619-31a7-4d6d-9aef-1fc411b5b294",
   "metadata": {},
   "source": [
    "# 循环语句"
   ]
  },
  {
   "cell_type": "code",
   "execution_count": 76,
   "id": "c97e1367-cfdc-4044-be14-92d3581ff55c",
   "metadata": {},
   "outputs": [
    {
     "name": "stdout",
     "output_type": "stream",
     "text": [
      "1267650600228229401496703205376\n",
      "5\n"
     ]
    }
   ],
   "source": [
    "num = 2**100\n",
    "print(num)\n",
    "\n",
    "count = 0\n",
    "while num > 0:\n",
    "    if num%10 == 6:\n",
    "        count+=1\n",
    "    num /=10\n",
    "print(count)"
   ]
  },
  {
   "cell_type": "code",
   "execution_count": 77,
   "id": "46c69cd6-eb28-458e-9a3e-9a64ebfdd4f2",
   "metadata": {},
   "outputs": [
    {
     "name": "stdout",
     "output_type": "stream",
     "text": [
      "1267650600228229401496703205376\n",
      "5\n"
     ]
    }
   ],
   "source": [
    "num = 2**100\n",
    "print(num)\n",
    "\n",
    "count = 0\n",
    "\n",
    "for digit in str(num):\n",
    "    if digit == '6':\n",
    "        count+=1\n",
    "\n",
    "print(count)"
   ]
  },
  {
   "cell_type": "code",
   "execution_count": 78,
   "id": "d90544a4-cb4a-4287-8fbe-2341c1ed72bc",
   "metadata": {},
   "outputs": [
    {
     "name": "stdout",
     "output_type": "stream",
     "text": [
      "0\n",
      "1\n",
      "2\n",
      "3\n",
      "4\n",
      "5\n",
      "6\n",
      "7\n",
      "8\n",
      "9\n"
     ]
    }
   ],
   "source": [
    "for i in range(10):\n",
    "    print(i)"
   ]
  },
  {
   "cell_type": "code",
   "execution_count": 80,
   "id": "0f94939b-2dc2-4ffd-99b8-495785b279e5",
   "metadata": {},
   "outputs": [
    {
     "name": "stdout",
     "output_type": "stream",
     "text": [
      "1\n",
      "2\n",
      "3\n",
      "4\n",
      "5\n",
      "6\n",
      "7\n",
      "8\n",
      "9\n"
     ]
    }
   ],
   "source": [
    "for x in range(1,10):\n",
    "    print(x)"
   ]
  },
  {
   "cell_type": "code",
   "execution_count": 81,
   "id": "55e3a0f5-f691-44e0-945c-2371fcf778c6",
   "metadata": {},
   "outputs": [
    {
     "data": {
      "text/plain": [
       "[3, 4, 5, 6, 8, 10, 9, 12, 15]"
      ]
     },
     "execution_count": 81,
     "metadata": {},
     "output_type": "execute_result"
    }
   ],
   "source": [
    "lst1 = [1,2,3]\n",
    "lst2 = [3,4,5]\n",
    "[x * y for x in lst1 for y in lst2]"
   ]
  },
  {
   "cell_type": "code",
   "execution_count": 82,
   "id": "0e11a101-ca9a-405c-b293-3ac1eab2ba54",
   "metadata": {},
   "outputs": [
    {
     "data": {
      "text/plain": [
       "[2, 3]"
      ]
     },
     "execution_count": 82,
     "metadata": {},
     "output_type": "execute_result"
    }
   ],
   "source": [
    "[x for x in lst1 if 4 > x > 1]"
   ]
  },
  {
   "cell_type": "code",
   "execution_count": 83,
   "id": "4c229b02-dfde-4138-86ac-30988a9e6ba1",
   "metadata": {},
   "outputs": [
    {
     "name": "stdout",
     "output_type": "stream",
     "text": [
      "1 x 1 = 1    \n",
      "1 x 2 = 2    2 x 2 = 4    \n",
      "1 x 3 = 3    2 x 3 = 6    3 x 3 = 9    \n",
      "1 x 4 = 4    2 x 4 = 8    3 x 4 = 12   4 x 4 = 16   \n",
      "1 x 5 = 5    2 x 5 = 10   3 x 5 = 15   4 x 5 = 20   5 x 5 = 25   \n",
      "1 x 6 = 6    2 x 6 = 12   3 x 6 = 18   4 x 6 = 24   5 x 6 = 30   6 x 6 = 36   \n",
      "1 x 7 = 7    2 x 7 = 14   3 x 7 = 21   4 x 7 = 28   5 x 7 = 35   6 x 7 = 42   7 x 7 = 49   \n",
      "1 x 8 = 8    2 x 8 = 16   3 x 8 = 24   4 x 8 = 32   5 x 8 = 40   6 x 8 = 48   7 x 8 = 56   8 x 8 = 64   \n",
      "1 x 9 = 9    2 x 9 = 18   3 x 9 = 27   4 x 9 = 36   5 x 9 = 45   6 x 9 = 54   7 x 9 = 63   8 x 9 = 72   9 x 9 = 81   \n"
     ]
    }
   ],
   "source": [
    "for i in range(1,10):\n",
    "    for j in range(1,i+1):\n",
    "        result = i*j\n",
    "        print(\"%s x %s = %-5s\"  % (j,i,result), end = '')\n",
    "    print()"
   ]
  },
  {
   "cell_type": "markdown",
   "id": "14aa5b36-178c-4fb4-989d-d5131bfafb26",
   "metadata": {},
   "source": [
    "# break 语句"
   ]
  },
  {
   "cell_type": "code",
   "execution_count": 2,
   "id": "5ee73511-45fc-4499-9318-d715d695d8ca",
   "metadata": {},
   "outputs": [
    {
     "name": "stdout",
     "output_type": "stream",
     "text": [
      "2**100 is : 1267650600228229401496703205376 \n",
      "the first posion of 9 is Pos.16\n"
     ]
    }
   ],
   "source": [
    "num =  2**100\n",
    "pos = 0\n",
    "for digit in str(num):\n",
    "    pos += 1\n",
    "    if digit == \"9\":\n",
    "        break;\n",
    "print(\"2**100 is : %d \\nthe first posion of 9 is Pos.%d\" % (num,pos))"
   ]
  },
  {
   "cell_type": "code",
   "execution_count": 8,
   "id": "21b90355-216b-411d-9108-e36202797b08",
   "metadata": {},
   "outputs": [
    {
     "name": "stdout",
     "output_type": "stream",
     "text": [
      "2  是素数\n",
      "3  是素数\n",
      "5  是素数\n",
      "7  是素数\n",
      "11  是素数\n",
      "13  是素数\n",
      "17  是素数\n",
      "19  是素数\n",
      "23  是素数\n",
      "29  是素数\n",
      "31  是素数\n",
      "37  是素数\n",
      "41  是素数\n",
      "43  是素数\n",
      "47  是素数\n",
      "53  是素数\n",
      "59  是素数\n",
      "61  是素数\n",
      "67  是素数\n",
      "71  是素数\n",
      "73  是素数\n",
      "79  是素数\n",
      "83  是素数\n",
      "89  是素数\n",
      "97  是素数\n"
     ]
    }
   ],
   "source": [
    "i = 2\n",
    "while(i< 100):\n",
    "    flag = 0\n",
    "    j = 2\n",
    "    while(j <= (i/j)):\n",
    "        if i%j==0:\n",
    "            flag = 1\n",
    "            break\n",
    "        j += 1\n",
    "    if flag == 0 :\n",
    "        print(i, \" 是素数\")\n",
    "    i += 1"
   ]
  },
  {
   "cell_type": "markdown",
   "id": "ecf43c85-3db6-4e12-9d72-d60f3b93a6ca",
   "metadata": {},
   "source": [
    "# continue 语句"
   ]
  },
  {
   "cell_type": "code",
   "execution_count": 5,
   "id": "a71c4969-1458-4150-892b-f201e2abcb44",
   "metadata": {},
   "outputs": [
    {
     "name": "stdout",
     "output_type": "stream",
     "text": [
      "2**100 is : 1267650600228229401496703205376 \n",
      "without 9 is :12676506002282240146703205376\n"
     ]
    }
   ],
   "source": [
    "num = 2**100\n",
    "without9 = ''\n",
    "for digit in str(num):\n",
    "    if digit == \"9\":\n",
    "        continue\n",
    "    without9 +=digit\n",
    "print(\"2**100 is : %d \\nwithout 9 is :%s\" % (num,without9))"
   ]
  },
  {
   "cell_type": "markdown",
   "id": "d04e0b10-684b-4431-ae85-209cc23b405f",
   "metadata": {},
   "source": [
    "# pass 语句"
   ]
  },
  {
   "cell_type": "code",
   "execution_count": 7,
   "id": "a7cac07a-8bc5-477b-bf2e-76a2a550d7da",
   "metadata": {},
   "outputs": [
    {
     "name": "stdout",
     "output_type": "stream",
     "text": [
      "2**100 is : 1267650600228229401496703205376 \n",
      "without 9 is :1267650600228229401496703205376\n"
     ]
    }
   ],
   "source": [
    "num = 2**100\n",
    "without9 = ''\n",
    "for digit in str(num):\n",
    "    if digit == \"9\":\n",
    "        pass\n",
    "    without9 +=digit\n",
    "print(\"2**100 is : %d \\nwithout 9 is :%s\" % (num,without9))"
   ]
  },
  {
   "cell_type": "markdown",
   "id": "e60c896d-3a78-4092-9d5d-9914b043c9b1",
   "metadata": {},
   "source": [
    "# 函数"
   ]
  },
  {
   "cell_type": "code",
   "execution_count": 9,
   "id": "3bce3282-8464-4412-b071-6e092944f15d",
   "metadata": {},
   "outputs": [],
   "source": [
    "def fact(n):\n",
    "    ret  = 1\n",
    "    for i in range(1,n+1):\n",
    "        ret*=i\n",
    "    return ret"
   ]
  },
  {
   "cell_type": "code",
   "execution_count": 10,
   "id": "0473b9f0-dd27-459f-a4c0-0c221dadfd7c",
   "metadata": {},
   "outputs": [
    {
     "data": {
      "text/plain": [
       "120"
      ]
     },
     "execution_count": 10,
     "metadata": {},
     "output_type": "execute_result"
    }
   ],
   "source": [
    "fact(5)"
   ]
  },
  {
   "cell_type": "code",
   "execution_count": 11,
   "id": "9a8b7a8a-7ed9-4254-baf6-fadd05f6001b",
   "metadata": {},
   "outputs": [
    {
     "name": "stdout",
     "output_type": "stream",
     "text": [
      "0 != 1         1 != 1         \n",
      "2 != 2         3 != 6         \n",
      "4 != 24        5 != 120       \n",
      "6 != 720       7 != 5040      \n",
      "8 != 40320     9 != 362880    \n"
     ]
    }
   ],
   "source": [
    "for i in range(0,9+1):\n",
    "    item = fact(i)\n",
    "    print(\"%i != %-10d\" % (i,item), end=\"\")\n",
    "    if i%2 ==1:\n",
    "        print()"
   ]
  },
  {
   "cell_type": "code",
   "execution_count": 12,
   "id": "35b333a5-a1ee-461e-b7a5-c3275487d746",
   "metadata": {},
   "outputs": [],
   "source": [
    "def fun_example(listp, intp = 0, stringp = \"A default string\"):\n",
    "    listp.append(\"a new item\")\n",
    "    intp+=1\n",
    "    return listp,intp,stringp"
   ]
  },
  {
   "cell_type": "code",
   "execution_count": 15,
   "id": "def18551-463e-4390-8470-d30573f32fa2",
   "metadata": {},
   "outputs": [
    {
     "name": "stdout",
     "output_type": "stream",
     "text": [
      "([1, 2, 3, 'a new item'], 11, 'A default string')\n",
      "[1, 2, 3, 'a new item']\n"
     ]
    }
   ],
   "source": [
    "mylist = [1,2,3]\n",
    "myint = 10\n",
    "print(fun_example(mylist,myint))\n",
    "print(mylist)"
   ]
  },
  {
   "cell_type": "markdown",
   "id": "b62ab8a4-339d-4319-9273-5ecde02071ab",
   "metadata": {},
   "source": [
    "# 全局变量与局部变量"
   ]
  },
  {
   "cell_type": "code",
   "execution_count": 16,
   "id": "7d709fc6-e9d1-4b0c-a849-5e8b82d31d72",
   "metadata": {},
   "outputs": [
    {
     "name": "stdout",
     "output_type": "stream",
     "text": [
      "5\n",
      "5\n"
     ]
    }
   ],
   "source": [
    "num  = 5\n",
    "def func1():\n",
    "    print(num)\n",
    "\n",
    "func1()\n",
    "print(num)"
   ]
  },
  {
   "cell_type": "code",
   "execution_count": 17,
   "id": "92c26017-df9e-4663-8db3-7fd693837edb",
   "metadata": {},
   "outputs": [
    {
     "name": "stdout",
     "output_type": "stream",
     "text": [
      "3\n",
      "5\n"
     ]
    }
   ],
   "source": [
    "num  = 5\n",
    "def func2():\n",
    "    num = 3\n",
    "    print(num)\n",
    "\n",
    "func2()\n",
    "print(num)"
   ]
  },
  {
   "cell_type": "code",
   "execution_count": 21,
   "id": "34cab993-05a4-4ef5-992c-10f24417f995",
   "metadata": {},
   "outputs": [
    {
     "name": "stdout",
     "output_type": "stream",
     "text": [
      "3\n",
      "3\n"
     ]
    }
   ],
   "source": [
    "num  = 5\n",
    "def func3():\n",
    "    global num\n",
    "    num = 3\n",
    "    print(num)\n",
    "\n",
    "func3()\n",
    "print(num)"
   ]
  },
  {
   "cell_type": "code",
   "execution_count": 22,
   "id": "1889d403-03e7-4d81-b2f1-f8c71a04bb79",
   "metadata": {},
   "outputs": [
    {
     "data": {
      "text/plain": [
       "120"
      ]
     },
     "execution_count": 22,
     "metadata": {},
     "output_type": "execute_result"
    }
   ],
   "source": [
    "def fact(n):\n",
    "    ret = 1\n",
    "    for i in range(1,n+1):\n",
    "        ret *= i\n",
    "    return ret\n",
    "fact(5)"
   ]
  },
  {
   "cell_type": "markdown",
   "id": "0097b96b-656d-4167-b5c6-d07327cad356",
   "metadata": {},
   "source": [
    "# 类Class"
   ]
  },
  {
   "cell_type": "code",
   "execution_count": 1,
   "id": "13e0f1e1-4ac5-4e5b-9f19-8eeacc4dcc19",
   "metadata": {},
   "outputs": [],
   "source": [
    "class DeepLearner(object):\n",
    "    'DeepLearner是深度学习者的类，以下为该类的帮助文档'\n",
    " #定义一个叫做DeepLearner的类\n",
    "class DeepLearner(object):\n",
    "    'DeepLearner是深度学习者的类，这是有关这个类的帮助文档'\n",
    "    # LearnerCount 变量是一 个类的属性，它的值将在这个类的所有实例之间共享。你可以在内部类或外部类使用DeepLearner. LearnerCount 访问\n",
    "    learnerCount =0\n",
    "    #__init__()方法是一种特殊的方法，被称为类的构造函数或初始化方法，当创建了这个类的实例时就会调用该方法\n",
    "    # 类的方法与普通的西数只有- - 个特别的区别一它们必须有一 个额外的第一个参数名称， 按照惯例它的名称是self\n",
    "    # self 代表类的实例，参数self在定义类的方法时是必须要的，虽然在调用时不必传入相应的参数\n",
    "    def __init__(self, name, schoolName):\n",
    "        self .name = name\n",
    "        self. schoolName = schoolName\n",
    "        DeepLearner.learnerCount = DeepLearner.learnerCount + 1\n",
    "    def getName(self):\n",
    "        return self.name\n",
    "        \n",
    "    def getSchoolName(self):\n",
    "        return self.schoolName\n",
    "    \n",
    "    def displayCount(self):\n",
    "        print(\"Total DeepLearner count is %d\" % DeepLearner . learnerCount)\n",
    "        \n",
    "    def displayLearner(self):\n",
    "        print(\"Name: %s，School: %s\" % (self . name, self . schoolName))\n",
    "\n"
   ]
  },
  {
   "cell_type": "code",
   "execution_count": 2,
   "id": "8d43e803-7673-4ca4-bbf4-a03596a268b4",
   "metadata": {},
   "outputs": [
    {
     "name": "stdout",
     "output_type": "stream",
     "text": [
      "DeepLearner是深度学习者的类，这是有关这个类的帮助文档\n"
     ]
    }
   ],
   "source": [
    "print(DeepLearner.__doc__)"
   ]
  },
  {
   "cell_type": "code",
   "execution_count": 3,
   "id": "6c2143d8-c908-4d6c-a2a6-caffb8803284",
   "metadata": {},
   "outputs": [],
   "source": [
    "#实例化类其他编程语言中一般用关键字new，但是在Python中并没有这个关键字，类的实例化类似函数调用方式\n",
    "#新建一个对象\n",
    "\n",
    "newLearner1 = DeepLearner( 'giggle', 'Zhejiang University')\n",
    "newLearner2 = DeepLearner( 'sherry',  'Zhejiang University of Technology')"
   ]
  },
  {
   "cell_type": "code",
   "execution_count": 4,
   "id": "355749ab-04b4-479b-bb70-c4370e61190a",
   "metadata": {},
   "outputs": [
    {
     "name": "stdout",
     "output_type": "stream",
     "text": [
      "2\n",
      "Total DeepLearner count is 2\n",
      "Total DeepLearner count is 2\n",
      "giggle Zhejiang University\n",
      "sherry Zhejiang University of Technology\n",
      "Name: giggle，School: Zhejiang University\n",
      "Name: sherry，School: Zhejiang University of Technology\n"
     ]
    }
   ],
   "source": [
    "#使用点号。来访问对象的属性和方法\n",
    "print(DeepLearner.learnerCount )\n",
    "newLearner1.displayCount()\n",
    "newLearner2.displayCount( )\n",
    "print ( newLearner1.getName(), newLearner1.getSchoolName() )\n",
    "print ( newLearner2.getName(), newLearner2.getSchoolName() )\n",
    "newLearner1.displayLearner()\n",
    "newLearner2.displayLearner()\n"
   ]
  },
  {
   "cell_type": "markdown",
   "id": "d20aae73-da25-45bc-a306-94a68e28e109",
   "metadata": {},
   "source": [
    "# 文件"
   ]
  },
  {
   "cell_type": "code",
   "execution_count": 6,
   "id": "0555b7c9-88d9-446f-88ca-ae42da56480d",
   "metadata": {},
   "outputs": [
    {
     "name": "stdout",
     "output_type": "stream",
     "text": [
      "123321\n"
     ]
    }
   ],
   "source": [
    "# 写文件\n",
    "\n",
    "with open(\"test.txt\",\"wt\") as outFile:\n",
    "    outFile.write(\"123321\")\n",
    "    \n",
    "# 读文件\n",
    "with open(\"test.txt\",\"rt\") as inFile:\n",
    "    text = inFile.read()\n",
    "\n",
    "print(text)"
   ]
  },
  {
   "cell_type": "markdown",
   "id": "49fede79-8972-4504-b4da-bb1e0c6eb04c",
   "metadata": {},
   "source": [
    "# 异常"
   ]
  },
  {
   "cell_type": "code",
   "execution_count": 9,
   "id": "6e6505b9-6b06-46d7-a642-4af3f085cadd",
   "metadata": {},
   "outputs": [],
   "source": [
    "def except_function() :\n",
    "    try:\n",
    "        # 故意除零\n",
    "        10 / 1\n",
    "    except ZeroDivisionError:\n",
    "        print(\"发生除零异常啦. \")\n",
    "    else:\n",
    "        # 正常情况.\n",
    "        print (\"一切正常啦.\")\n",
    "        pass\n",
    "    finally:\n",
    "        # 无论是否发生异常都将执行最后的代码\n",
    "        print(\"finally必须被执行，不管有没有发生异常.\")"
   ]
  },
  {
   "cell_type": "code",
   "execution_count": 10,
   "id": "4d67d79b-a433-4259-96ff-6214b611a744",
   "metadata": {},
   "outputs": [
    {
     "name": "stdout",
     "output_type": "stream",
     "text": [
      "一切正常啦.\n",
      "finally必须被执行，不管有没有发生异常.\n"
     ]
    }
   ],
   "source": [
    "except_function()"
   ]
  },
  {
   "cell_type": "code",
   "execution_count": 11,
   "id": "a58f0605-4b35-4374-aa20-815c1720c4bf",
   "metadata": {},
   "outputs": [
    {
     "name": "stdout",
     "output_type": "stream",
     "text": [
      "发生某种异常啦. \n",
      "finally必须被执行，不管有没有发生异常.\n"
     ]
    }
   ],
   "source": [
    "def except_function() :\n",
    "    try:\n",
    "        # 故意除零\n",
    "        10 / 0\n",
    "    except:\n",
    "        print(\"发生某种异常啦. \")\n",
    "    else:\n",
    "        # 正常情况.\n",
    "        print (\"一切正常啦.\")\n",
    "        pass\n",
    "    finally:\n",
    "        # 无论是否发生异常都将执行最后的代码\n",
    "        print(\"finally必须被执行，不管有没有发生异常.\")\n",
    "\n",
    "except_function()"
   ]
  },
  {
   "cell_type": "markdown",
   "id": "a2bb8b4f-e68d-4427-bc50-fc8b955eface",
   "metadata": {},
   "source": [
    "# 导入外部库"
   ]
  },
  {
   "cell_type": "code",
   "execution_count": 3,
   "id": "58bc20b0-2e74-4836-b47d-e09d29f6cc49",
   "metadata": {},
   "outputs": [
    {
     "name": "stdout",
     "output_type": "stream",
     "text": [
      "63\n"
     ]
    }
   ],
   "source": [
    "import random\n",
    "from time import perf_counter\n",
    "import numpy as np\n",
    "import matplotlib.pyplot as plt\n",
    "perf_counter()\n",
    "randomint = random.randint(1,100)\n",
    "print(randomint)"
   ]
  },
  {
   "cell_type": "markdown",
   "id": "9f266e9c-3d8c-4ff3-9fb0-e55881e52312",
   "metadata": {},
   "source": [
    "# 获取帮助信息"
   ]
  },
  {
   "cell_type": "code",
   "execution_count": 4,
   "id": "f7705e5d-cb77-4405-a709-c58ab39e2488",
   "metadata": {},
   "outputs": [
    {
     "data": {
      "text/plain": [
       "['__abs__',\n",
       " '__add__',\n",
       " '__and__',\n",
       " '__bool__',\n",
       " '__ceil__',\n",
       " '__class__',\n",
       " '__delattr__',\n",
       " '__dir__',\n",
       " '__divmod__',\n",
       " '__doc__',\n",
       " '__eq__',\n",
       " '__float__',\n",
       " '__floor__',\n",
       " '__floordiv__',\n",
       " '__format__',\n",
       " '__ge__',\n",
       " '__getattribute__',\n",
       " '__getnewargs__',\n",
       " '__gt__',\n",
       " '__hash__',\n",
       " '__index__',\n",
       " '__init__',\n",
       " '__init_subclass__',\n",
       " '__int__',\n",
       " '__invert__',\n",
       " '__le__',\n",
       " '__lshift__',\n",
       " '__lt__',\n",
       " '__mod__',\n",
       " '__mul__',\n",
       " '__ne__',\n",
       " '__neg__',\n",
       " '__new__',\n",
       " '__or__',\n",
       " '__pos__',\n",
       " '__pow__',\n",
       " '__radd__',\n",
       " '__rand__',\n",
       " '__rdivmod__',\n",
       " '__reduce__',\n",
       " '__reduce_ex__',\n",
       " '__repr__',\n",
       " '__rfloordiv__',\n",
       " '__rlshift__',\n",
       " '__rmod__',\n",
       " '__rmul__',\n",
       " '__ror__',\n",
       " '__round__',\n",
       " '__rpow__',\n",
       " '__rrshift__',\n",
       " '__rshift__',\n",
       " '__rsub__',\n",
       " '__rtruediv__',\n",
       " '__rxor__',\n",
       " '__setattr__',\n",
       " '__sizeof__',\n",
       " '__str__',\n",
       " '__sub__',\n",
       " '__subclasshook__',\n",
       " '__truediv__',\n",
       " '__trunc__',\n",
       " '__xor__',\n",
       " 'as_integer_ratio',\n",
       " 'bit_length',\n",
       " 'conjugate',\n",
       " 'denominator',\n",
       " 'from_bytes',\n",
       " 'imag',\n",
       " 'numerator',\n",
       " 'real',\n",
       " 'to_bytes']"
      ]
     },
     "execution_count": 4,
     "metadata": {},
     "output_type": "execute_result"
    }
   ],
   "source": [
    "dir(2)"
   ]
  },
  {
   "cell_type": "code",
   "execution_count": 5,
   "id": "ae0bb9da-dd51-4a05-8acf-f4efba7fc47a",
   "metadata": {},
   "outputs": [
    {
     "name": "stdout",
     "output_type": "stream",
     "text": [
      "Help on class int in module builtins:\n",
      "\n",
      "class int(object)\n",
      " |  int([x]) -> integer\n",
      " |  int(x, base=10) -> integer\n",
      " |  \n",
      " |  Convert a number or string to an integer, or return 0 if no arguments\n",
      " |  are given.  If x is a number, return x.__int__().  For floating point\n",
      " |  numbers, this truncates towards zero.\n",
      " |  \n",
      " |  If x is not a number or if base is given, then x must be a string,\n",
      " |  bytes, or bytearray instance representing an integer literal in the\n",
      " |  given base.  The literal can be preceded by '+' or '-' and be surrounded\n",
      " |  by whitespace.  The base defaults to 10.  Valid bases are 0 and 2-36.\n",
      " |  Base 0 means to interpret the base from the string as an integer literal.\n",
      " |  >>> int('0b100', base=0)\n",
      " |  4\n",
      " |  \n",
      " |  Built-in subclasses:\n",
      " |      bool\n",
      " |  \n",
      " |  Methods defined here:\n",
      " |  \n",
      " |  __abs__(self, /)\n",
      " |      abs(self)\n",
      " |  \n",
      " |  __add__(self, value, /)\n",
      " |      Return self+value.\n",
      " |  \n",
      " |  __and__(self, value, /)\n",
      " |      Return self&value.\n",
      " |  \n",
      " |  __bool__(self, /)\n",
      " |      True if self else False\n",
      " |  \n",
      " |  __ceil__(...)\n",
      " |      Ceiling of an Integral returns itself.\n",
      " |  \n",
      " |  __divmod__(self, value, /)\n",
      " |      Return divmod(self, value).\n",
      " |  \n",
      " |  __eq__(self, value, /)\n",
      " |      Return self==value.\n",
      " |  \n",
      " |  __float__(self, /)\n",
      " |      float(self)\n",
      " |  \n",
      " |  __floor__(...)\n",
      " |      Flooring an Integral returns itself.\n",
      " |  \n",
      " |  __floordiv__(self, value, /)\n",
      " |      Return self//value.\n",
      " |  \n",
      " |  __format__(self, format_spec, /)\n",
      " |      Default object formatter.\n",
      " |  \n",
      " |  __ge__(self, value, /)\n",
      " |      Return self>=value.\n",
      " |  \n",
      " |  __getattribute__(self, name, /)\n",
      " |      Return getattr(self, name).\n",
      " |  \n",
      " |  __getnewargs__(self, /)\n",
      " |  \n",
      " |  __gt__(self, value, /)\n",
      " |      Return self>value.\n",
      " |  \n",
      " |  __hash__(self, /)\n",
      " |      Return hash(self).\n",
      " |  \n",
      " |  __index__(self, /)\n",
      " |      Return self converted to an integer, if self is suitable for use as an index into a list.\n",
      " |  \n",
      " |  __int__(self, /)\n",
      " |      int(self)\n",
      " |  \n",
      " |  __invert__(self, /)\n",
      " |      ~self\n",
      " |  \n",
      " |  __le__(self, value, /)\n",
      " |      Return self<=value.\n",
      " |  \n",
      " |  __lshift__(self, value, /)\n",
      " |      Return self<<value.\n",
      " |  \n",
      " |  __lt__(self, value, /)\n",
      " |      Return self<value.\n",
      " |  \n",
      " |  __mod__(self, value, /)\n",
      " |      Return self%value.\n",
      " |  \n",
      " |  __mul__(self, value, /)\n",
      " |      Return self*value.\n",
      " |  \n",
      " |  __ne__(self, value, /)\n",
      " |      Return self!=value.\n",
      " |  \n",
      " |  __neg__(self, /)\n",
      " |      -self\n",
      " |  \n",
      " |  __or__(self, value, /)\n",
      " |      Return self|value.\n",
      " |  \n",
      " |  __pos__(self, /)\n",
      " |      +self\n",
      " |  \n",
      " |  __pow__(self, value, mod=None, /)\n",
      " |      Return pow(self, value, mod).\n",
      " |  \n",
      " |  __radd__(self, value, /)\n",
      " |      Return value+self.\n",
      " |  \n",
      " |  __rand__(self, value, /)\n",
      " |      Return value&self.\n",
      " |  \n",
      " |  __rdivmod__(self, value, /)\n",
      " |      Return divmod(value, self).\n",
      " |  \n",
      " |  __repr__(self, /)\n",
      " |      Return repr(self).\n",
      " |  \n",
      " |  __rfloordiv__(self, value, /)\n",
      " |      Return value//self.\n",
      " |  \n",
      " |  __rlshift__(self, value, /)\n",
      " |      Return value<<self.\n",
      " |  \n",
      " |  __rmod__(self, value, /)\n",
      " |      Return value%self.\n",
      " |  \n",
      " |  __rmul__(self, value, /)\n",
      " |      Return value*self.\n",
      " |  \n",
      " |  __ror__(self, value, /)\n",
      " |      Return value|self.\n",
      " |  \n",
      " |  __round__(...)\n",
      " |      Rounding an Integral returns itself.\n",
      " |      Rounding with an ndigits argument also returns an integer.\n",
      " |  \n",
      " |  __rpow__(self, value, mod=None, /)\n",
      " |      Return pow(value, self, mod).\n",
      " |  \n",
      " |  __rrshift__(self, value, /)\n",
      " |      Return value>>self.\n",
      " |  \n",
      " |  __rshift__(self, value, /)\n",
      " |      Return self>>value.\n",
      " |  \n",
      " |  __rsub__(self, value, /)\n",
      " |      Return value-self.\n",
      " |  \n",
      " |  __rtruediv__(self, value, /)\n",
      " |      Return value/self.\n",
      " |  \n",
      " |  __rxor__(self, value, /)\n",
      " |      Return value^self.\n",
      " |  \n",
      " |  __sizeof__(self, /)\n",
      " |      Returns size in memory, in bytes.\n",
      " |  \n",
      " |  __sub__(self, value, /)\n",
      " |      Return self-value.\n",
      " |  \n",
      " |  __truediv__(self, value, /)\n",
      " |      Return self/value.\n",
      " |  \n",
      " |  __trunc__(...)\n",
      " |      Truncating an Integral returns itself.\n",
      " |  \n",
      " |  __xor__(self, value, /)\n",
      " |      Return self^value.\n",
      " |  \n",
      " |  as_integer_ratio(self, /)\n",
      " |      Return integer ratio.\n",
      " |      \n",
      " |      Return a pair of integers, whose ratio is exactly equal to the original int\n",
      " |      and with a positive denominator.\n",
      " |      \n",
      " |      >>> (10).as_integer_ratio()\n",
      " |      (10, 1)\n",
      " |      >>> (-10).as_integer_ratio()\n",
      " |      (-10, 1)\n",
      " |      >>> (0).as_integer_ratio()\n",
      " |      (0, 1)\n",
      " |  \n",
      " |  bit_length(self, /)\n",
      " |      Number of bits necessary to represent self in binary.\n",
      " |      \n",
      " |      >>> bin(37)\n",
      " |      '0b100101'\n",
      " |      >>> (37).bit_length()\n",
      " |      6\n",
      " |  \n",
      " |  conjugate(...)\n",
      " |      Returns self, the complex conjugate of any int.\n",
      " |  \n",
      " |  to_bytes(self, /, length, byteorder, *, signed=False)\n",
      " |      Return an array of bytes representing an integer.\n",
      " |      \n",
      " |      length\n",
      " |        Length of bytes object to use.  An OverflowError is raised if the\n",
      " |        integer is not representable with the given number of bytes.\n",
      " |      byteorder\n",
      " |        The byte order used to represent the integer.  If byteorder is 'big',\n",
      " |        the most significant byte is at the beginning of the byte array.  If\n",
      " |        byteorder is 'little', the most significant byte is at the end of the\n",
      " |        byte array.  To request the native byte order of the host system, use\n",
      " |        `sys.byteorder' as the byte order value.\n",
      " |      signed\n",
      " |        Determines whether two's complement is used to represent the integer.\n",
      " |        If signed is False and a negative integer is given, an OverflowError\n",
      " |        is raised.\n",
      " |  \n",
      " |  ----------------------------------------------------------------------\n",
      " |  Class methods defined here:\n",
      " |  \n",
      " |  from_bytes(bytes, byteorder, *, signed=False) from builtins.type\n",
      " |      Return the integer represented by the given array of bytes.\n",
      " |      \n",
      " |      bytes\n",
      " |        Holds the array of bytes to convert.  The argument must either\n",
      " |        support the buffer protocol or be an iterable object producing bytes.\n",
      " |        Bytes and bytearray are examples of built-in objects that support the\n",
      " |        buffer protocol.\n",
      " |      byteorder\n",
      " |        The byte order used to represent the integer.  If byteorder is 'big',\n",
      " |        the most significant byte is at the beginning of the byte array.  If\n",
      " |        byteorder is 'little', the most significant byte is at the end of the\n",
      " |        byte array.  To request the native byte order of the host system, use\n",
      " |        `sys.byteorder' as the byte order value.\n",
      " |      signed\n",
      " |        Indicates whether two's complement is used to represent the integer.\n",
      " |  \n",
      " |  ----------------------------------------------------------------------\n",
      " |  Static methods defined here:\n",
      " |  \n",
      " |  __new__(*args, **kwargs) from builtins.type\n",
      " |      Create and return a new object.  See help(type) for accurate signature.\n",
      " |  \n",
      " |  ----------------------------------------------------------------------\n",
      " |  Data descriptors defined here:\n",
      " |  \n",
      " |  denominator\n",
      " |      the denominator of a rational number in lowest terms\n",
      " |  \n",
      " |  imag\n",
      " |      the imaginary part of a complex number\n",
      " |  \n",
      " |  numerator\n",
      " |      the numerator of a rational number in lowest terms\n",
      " |  \n",
      " |  real\n",
      " |      the real part of a complex number\n",
      "\n"
     ]
    }
   ],
   "source": [
    "help(int)"
   ]
  },
  {
   "cell_type": "code",
   "execution_count": 1,
   "id": "e72a0890-bea3-4c6c-bea6-dbcedede7840",
   "metadata": {},
   "outputs": [
    {
     "data": {
      "text/plain": [
       "-65535"
      ]
     },
     "execution_count": 1,
     "metadata": {},
     "output_type": "execute_result"
    }
   ],
   "source": [
    "a  = 65535\n",
    "a.__neg__()"
   ]
  },
  {
   "cell_type": "code",
   "execution_count": 2,
   "id": "464cadd1-aa06-4938-8bc4-f89d42a33ab4",
   "metadata": {},
   "outputs": [
    {
     "data": {
      "text/plain": [
       "65540"
      ]
     },
     "execution_count": 2,
     "metadata": {},
     "output_type": "execute_result"
    }
   ],
   "source": [
    "a.__add__(5)"
   ]
  },
  {
   "cell_type": "code",
   "execution_count": null,
   "id": "c315283d-759f-4ea5-98c7-358218111d57",
   "metadata": {},
   "outputs": [],
   "source": []
  }
 ],
 "metadata": {
  "kernelspec": {
   "display_name": "tf",
   "language": "python",
   "name": "tf"
  },
  "language_info": {
   "codemirror_mode": {
    "name": "ipython",
    "version": 3
   },
   "file_extension": ".py",
   "mimetype": "text/x-python",
   "name": "python",
   "nbconvert_exporter": "python",
   "pygments_lexer": "ipython3",
   "version": "3.9.18"
  }
 },
 "nbformat": 4,
 "nbformat_minor": 5
}
