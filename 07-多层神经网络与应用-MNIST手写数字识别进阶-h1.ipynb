{
 "cells": [
  {
   "cell_type": "markdown",
   "metadata": {},
   "source": [
    "## 载入数据"
   ]
  },
  {
   "cell_type": "code",
   "execution_count": 2,
   "metadata": {},
   "outputs": [
    {
     "name": "stdout",
     "output_type": "stream",
     "text": [
      "Extracting /data/MNIST_data/train-images-idx3-ubyte.gz\n",
      "Extracting /data/MNIST_data/train-labels-idx1-ubyte.gz\n",
      "Extracting /data/MNIST_data/t10k-images-idx3-ubyte.gz\n",
      "Extracting /data/MNIST_data/t10k-labels-idx1-ubyte.gz\n"
     ]
    }
   ],
   "source": [
    "import tensorflow as tf\n",
    "\n",
    "# 导入Tensorflow提供的读取MNIST的模块\n",
    "import tensorflow_core.examples.tutorials.mnist.input_data as input_data\n",
    "\n",
    "# 读取MNIST数据\n",
    "mnist = input_data.read_data_sets(\"/data/MNIST_data/\", one_hot=True)\n"
   ]
  },
  {
   "cell_type": "code",
   "execution_count": 3,
   "metadata": {},
   "outputs": [],
   "source": [
    "# 构建输入层\n",
    "x = tf.placeholder(tf.float32, [None, 784], name=\"X\")\n",
    "y = tf.placeholder(tf.float32, [None, 10], name=\"Y\")\n",
    "\n",
    "# 构建隐藏层\n",
    "# 隐藏层神经元数量\n",
    "H1_NN = 256\n",
    "\n",
    "W1 = tf.Variable(tf.random_normal([784, H1_NN]))\n",
    "b1 = tf.Variable(tf.zeros([H1_NN]))\n",
    "\n",
    "Y1 = tf.nn.relu(tf.matmul(x, W1) + b1)\n",
    "\n",
    "# 构建输出层\n",
    "W2 = tf.Variable(tf.random_normal([H1_NN, 10]))\n",
    "b2 = tf.Variable(tf.zeros([10]))\n",
    "\n",
    "forward = tf.matmul(Y1, W2) + b2\n",
    "pred = tf.nn.softmax(forward)\n"
   ]
  },
  {
   "cell_type": "code",
   "execution_count": 4,
   "metadata": {},
   "outputs": [
    {
     "name": "stdout",
     "output_type": "stream",
     "text": [
      "WARNING:tensorflow:From <ipython-input-4-f2b9bb0ab5fc>:3: softmax_cross_entropy_with_logits (from tensorflow.python.ops.nn_ops) is deprecated and will be removed in a future version.\n",
      "Instructions for updating:\n",
      "\n",
      "Future major versions of TensorFlow will allow gradients to flow\n",
      "into the labels input on backprop by default.\n",
      "\n",
      "See `tf.nn.softmax_cross_entropy_with_logits_v2`.\n",
      "\n"
     ]
    }
   ],
   "source": [
    "# 定义损失函数\n",
    "loss_function = tf.reduce_mean(\n",
    "    tf.nn.softmax_cross_entropy_with_logits(logits=forward, labels=y)\n",
    ")\n",
    "\n",
    "# 设置训练参数\n",
    "train_epochs = 40\n",
    "batch_size = 50\n",
    "total_batch = int(mnist.train.num_examples / batch_size)\n",
    "display_step = 1\n",
    "learning_rate = 0.01\n",
    "\n",
    "# 选择优化器\n",
    "optimizer = tf.train.AdamOptimizer(learning_rate).minimize(loss_function)\n",
    "\n",
    "# 定义准确率\n",
    "correct_prediction = tf.equal(tf.argmax(y, 1), tf.argmax(pred, 1))\n",
    "accuracy = tf.reduce_mean(tf.cast(correct_prediction, tf.float32))\n"
   ]
  },
  {
   "cell_type": "code",
   "execution_count": 5,
   "metadata": {},
   "outputs": [
    {
     "name": "stdout",
     "output_type": "stream",
     "text": [
      "Train Epoch: 01 Loss= 1.425595999  Accuracy= 0.9278\n",
      "Train Epoch: 02 Loss= 0.708664596  Accuracy= 0.9444\n",
      "Train Epoch: 03 Loss= 0.498178750  Accuracy= 0.9580\n",
      "Train Epoch: 04 Loss= 0.395425767  Accuracy= 0.9578\n",
      "Train Epoch: 05 Loss= 0.434585243  Accuracy= 0.9604\n",
      "Train Epoch: 06 Loss= 0.407636136  Accuracy= 0.9586\n",
      "Train Epoch: 07 Loss= 0.380849630  Accuracy= 0.9592\n",
      "Train Epoch: 08 Loss= 0.370502234  Accuracy= 0.9616\n",
      "Train Epoch: 09 Loss= 0.349700928  Accuracy= 0.9610\n",
      "Train Epoch: 10 Loss= 0.349942982  Accuracy= 0.9618\n",
      "Train Epoch: 11 Loss= 0.320944518  Accuracy= 0.9714\n",
      "Train Epoch: 12 Loss= 0.394496322  Accuracy= 0.9664\n",
      "Train Epoch: 13 Loss= 0.447634757  Accuracy= 0.9576\n",
      "Train Epoch: 14 Loss= 0.442712694  Accuracy= 0.9636\n",
      "Train Epoch: 15 Loss= 0.417934388  Accuracy= 0.9670\n",
      "Train Epoch: 16 Loss= 0.404188782  Accuracy= 0.9694\n",
      "Train Epoch: 17 Loss= 0.477282286  Accuracy= 0.9670\n",
      "Train Epoch: 18 Loss= 0.499315530  Accuracy= 0.9688\n",
      "Train Epoch: 19 Loss= 0.544126511  Accuracy= 0.9696\n",
      "Train Epoch: 20 Loss= 0.476826310  Accuracy= 0.9702\n",
      "Train Epoch: 21 Loss= 0.505547225  Accuracy= 0.9704\n",
      "Train Epoch: 22 Loss= 0.570689678  Accuracy= 0.9692\n",
      "Train Epoch: 23 Loss= 0.523188293  Accuracy= 0.9692\n",
      "Train Epoch: 24 Loss= 0.556561470  Accuracy= 0.9730\n",
      "Train Epoch: 25 Loss= 0.546539843  Accuracy= 0.9718\n",
      "Train Epoch: 26 Loss= 0.679775655  Accuracy= 0.9668\n",
      "Train Epoch: 27 Loss= 0.513447881  Accuracy= 0.9746\n",
      "Train Epoch: 28 Loss= 0.608953953  Accuracy= 0.9748\n",
      "Train Epoch: 29 Loss= 0.723971903  Accuracy= 0.9708\n",
      "Train Epoch: 30 Loss= 0.709464610  Accuracy= 0.9728\n",
      "Train Epoch: 31 Loss= 0.723593891  Accuracy= 0.9698\n",
      "Train Epoch: 32 Loss= 0.627623200  Accuracy= 0.9744\n",
      "Train Epoch: 33 Loss= 0.639484107  Accuracy= 0.9768\n",
      "Train Epoch: 34 Loss= 0.778756380  Accuracy= 0.9714\n",
      "Train Epoch: 35 Loss= 0.805270135  Accuracy= 0.9720\n",
      "Train Epoch: 36 Loss= 0.823501170  Accuracy= 0.9728\n",
      "Train Epoch: 37 Loss= 0.744232237  Accuracy= 0.9762\n",
      "Train Epoch: 38 Loss= 0.823705077  Accuracy= 0.9764\n",
      "Train Epoch: 39 Loss= 0.933624804  Accuracy= 0.9710\n",
      "Train Epoch: 40 Loss= 0.977854908  Accuracy= 0.9710\n",
      "Train Finished takes: 37.89\n"
     ]
    }
   ],
   "source": [
    "# 训练\n",
    "# 记录训练开始时间\n",
    "from time import time\n",
    "\n",
    "startTime = time()\n",
    "\n",
    "sess = tf.Session()\n",
    "sess.run(tf.global_variables_initializer())\n",
    "\n",
    "for epoch in range(train_epochs):\n",
    "    for batch in range(total_batch):\n",
    "        xs, ys = mnist.train.next_batch(batch_size)  # 读取批次数据\n",
    "        sess.run(optimizer, feed_dict={x: xs, y: ys})  # 执行批次训练\n",
    "\n",
    "    # total_batch个批次训练完成后，使用验证数据计算误差与准确率\n",
    "    loss, acc = sess.run(\n",
    "        [loss_function, accuracy],\n",
    "        feed_dict={x: mnist.validation.images, y: mnist.validation.labels},\n",
    "    )\n",
    "\n",
    "    if (epoch + 1) % display_step == 0:\n",
    "        print(\n",
    "            \"Train Epoch:\",\n",
    "            \"%02d\" % (epoch + 1),\n",
    "            \"Loss=\",\n",
    "            \"{:.9f}\".format(loss),\n",
    "            \" Accuracy=\",\n",
    "            \"{:.4f}\".format(acc),\n",
    "        )\n",
    "\n",
    "# 显示运行总时间\n",
    "duration = time() - startTime\n",
    "print(\"Train Finished takes:\", \"{:.2f}\".format(duration))\n"
   ]
  },
  {
   "cell_type": "markdown",
   "metadata": {},
   "source": [
    "## 评估模型"
   ]
  },
  {
   "cell_type": "code",
   "execution_count": 6,
   "metadata": {},
   "outputs": [
    {
     "name": "stdout",
     "output_type": "stream",
     "text": [
      "Test Accuracy: 0.971\n"
     ]
    }
   ],
   "source": [
    "accu_test = sess.run(accuracy, feed_dict={x: mnist.test.images, y: mnist.test.labels})\n",
    "\n",
    "print(\"Test Accuracy:\", accu_test)\n"
   ]
  },
  {
   "cell_type": "markdown",
   "metadata": {},
   "source": [
    "## 应用模型\n"
   ]
  },
  {
   "cell_type": "code",
   "execution_count": 7,
   "metadata": {},
   "outputs": [
    {
     "data": {
      "text/plain": [
       "array([7, 2, 1, 0, 4, 1, 4, 9, 5, 9], dtype=int64)"
      ]
     },
     "execution_count": 7,
     "metadata": {},
     "output_type": "execute_result"
    }
   ],
   "source": [
    "# 由于pred预测结果是one-hot编码格式，所以需要转换为0~9数字\n",
    "\n",
    "prediction_result = sess.run(tf.argmax(pred, 1), feed_dict={x: mnist.test.images})\n",
    "\n",
    "# 查看预测结果中的前10项\n",
    "prediction_result[0:10]\n"
   ]
  },
  {
   "cell_type": "code",
   "execution_count": 8,
   "metadata": {},
   "outputs": [
    {
     "data": {
      "image/png": "[encoded data removed]",
      "text/plain": [
       "<Figure size 720x864 with 10 Axes>"
      ]
     },
     "metadata": {},
     "output_type": "display_data"
    }
   ],
   "source": [
    "import matplotlib.pyplot as plt\n",
    "import numpy as np\n",
    "\n",
    "\n",
    "def plot_images_labels_prediction(\n",
    "    images,  # 图像列表\n",
    "    labels,  # 标签列表\n",
    "    prediction,  # 预测值列表\n",
    "    index,  # 从第index个开始显示\n",
    "    num=10,\n",
    "):  # 缺省一次显示 10 幅\n",
    "    fig = plt.gcf()  # 获取当前图表，Get Current Figure\n",
    "    fig.set_size_inches(10, 12)  # 1英寸等于 2.54 cm\n",
    "    if num > 25:\n",
    "        num = 25  # 最多显示25个子图\n",
    "    for i in range(0, num):\n",
    "        ax = plt.subplot(5, 5, i + 1)  # 获取当前要处理的子图\n",
    "\n",
    "        ax.imshow(\n",
    "            np.reshape(images[index], (28, 28)),  # 显示第index个图像\n",
    "            cmap=\"binary\",\n",
    "        )\n",
    "\n",
    "        title = \"label=\" + str(np.argmax(labels[index]))  # 构建该图上要显示的title信息\n",
    "        if len(prediction) > 0:\n",
    "            title += \",predict=\" + str(prediction[index])\n",
    "\n",
    "        ax.set_title(title, fontsize=10)  # 显示图上的title信息\n",
    "        ax.set_xticks([])  # 不显示坐标轴\n",
    "        ax.set_yticks([])\n",
    "        index += 1\n",
    "    plt.show()\n",
    "\n",
    "\n",
    "plot_images_labels_prediction(\n",
    "    mnist.test.images, mnist.test.labels, prediction_result, 0, 10\n",
    ")\n"
   ]
  },
  {
   "cell_type": "code",
   "execution_count": 9,
   "metadata": {},
   "outputs": [
    {
     "name": "stdout",
     "output_type": "stream",
     "text": [
      "[ True  True  True ...  True  True  True]\n"
     ]
    }
   ],
   "source": [
    "compare_lists = prediction_result == np.argmax(mnist.test.labels, 1)\n",
    "print(compare_lists)\n"
   ]
  },
  {
   "cell_type": "code",
   "execution_count": 10,
   "metadata": {},
   "outputs": [
    {
     "name": "stdout",
     "output_type": "stream",
     "text": [
      "[124, 233, 241, 247, 259, 277, 321, 326, 340, 391, 404, 417, 435, 445, 447, 448, 449, 495, 582, 583, 645, 646, 659, 674, 684, 691, 707, 839, 844, 947, 951, 956, 965, 1014, 1039, 1044, 1082, 1092, 1101, 1112, 1156, 1178, 1182, 1202, 1226, 1232, 1247, 1319, 1364, 1393, 1414, 1425, 1500, 1522, 1530, 1549, 1553, 1609, 1626, 1681, 1709, 1717, 1748, 1782, 1790, 1850, 1901, 1903, 1910, 1941, 1952, 1955, 1968, 1969, 1973, 2035, 2052, 2053, 2056, 2070, 2093, 2098, 2109, 2118, 2125, 2129, 2130, 2135, 2162, 2182, 2224, 2272, 2293, 2358, 2369, 2387, 2395, 2405, 2447, 2462, 2488, 2582, 2597, 2648, 2654, 2720, 2743, 2810, 2829, 2877, 2896, 2917, 2921, 2927, 2939, 2945, 3012, 3060, 3073, 3102, 3117, 3130, 3172, 3218, 3225, 3289, 3384, 3422, 3475, 3490, 3503, 3511, 3520, 3549, 3558, 3559, 3567, 3580, 3597, 3604, 3629, 3662, 3767, 3780, 3782, 3808, 3811, 3818, 3838, 3853, 3871, 3893, 3902, 3906, 3941, 3951, 3985, 4000, 4017, 4027, 4065, 4075, 4078, 4102, 4140, 4163, 4176, 4201, 4205, 4224, 4248, 4255, 4265, 4289, 4360, 4374, 4497, 4536, 4547, 4567, 4601, 4619, 4635, 4639, 4699, 4731, 4740, 4761, 4807, 4814, 4823, 4833, 4874, 4890, 4956, 4978, 4990, 5068, 5140, 5288, 5298, 5331, 5457, 5586, 5642, 5734, 5749, 5888, 5922, 5936, 5937, 5955, 5972, 5973, 5981, 5997, 6011, 6028, 6059, 6065, 6166, 6347, 6421, 6542, 6555, 6564, 6571, 6574, 6576, 6597, 6625, 6740, 6755, 6783, 7216, 7233, 7243, 7338, 7339, 7545, 7552, 7823, 7847, 7849, 7856, 7899, 7928, 8010, 8061, 8094, 8095, 8106, 8115, 8246, 8277, 8325, 8406, 8453, 8456, 8486, 8502, 8522, 8527, 9009, 9015, 9019, 9022, 9024, 9192, 9202, 9394, 9422, 9587, 9634, 9642, 9664, 9669, 9698, 9701, 9719, 9729, 9745, 9755, 9764, 9767, 9783, 9792, 9793, 9839, 9980] 290\n"
     ]
    }
   ],
   "source": [
    "err_lists = [i for i in range(len(compare_lists)) if compare_lists[i] == False]\n",
    "print(err_lists, len(err_lists))\n"
   ]
  },
  {
   "cell_type": "code",
   "execution_count": 11,
   "metadata": {},
   "outputs": [],
   "source": [
    "# 定义一个输出错误分类的函数\n",
    "import numpy as np\n",
    "\n",
    "\n",
    "def print_predict_errs(\n",
    "    labels,  # 标签列表\n",
    "    prediction,\n",
    "):  # 预测值列表\n",
    "    count = 0\n",
    "    compare_lists = prediction == np.argmax(labels, 1)\n",
    "    err_lists = [i for i in range(len(compare_lists)) if compare_lists[i] == False]\n",
    "    for x in err_lists:\n",
    "        print(\n",
    "            \"index=\" + str(x) + \" 标签值=\",\n",
    "            np.argmax(labels[x]),\n",
    "            \"预测值=\",\n",
    "            prediction[x],\n",
    "        )\n",
    "        count = count + 1\n",
    "    print(\"总计:\" + str(count))\n"
   ]
  },
  {
   "cell_type": "code",
   "execution_count": null,
   "metadata": {},
   "outputs": [],
   "source": [
    "print_predict_errs(labels=mnist.test.labels, prediction=prediction_result)\n"
   ]
  },
  {
   "cell_type": "code",
   "execution_count": 13,
   "metadata": {},
   "outputs": [
    {
     "data": {
      "image/png": "[encoded data removed]",
      "text/plain": [
       "<Figure size 720x864 with 10 Axes>"
      ]
     },
     "metadata": {},
     "output_type": "display_data"
    }
   ],
   "source": [
    "plot_images_labels_prediction(\n",
    "    mnist.test.images, mnist.test.labels, prediction_result, 460, 10\n",
    ")\n"
   ]
  },
  {
   "cell_type": "code",
   "execution_count": null,
   "metadata": {},
   "outputs": [],
   "source": []
  }
 ],
 "metadata": {
  "kernelspec": {
   "display_name": "tf1",
   "language": "python",
   "name": "python3"
  },
  "language_info": {
   "codemirror_mode": {
    "name": "ipython",
    "version": 3
   },
   "file_extension": ".py",
   "mimetype": "text/x-python",
   "name": "python",
   "nbconvert_exporter": "python",
   "pygments_lexer": "ipython3",
   "version": "3.6.13"
  }
 },
 "nbformat": 4,
 "nbformat_minor": 2
}
