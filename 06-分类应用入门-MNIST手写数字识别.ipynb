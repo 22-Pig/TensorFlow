{
 "cells": [
  {
   "cell_type": "markdown",
   "metadata": {},
   "source": [
    "## 数据集下载"
   ]
  },
  {
   "cell_type": "code",
   "execution_count": null,
   "metadata": {},
   "outputs": [],
   "source": [
    "import tensorflow as tf\n",
    "import tensorflow_core.examples.tutorials.mnist.input_data as input_data\n",
    "\n",
    "mnist = input_data.read_data_sets(\"/data/MNIST_data/\", one_hot=True)\n",
    "\n",
    "print(\n",
    "    \"训练集 train 数量：\",\n",
    "    mnist.train.num_examples,\n",
    "    \",验证集 validation 数量：\",\n",
    "    mnist.validation.num_examples,\n",
    "    \",测试集 test 数量：\",\n",
    "    mnist.test.num_examples,\n",
    ")\n"
   ]
  },
  {
   "cell_type": "code",
   "execution_count": null,
   "metadata": {},
   "outputs": [],
   "source": [
    "print(\n",
    "    \"train images shape:\",\n",
    "    mnist.train.images.shape,\n",
    "    \"labels shaple:\",\n",
    "    mnist.train.labels.shape,\n",
    ")\n"
   ]
  },
  {
   "cell_type": "code",
   "execution_count": null,
   "metadata": {},
   "outputs": [],
   "source": [
    "len(mnist.train.images[0])\n"
   ]
  },
  {
   "cell_type": "code",
   "execution_count": null,
   "metadata": {},
   "outputs": [],
   "source": [
    "mnist.train.images[0].shape\n"
   ]
  },
  {
   "cell_type": "code",
   "execution_count": null,
   "metadata": {},
   "outputs": [],
   "source": [
    "mnist.train.images[0]\n"
   ]
  },
  {
   "cell_type": "code",
   "execution_count": null,
   "metadata": {},
   "outputs": [],
   "source": [
    "mnist.train.images[0].reshape(28, 28)\n"
   ]
  },
  {
   "cell_type": "code",
   "execution_count": null,
   "metadata": {},
   "outputs": [],
   "source": [
    "import matplotlib.pyplot as plt\n",
    "\n",
    "\n",
    "def plot_image(image):\n",
    "    plt.imshow(image.reshape(28, 28), cmap=\"binary\")\n",
    "    plt.show()\n",
    "\n",
    "\n",
    "plot_image(mnist.train.images[0])"
   ]
  },
  {
   "cell_type": "code",
   "execution_count": null,
   "metadata": {},
   "outputs": [],
   "source": [
    "import numpy as np\n",
    "\n",
    "int_array = np.array([i for i in range(64)])\n",
    "print(int_array)"
   ]
  },
  {
   "cell_type": "code",
   "execution_count": null,
   "metadata": {},
   "outputs": [],
   "source": [
    "int_array.reshape(8, 8)\n"
   ]
  },
  {
   "cell_type": "code",
   "execution_count": null,
   "metadata": {},
   "outputs": [],
   "source": [
    "int_array.reshape(4, 16)\n"
   ]
  },
  {
   "cell_type": "code",
   "execution_count": null,
   "metadata": {},
   "outputs": [],
   "source": [
    "plt.imshow(mnist.train.images[20000].reshape(14, 56), cmap=\"binary\")\n",
    "plt.show()\n"
   ]
  },
  {
   "cell_type": "code",
   "execution_count": null,
   "metadata": {},
   "outputs": [],
   "source": [
    "plt.imshow(mnist.train.images[20000].reshape(7, 112), cmap=\"binary\")\n",
    "plt.show()\n"
   ]
  },
  {
   "cell_type": "code",
   "execution_count": null,
   "metadata": {},
   "outputs": [],
   "source": [
    "mnist.train.labels[1]"
   ]
  },
  {
   "cell_type": "code",
   "execution_count": null,
   "metadata": {},
   "outputs": [],
   "source": [
    "import numpy as np\n",
    "\n",
    "np.argmax(mnist.train.labels[1])\n"
   ]
  },
  {
   "cell_type": "code",
   "execution_count": null,
   "metadata": {},
   "outputs": [],
   "source": [
    "mnist_no_one_hot = input_data.read_data_sets(\"/data/MNIST_data/\", one_hot=False)\n",
    "\n",
    "print(mnist_no_one_hot.train.labels[0:10])"
   ]
  },
  {
   "cell_type": "code",
   "execution_count": null,
   "metadata": {},
   "outputs": [],
   "source": [
    "print(mnist.train.images[0:10])\n",
    "\n",
    "print(mnist.train.labels[0:10])"
   ]
  },
  {
   "cell_type": "markdown",
   "metadata": {},
   "source": [
    "数据的批量读取\n",
    "它是针对专门的模型训练所提供的方法，所以在next_batch 内部实现时会对数据集先做一个shuffle， 即洗牌，把数据都打乱。"
   ]
  },
  {
   "cell_type": "code",
   "execution_count": null,
   "metadata": {},
   "outputs": [],
   "source": [
    "batch_images_xs, batch_labels_ys = mnist.train.next_batch(batch_size=10)\n",
    "\n",
    "print(batch_images_xs.shape, batch_labels_ys.shape)\n",
    "\n",
    "print(batch_images_xs)\n",
    "print(batch_labels_ys)\n",
    "\n",
    "batch_images_xs, batch_labels_ys = mnist.train.next_batch(batch_size=10)\n",
    "print(batch_labels_ys)\n"
   ]
  },
  {
   "cell_type": "code",
   "execution_count": null,
   "metadata": {},
   "outputs": [],
   "source": [
    "print(\n",
    "    \"validation images:\",\n",
    "    mnist.validation.images.shape,\n",
    "    \"labels:\",\n",
    "    mnist.validation.labels.shape,\n",
    ")\n"
   ]
  },
  {
   "cell_type": "code",
   "execution_count": null,
   "metadata": {},
   "outputs": [],
   "source": [
    "print(\"test images:\", mnist.test.images.shape, \"labels:\", mnist.test.labels.shape)"
   ]
  },
  {
   "cell_type": "markdown",
   "metadata": {},
   "source": [
    "argmax()用法.py"
   ]
  },
  {
   "cell_type": "code",
   "execution_count": 20,
   "metadata": {},
   "outputs": [
    {
     "name": "stdout",
     "output_type": "stream",
     "text": [
      "arr1= [1 3 2 5 7 0]\n",
      "arr2=\n",
      " [[1. 2. 3.]\n",
      " [3. 2. 1.]\n",
      " [4. 7. 2.]\n",
      " [8. 3. 2.]]\n",
      "4\n",
      "[3 2 0]\n",
      "[2 0 1 0]\n",
      "[2 0 1 0]\n",
      "[[0.09003057 0.24472847 0.66524096]\n",
      " [0.66524096 0.24472847 0.09003057]\n",
      " [0.04712342 0.94649912 0.00637746]\n",
      " [0.99086747 0.00667641 0.00245611]]\n",
      "[[8.88803760e-04 6.53033756e-03 5.34446645e-01]\n",
      " [6.56742084e-03 6.53033756e-03 7.23294881e-02]\n",
      " [1.78521007e-02 9.69188027e-01 1.96611933e-01]\n",
      " [9.74691675e-01 1.77512979e-02 1.96611933e-01]]\n",
      "[[0.09003057 0.24472847 0.66524096]\n",
      " [0.66524096 0.24472847 0.09003057]\n",
      " [0.04712342 0.94649912 0.00637746]\n",
      " [0.99086747 0.00667641 0.00245611]]\n"
     ]
    }
   ],
   "source": [
    "import tensorflow as tf\n",
    "import numpy as np\n",
    "\n",
    "arr1 = np.array([1, 3, 2, 5, 7, 0])\n",
    "arr2 = np.array([[1.0, 2, 3], [3, 2, 1], [4, 7, 2], [8, 3, 2]])\n",
    "print(\"arr1=\", arr1)\n",
    "print(\"arr2=\\n\", arr2)\n",
    "\n",
    "argmax_1 = tf.argmax(arr1)\n",
    "argmax_20 = tf.argmax(\n",
    "    arr2, 0\n",
    ")  # 指定第二个参数为0，按第一维（行）的元素取值，即同列的每一行\n",
    "argmax_21 = tf.argmax(\n",
    "    arr2, 1\n",
    ")  # 指定第二个参数为1，则第二维（列）的元素取值，即同行的每一列\n",
    "argmax_22 = tf.argmax(arr2, -1)  # 指定第二个参数为-1，则第最后维的元素取值\n",
    "\n",
    "with tf.Session() as sess:\n",
    "    print(argmax_1.eval())\n",
    "    print(argmax_20.eval())\n",
    "    print(argmax_21.eval())\n",
    "    print(argmax_22.eval())\n",
    "\n",
    "with tf.Session() as sess:\n",
    "    print(tf.nn.softmax(arr2).eval())\n",
    "    print(tf.nn.softmax(arr2, 0).eval())\n",
    "    print(tf.nn.softmax(arr2, 1).eval())\n"
   ]
  },
  {
   "cell_type": "markdown",
   "metadata": {},
   "source": [
    "了解 tf.random_normal.py"
   ]
  },
  {
   "cell_type": "code",
   "execution_count": 21,
   "metadata": {},
   "outputs": [
    {
     "name": "stdout",
     "output_type": "stream",
     "text": [
      "[ 1.2743005   0.787386    0.84657717 -0.47701612 -0.4029044   1.6520668\n",
      "  1.1465226  -0.58316964  0.23539265  0.87146825]\n"
     ]
    },
    {
     "data": {
      "image/png": "[encoded data removed]",
      "text/plain": [
       "<Figure size 432x288 with 1 Axes>"
      ]
     },
     "metadata": {
      "needs_background": "light"
     },
     "output_type": "display_data"
    }
   ],
   "source": [
    "norm = tf.random_normal([100])  # 生成100个随机数\n",
    "with tf.Session() as sess:\n",
    "    norm_data = norm.eval()\n",
    "print(norm_data[:10])  # 打印前10个随机数\n",
    "\n",
    "import matplotlib.pyplot as plt\n",
    "\n",
    "plt.hist(norm_data)\n",
    "plt.show()\n"
   ]
  },
  {
   "cell_type": "markdown",
   "metadata": {},
   "source": [
    "# 分类模型构建与训练"
   ]
  },
  {
   "cell_type": "markdown",
   "metadata": {},
   "source": [
    "## 模型构建"
   ]
  },
  {
   "cell_type": "code",
   "execution_count": 22,
   "metadata": {},
   "outputs": [
    {
     "name": "stdout",
     "output_type": "stream",
     "text": [
      "Extracting /data/MNIST_data/train-images-idx3-ubyte.gz\n",
      "Extracting /data/MNIST_data/train-labels-idx1-ubyte.gz\n",
      "Extracting /data/MNIST_data/t10k-images-idx3-ubyte.gz\n",
      "Extracting /data/MNIST_data/t10k-labels-idx1-ubyte.gz\n"
     ]
    }
   ],
   "source": [
    "import tensorflow as tf\n",
    "from tensorflow.examples.tutorials.mnist import input_data\n",
    "\n",
    "mnist = input_data.read_data_sets(\"/data/MNIST_data/\", one_hot=True)\n"
   ]
  },
  {
   "cell_type": "code",
   "execution_count": 23,
   "metadata": {},
   "outputs": [],
   "source": [
    "# 定义x和y的占位符\n",
    "# mnist 中每张图片共有28*28=784个像素点\n",
    "x = tf.placeholder(tf.float32, [None, 784], name=\"X\") \n",
    "\n",
    "# 0-9 一共10个数字=> 10 个类别\n",
    "y = tf.placeholder(tf.float32, [None, 10], name=\"Y\")  \n",
    "\n",
    "# 定义变量\n",
    "W = tf.Variable(tf.random_normal([784, 10]),name=\"W\")\n",
    "b = tf.Variable(tf.zeros([10]),name=\"b\") \n",
    "\n",
    "forward=tf.matmul(x, W) + b # 前向计算\n",
    "\n",
    "pred = tf.nn.softmax(forward) # Softmax分类"
   ]
  },
  {
   "cell_type": "markdown",
   "metadata": {},
   "source": [
    "## 训练模型"
   ]
  },
  {
   "cell_type": "code",
   "execution_count": 24,
   "metadata": {},
   "outputs": [],
   "source": [
    "# 设置训练参数\n",
    "train_epochs = 50  # 训练轮数\n",
    "batch_size = 100  # 单次训练样本数（批次大小）\n",
    "total_batch = int(mnist.train.num_examples / batch_size)  # 一轮训练有多少批次\n",
    "display_step = 1  # 显示粒度\n",
    "learning_rate = 0.01  # 学习率\n",
    "\n",
    "# 定义交叉熵损失函数\n",
    "loss_function = tf.reduce_mean(-tf.reduce_sum(y * tf.log(pred), reduction_indices=1))\n",
    "\n",
    "# 梯度下降优化器\n",
    "optimizer = tf.train.GradientDescentOptimizer(learning_rate).minimize(loss_function)\n",
    "\n",
    "# 定义准确率\n",
    "# 检查预测类别tf.argmax(pred, 1)与实际类别tf.argmax(y, 1)的匹配情况\n",
    "correct_prediction = tf.equal(tf.argmax(pred, 1), tf.argmax(y, 1))\n",
    "# 准确率，将布尔值转化为浮点数，并计算平均值\n",
    "accuracy = tf.reduce_mean(tf.cast(correct_prediction, tf.float32))\n",
    "\n",
    "sess = tf.Session()  # 声明会话\n",
    "init = tf.global_variables_initializer()  # 变量初始化\n",
    "sess.run(init)\n"
   ]
  },
  {
   "cell_type": "code",
   "execution_count": 25,
   "metadata": {},
   "outputs": [
    {
     "name": "stdout",
     "output_type": "stream",
     "text": [
      "Train Epoch: 01 Loss= 6.384902954  Accuracy= 0.2262\n",
      "Train Epoch: 02 Loss= 3.979636669  Accuracy= 0.4076\n",
      "Train Epoch: 03 Loss= 2.946542025  Accuracy= 0.5126\n",
      "Train Epoch: 04 Loss= 2.397297621  Accuracy= 0.5776\n",
      "Train Epoch: 05 Loss= 2.057711601  Accuracy= 0.6238\n",
      "Train Epoch: 06 Loss= 1.829461575  Accuracy= 0.6558\n",
      "Train Epoch: 07 Loss= 1.661448479  Accuracy= 0.6840\n",
      "Train Epoch: 08 Loss= 1.536069632  Accuracy= 0.6986\n",
      "Train Epoch: 09 Loss= 1.435309172  Accuracy= 0.7192\n",
      "Train Epoch: 10 Loss= 1.353301883  Accuracy= 0.7322\n",
      "Train Epoch: 11 Loss= 1.284931540  Accuracy= 0.7436\n",
      "Train Epoch: 12 Loss= 1.227354884  Accuracy= 0.7522\n",
      "Train Epoch: 13 Loss= 1.178907156  Accuracy= 0.7630\n",
      "Train Epoch: 14 Loss= 1.134232283  Accuracy= 0.7722\n",
      "Train Epoch: 15 Loss= 1.095933557  Accuracy= 0.7794\n",
      "Train Epoch: 16 Loss= 1.062056065  Accuracy= 0.7850\n",
      "Train Epoch: 17 Loss= 1.030964494  Accuracy= 0.7916\n",
      "Train Epoch: 18 Loss= 1.003479481  Accuracy= 0.7964\n",
      "Train Epoch: 19 Loss= 0.978710175  Accuracy= 0.8006\n",
      "Train Epoch: 20 Loss= 0.954963207  Accuracy= 0.8056\n",
      "Train Epoch: 21 Loss= 0.933580279  Accuracy= 0.8096\n",
      "Train Epoch: 22 Loss= 0.914251149  Accuracy= 0.8124\n",
      "Train Epoch: 23 Loss= 0.895761549  Accuracy= 0.8140\n",
      "Train Epoch: 24 Loss= 0.879025102  Accuracy= 0.8154\n",
      "Train Epoch: 25 Loss= 0.863102555  Accuracy= 0.8172\n",
      "Train Epoch: 26 Loss= 0.848945916  Accuracy= 0.8188\n",
      "Train Epoch: 27 Loss= 0.835095108  Accuracy= 0.8212\n",
      "Train Epoch: 28 Loss= 0.821619928  Accuracy= 0.8238\n",
      "Train Epoch: 29 Loss= 0.809332252  Accuracy= 0.8262\n",
      "Train Epoch: 30 Loss= 0.797575474  Accuracy= 0.8290\n",
      "Train Epoch: 31 Loss= 0.786996186  Accuracy= 0.8308\n",
      "Train Epoch: 32 Loss= 0.776474237  Accuracy= 0.8324\n",
      "Train Epoch: 33 Loss= 0.766410410  Accuracy= 0.8334\n",
      "Train Epoch: 34 Loss= 0.757568836  Accuracy= 0.8346\n",
      "Train Epoch: 35 Loss= 0.748444438  Accuracy= 0.8358\n",
      "Train Epoch: 36 Loss= 0.739527583  Accuracy= 0.8370\n",
      "Train Epoch: 37 Loss= 0.731404245  Accuracy= 0.8376\n",
      "Train Epoch: 38 Loss= 0.723311543  Accuracy= 0.8390\n",
      "Train Epoch: 39 Loss= 0.716157556  Accuracy= 0.8398\n",
      "Train Epoch: 40 Loss= 0.708540797  Accuracy= 0.8410\n",
      "Train Epoch: 41 Loss= 0.701646268  Accuracy= 0.8424\n",
      "Train Epoch: 42 Loss= 0.695200562  Accuracy= 0.8428\n",
      "Train Epoch: 43 Loss= 0.688876510  Accuracy= 0.8444\n",
      "Train Epoch: 44 Loss= 0.682865918  Accuracy= 0.8446\n",
      "Train Epoch: 45 Loss= 0.676657736  Accuracy= 0.8466\n",
      "Train Epoch: 46 Loss= 0.670980155  Accuracy= 0.8472\n",
      "Train Epoch: 47 Loss= 0.665545464  Accuracy= 0.8490\n",
      "Train Epoch: 48 Loss= 0.660128713  Accuracy= 0.8498\n",
      "Train Epoch: 49 Loss= 0.654989302  Accuracy= 0.8504\n",
      "Train Epoch: 50 Loss= 0.650274098  Accuracy= 0.8512\n",
      "Train Finished!\n"
     ]
    }
   ],
   "source": [
    "# 开始训练\n",
    "for epoch in range(train_epochs):\n",
    "    for batch in range(total_batch):\n",
    "        xs, ys = mnist.train.next_batch(batch_size)  # 读取批次数据\n",
    "        sess.run(optimizer, feed_dict={x: xs, y: ys})  # 执行批次训练\n",
    "\n",
    "    # total_batch个批次训练完成后，使用验证数据计算误差与准确率；验证集没有分批\n",
    "    loss, acc = sess.run(\n",
    "        [loss_function, accuracy],\n",
    "        feed_dict={x: mnist.validation.images, y: mnist.validation.labels},\n",
    "    )\n",
    "    # 打印训练过程中的详细信息\n",
    "    if (epoch + 1) % display_step == 0:\n",
    "        print(\n",
    "            \"Train Epoch:\",\n",
    "            \"%02d\" % (epoch + 1),\n",
    "            \"Loss=\",\n",
    "            \"{:.9f}\".format(loss),\n",
    "            \" Accuracy=\",\n",
    "            \"{:.4f}\".format(acc),\n",
    "        )\n",
    "\n",
    "print(\"Train Finished!\")\n"
   ]
  },
  {
   "cell_type": "markdown",
   "metadata": {},
   "source": [
    "## 评估模型"
   ]
  },
  {
   "cell_type": "code",
   "execution_count": 27,
   "metadata": {},
   "outputs": [
    {
     "name": "stdout",
     "output_type": "stream",
     "text": [
      "Test Accuracy: 0.8599\n",
      "Validate Accuracy: 0.8512\n",
      "Train Accuracy: 0.8510909\n"
     ]
    }
   ],
   "source": [
    "# 测试集\n",
    "accu_test = sess.run(accuracy, feed_dict={x: mnist.test.images, y: mnist.test.labels})\n",
    "\n",
    "print(\"Test Accuracy:\", accu_test)\n",
    "\n",
    "# 验证集\n",
    "accu_validation = sess.run(\n",
    "    accuracy, feed_dict={x: mnist.validation.images, y: mnist.validation.labels}\n",
    ")\n",
    "\n",
    "print(\"Validate Accuracy:\", accu_validation)\n",
    "\n",
    "# 训练集\n",
    "accu_train = sess.run(\n",
    "    accuracy, feed_dict={x: mnist.train.images, y: mnist.train.labels}\n",
    ")\n",
    "\n",
    "print(\"Train Accuracy:\", accu_train)\n"
   ]
  },
  {
   "cell_type": "markdown",
   "metadata": {},
   "source": [
    "## 进行预测"
   ]
  },
  {
   "cell_type": "code",
   "execution_count": 29,
   "metadata": {},
   "outputs": [],
   "source": [
    "# 由于pred预测结果是one-hot编码格式，所以需要转换为0~9数字\n",
    "prediction_result = sess.run(tf.argmax(pred, 1), feed_dict={x: mnist.test.images})\n"
   ]
  },
  {
   "cell_type": "code",
   "execution_count": 30,
   "metadata": {},
   "outputs": [
    {
     "data": {
      "text/plain": [
       "array([7, 2, 1, 0, 4, 1, 4, 4, 6, 9], dtype=int64)"
      ]
     },
     "execution_count": 30,
     "metadata": {},
     "output_type": "execute_result"
    }
   ],
   "source": [
    "# 查看预测结果中的前10项\n",
    "prediction_result[0:10]\n"
   ]
  },
  {
   "cell_type": "code",
   "execution_count": 31,
   "metadata": {},
   "outputs": [
    {
     "data": {
      "text/plain": [
       "array([[0., 0., 0., 0., 1., 0., 0., 0., 0., 0.],\n",
       "       [0., 1., 0., 0., 0., 0., 0., 0., 0., 0.],\n",
       "       [0., 0., 0., 0., 0., 1., 0., 0., 0., 0.],\n",
       "       [1., 0., 0., 0., 0., 0., 0., 0., 0., 0.],\n",
       "       [0., 0., 0., 1., 0., 0., 0., 0., 0., 0.],\n",
       "       [0., 0., 1., 0., 0., 0., 0., 0., 0., 0.],\n",
       "       [0., 0., 0., 0., 0., 0., 1., 0., 0., 0.],\n",
       "       [0., 0., 0., 0., 0., 0., 0., 0., 0., 1.],\n",
       "       [0., 0., 0., 0., 0., 0., 0., 0., 1., 0.],\n",
       "       [1., 0., 0., 0., 0., 0., 0., 0., 0., 0.]])"
      ]
     },
     "execution_count": 31,
     "metadata": {},
     "output_type": "execute_result"
    }
   ],
   "source": [
    "mnist.train.labels[0:10]"
   ]
  },
  {
   "cell_type": "markdown",
   "metadata": {},
   "source": [
    "## 定义可视化函数"
   ]
  },
  {
   "cell_type": "code",
   "execution_count": 32,
   "metadata": {},
   "outputs": [
    {
     "data": {
      "image/png": "[encoded data removed]",
      "text/plain": [
       "<Figure size 720x864 with 25 Axes>"
      ]
     },
     "metadata": {},
     "output_type": "display_data"
    }
   ],
   "source": [
    "import matplotlib.pyplot as plt\n",
    "import numpy as np\n",
    "\n",
    "\n",
    "def plot_images_labels_prediction(\n",
    "    images,  # 图像列表\n",
    "    labels,  # 标签列表\n",
    "    prediction,  # 预测值列表\n",
    "    index,  # 从第index个开始显示\n",
    "    num=10,\n",
    "):  # 缺省一次显示 10 幅\n",
    "    fig = plt.gcf()  # 获取当前图表，Get Current Figure\n",
    "    fig.set_size_inches(10, 12)  # 1英寸等于 2.54 cm\n",
    "    if num > 25:\n",
    "        num = 25  # 最多显示25个子图\n",
    "    for i in range(0, num):\n",
    "        ax = plt.subplot(5, 5, i + 1)  # 获取当前要处理的子图\n",
    "\n",
    "        ax.imshow(\n",
    "            np.reshape(images[index], (28, 28)),  # 显示第index个图像\n",
    "            cmap=\"binary\",\n",
    "        )\n",
    "\n",
    "        title = \"label=\" + str(np.argmax(labels[index]))  # 构建该图上要显示的title信息\n",
    "        if len(prediction) > 0:\n",
    "            title += \",predict=\" + str(prediction[index])\n",
    "\n",
    "        ax.set_title(title, fontsize=10)  # 显示图上的title信息\n",
    "        ax.set_xticks([])  # 不显示坐标轴\n",
    "        ax.set_yticks([])\n",
    "        index += 1\n",
    "    plt.show()\n",
    "\n",
    "\n",
    "plot_images_labels_prediction(\n",
    "    mnist.test.images, mnist.test.labels, prediction_result, 10, 25\n",
    ")\n"
   ]
  },
  {
   "cell_type": "code",
   "execution_count": null,
   "metadata": {},
   "outputs": [],
   "source": []
  }
 ],
 "metadata": {
  "kernelspec": {
   "display_name": "tf1",
   "language": "python",
   "name": "python3"
  },
  "language_info": {
   "codemirror_mode": {
    "name": "ipython",
    "version": 3
   },
   "file_extension": ".py",
   "mimetype": "text/x-python",
   "name": "python",
   "nbconvert_exporter": "python",
   "pygments_lexer": "ipython3",
   "version": "3.6.13"
  }
 },
 "nbformat": 4,
 "nbformat_minor": 2
}
