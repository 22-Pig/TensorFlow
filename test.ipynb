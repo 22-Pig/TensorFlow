{
 "cells": [
  {
   "cell_type": "code",
   "execution_count": 1,
   "metadata": {},
   "outputs": [
    {
     "name": "stdout",
     "output_type": "stream",
     "text": [
      "WARNING:tensorflow:Deprecation warnings have been disabled. Set TF_ENABLE_DEPRECATION_WARNINGS=1 to re-enable them.\n"
     ]
    },
    {
     "name": "stderr",
     "output_type": "stream",
     "text": [
      "WARNING:root:Limited tf.compat.v2.summary API due to missing TensorBoard installation.\n"
     ]
    },
    {
     "name": "stdout",
     "output_type": "stream",
     "text": [
      "tf version: 1.15.4 \n",
      "use GPU: True\n"
     ]
    },
    {
     "data": {
      "text/plain": [
       "True"
      ]
     },
     "execution_count": 1,
     "metadata": {},
     "output_type": "execute_result"
    }
   ],
   "source": [
    "import tensorflow as tf\n",
    "\n",
    "version = tf.__version__  # 输出tensorflow版本\n",
    "gpu_ok = tf.test.is_gpu_available()  # 输出gpu可否使用（True/False）\n",
    "print(\"tf version:\", version, \"\\nuse GPU:\", gpu_ok)\n",
    "tf.test.is_built_with_cuda()  # 判断CUDA是否可用（True/False）"
   ]
  },
  {
   "cell_type": "code",
   "execution_count": 2,
   "metadata": {},
   "outputs": [
    {
     "name": "stdout",
     "output_type": "stream",
     "text": [
      "1.15.4\n",
      "True\n",
      "True\n"
     ]
    }
   ],
   "source": [
    "import tensorflow as tf\n",
    "\n",
    "print(tf.__version__)\n",
    "print(tf.test.is_built_with_cuda())\n",
    "print(tf.test.is_gpu_available(cuda_only=False, min_cuda_compute_capability=None))\n"
   ]
  },
  {
   "cell_type": "code",
   "execution_count": 3,
   "metadata": {},
   "outputs": [
    {
     "name": "stdout",
     "output_type": "stream",
     "text": [
      "TensorFlow 版本: 1.15.4\n",
      "GPU is available\n",
      "WARNING:tensorflow:From C:\\Users\\shaun\\AppData\\Local\\Temp\\ipykernel_36888\\809573710.py:13: The name tf.Session is deprecated. Please use tf.compat.v1.Session instead.\n",
      "\n"
     ]
    },
    {
     "name": "stderr",
     "output_type": "stream",
     "text": [
      "WARNING:tensorflow:From C:\\Users\\shaun\\AppData\\Local\\Temp\\ipykernel_36888\\809573710.py:13: The name tf.Session is deprecated. Please use tf.compat.v1.Session instead.\n",
      "\n"
     ]
    },
    {
     "name": "stdout",
     "output_type": "stream",
     "text": [
      "GPU 测试计算结果: [5. 7. 9.]\n"
     ]
    }
   ],
   "source": [
    "import tensorflow as tf\n",
    "\n",
    "\n",
    "def check_tensorflow_gpu():\n",
    "    print(\"TensorFlow 版本:\", tf.__version__)\n",
    "    if tf.test.is_gpu_available():\n",
    "        print(\"GPU is available\")\n",
    "    else:\n",
    "        print(\"GPU is not available, using CPU\")\n",
    "\n",
    "    # 测试 GPU 上的简单计算\n",
    "    try:\n",
    "        with tf.Session() as sess:\n",
    "            with tf.device(\"/GPU:0\"):\n",
    "                a = tf.constant([1.0, 2.0, 3.0])\n",
    "                b = tf.constant([4.0, 5.0, 6.0])\n",
    "                c = a + b\n",
    "                result = sess.run(c)\n",
    "                print(\"GPU 测试计算结果:\", result)\n",
    "    except RuntimeError as e:\n",
    "        print(f\"GPU 计算错误: {e}\")\n",
    "\n",
    "\n",
    "if __name__ == \"__main__\":\n",
    "    check_tensorflow_gpu()\n"
   ]
  },
  {
   "cell_type": "markdown",
   "metadata": {},
   "source": [
    "## 11 DeepDream"
   ]
  },
  {
   "cell_type": "code",
   "execution_count": null,
   "metadata": {},
   "outputs": [],
   "source": [
    "import tensorflow as tf"
   ]
  },
  {
   "cell_type": "code",
   "execution_count": null,
   "metadata": {},
   "outputs": [],
   "source": [
    "# 图的保存\n",
    "v = tf.Variable(1.0, name=\"my_variable\")\n",
    "with tf.Session() as sess:\n",
    "    tf.train.write_graph(sess.graph_def, \"./tfmodel\", \"test_pb.pb\", as_text=False)\n"
   ]
  },
  {
   "cell_type": "code",
   "execution_count": null,
   "metadata": {},
   "outputs": [],
   "source": [
    "# 图的加载\n",
    "with tf.Session() as sess:\n",
    "    with tf.gfile.FastGFile(\"./tfmodel/test_pb.pb\", \"rb\") as f:\n",
    "        graph_def = tf.GraphDef()\n",
    "        graph_def.ParseFromString(f.read())\n",
    "        sess.graph.as_default()\n",
    "        tf.import_graph_def(graph_def, name=\"tf.graph\")\n",
    "        print(graph_def)\n"
   ]
  }
 ],
 "metadata": {
  "kernelspec": {
   "display_name": "tf1",
   "language": "python",
   "name": "python3"
  },
  "language_info": {
   "codemirror_mode": {
    "name": "ipython",
    "version": 3
   },
   "file_extension": ".py",
   "mimetype": "text/x-python",
   "name": "python",
   "nbconvert_exporter": "python",
   "pygments_lexer": "ipython3",
   "version": "3.8.19"
  }
 },
 "nbformat": 4,
 "nbformat_minor": 2
}
